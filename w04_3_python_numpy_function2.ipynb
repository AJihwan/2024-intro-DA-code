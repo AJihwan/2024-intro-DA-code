{
  "nbformat": 4,
  "nbformat_minor": 0,
  "metadata": {
    "colab": {
      "provenance": [],
      "include_colab_link": true
    },
    "kernelspec": {
      "name": "python3",
      "display_name": "Python 3"
    },
    "language_info": {
      "name": "python"
    }
  },
  "cells": [
    {
      "cell_type": "markdown",
      "metadata": {
        "id": "view-in-github",
        "colab_type": "text"
      },
      "source": [
        "<a href=\"https://colab.research.google.com/github/AJihwan/2024-intro-DA-code/blob/main/w04_3_python_numpy_function2.ipynb\" target=\"_parent\"><img src=\"https://colab.research.google.com/assets/colab-badge.svg\" alt=\"Open In Colab\"/></a>"
      ]
    },
    {
      "cell_type": "markdown",
      "source": [
        "# SECTION 3 내장함수 zeros()와 ones(), empty()"
      ],
      "metadata": {
        "id": "RUOLTgUhSTdx"
      }
    },
    {
      "cell_type": "markdown",
      "source": [
        "## 원소가 모두 0인 배열을 생성하는 zeros()"
      ],
      "metadata": {
        "id": "2cPgi3pDS33h"
      }
    },
    {
      "cell_type": "code",
      "source": [
        "import numpy as np\n",
        "help(np.zeros)"
      ],
      "metadata": {
        "colab": {
          "base_uri": "https://localhost:8080/"
        },
        "id": "RE_ni2x-S6a8",
        "outputId": "b84641b0-17e3-4ca8-8e7d-627495ee591c"
      },
      "execution_count": 1,
      "outputs": [
        {
          "output_type": "stream",
          "name": "stdout",
          "text": [
            "Help on built-in function zeros in module numpy:\n",
            "\n",
            "zeros(...)\n",
            "    zeros(shape, dtype=float, order='C', *, like=None)\n",
            "    \n",
            "    Return a new array of given shape and type, filled with zeros.\n",
            "    \n",
            "    Parameters\n",
            "    ----------\n",
            "    shape : int or tuple of ints\n",
            "        Shape of the new array, e.g., ``(2, 3)`` or ``2``.\n",
            "    dtype : data-type, optional\n",
            "        The desired data-type for the array, e.g., `numpy.int8`.  Default is\n",
            "        `numpy.float64`.\n",
            "    order : {'C', 'F'}, optional, default: 'C'\n",
            "        Whether to store multi-dimensional data in row-major\n",
            "        (C-style) or column-major (Fortran-style) order in\n",
            "        memory.\n",
            "    like : array_like, optional\n",
            "        Reference object to allow the creation of arrays which are not\n",
            "        NumPy arrays. If an array-like passed in as ``like`` supports\n",
            "        the ``__array_function__`` protocol, the result will be defined\n",
            "        by it. In this case, it ensures the creation of an array object\n",
            "        compatible with that passed in via this argument.\n",
            "    \n",
            "        .. versionadded:: 1.20.0\n",
            "    \n",
            "    Returns\n",
            "    -------\n",
            "    out : ndarray\n",
            "        Array of zeros with the given shape, dtype, and order.\n",
            "    \n",
            "    See Also\n",
            "    --------\n",
            "    zeros_like : Return an array of zeros with shape and type of input.\n",
            "    empty : Return a new uninitialized array.\n",
            "    ones : Return a new array setting values to one.\n",
            "    full : Return a new array of given shape filled with value.\n",
            "    \n",
            "    Examples\n",
            "    --------\n",
            "    >>> np.zeros(5)\n",
            "    array([ 0.,  0.,  0.,  0.,  0.])\n",
            "    \n",
            "    >>> np.zeros((5,), dtype=int)\n",
            "    array([0, 0, 0, 0, 0])\n",
            "    \n",
            "    >>> np.zeros((2, 1))\n",
            "    array([[ 0.],\n",
            "           [ 0.]])\n",
            "    \n",
            "    >>> s = (2,2)\n",
            "    >>> np.zeros(s)\n",
            "    array([[ 0.,  0.],\n",
            "           [ 0.,  0.]])\n",
            "    \n",
            "    >>> np.zeros((2,), dtype=[('x', 'i4'), ('y', 'i4')]) # custom dtype\n",
            "    array([(0, 0), (0, 0)],\n",
            "          dtype=[('x', '<i4'), ('y', '<i4')])\n",
            "\n"
          ]
        }
      ]
    },
    {
      "cell_type": "code",
      "source": [
        "import numpy as np\n",
        "\n",
        "a = np.zeros(5)\n",
        "a"
      ],
      "metadata": {
        "colab": {
          "base_uri": "https://localhost:8080/"
        },
        "id": "KlMJcPQsS95T",
        "outputId": "be3f32c1-4b05-4b67-c05a-7d8c901e7e11"
      },
      "execution_count": 2,
      "outputs": [
        {
          "output_type": "execute_result",
          "data": {
            "text/plain": [
              "array([0., 0., 0., 0., 0.])"
            ]
          },
          "metadata": {},
          "execution_count": 2
        }
      ]
    },
    {
      "cell_type": "code",
      "source": [
        "a.dtype\n"
      ],
      "metadata": {
        "colab": {
          "base_uri": "https://localhost:8080/"
        },
        "id": "bJeYSCJ1WHuY",
        "outputId": "68a545c6-fb50-4118-ea4a-fbd5bdb9aaac"
      },
      "execution_count": 3,
      "outputs": [
        {
          "output_type": "execute_result",
          "data": {
            "text/plain": [
              "dtype('float64')"
            ]
          },
          "metadata": {},
          "execution_count": 3
        }
      ]
    },
    {
      "cell_type": "code",
      "source": [
        "np.zeros((5,),dtype=int)"
      ],
      "metadata": {
        "id": "01azvpJvWI6u",
        "colab": {
          "base_uri": "https://localhost:8080/"
        },
        "outputId": "c798090f-4d33-4a72-dc34-bd74b92bc68b"
      },
      "execution_count": 4,
      "outputs": [
        {
          "output_type": "execute_result",
          "data": {
            "text/plain": [
              "array([0, 0, 0, 0, 0])"
            ]
          },
          "metadata": {},
          "execution_count": 4
        }
      ]
    },
    {
      "cell_type": "code",
      "source": [
        "b = np.zeros((2,1))\n",
        "b"
      ],
      "metadata": {
        "colab": {
          "base_uri": "https://localhost:8080/"
        },
        "id": "1STheFmg4OXK",
        "outputId": "cabe748b-e163-405f-f895-067578d8a748"
      },
      "execution_count": 5,
      "outputs": [
        {
          "output_type": "execute_result",
          "data": {
            "text/plain": [
              "array([[0.],\n",
              "       [0.]])"
            ]
          },
          "metadata": {},
          "execution_count": 5
        }
      ]
    },
    {
      "cell_type": "code",
      "source": [
        "b.shape"
      ],
      "metadata": {
        "colab": {
          "base_uri": "https://localhost:8080/"
        },
        "id": "y8lsWF4F4sgM",
        "outputId": "bf0931f0-b5e1-452e-d0f6-0ea514a9fef7"
      },
      "execution_count": 6,
      "outputs": [
        {
          "output_type": "execute_result",
          "data": {
            "text/plain": [
              "(2, 1)"
            ]
          },
          "metadata": {},
          "execution_count": 6
        }
      ]
    },
    {
      "cell_type": "markdown",
      "source": [
        "## 원소가 모두 1인 배열을 생성하는 ones()"
      ],
      "metadata": {
        "id": "USQTSsbT4s_t"
      }
    },
    {
      "cell_type": "code",
      "source": [
        "import numpy as np\n",
        "\n",
        "np.ones((2, 4))"
      ],
      "metadata": {
        "colab": {
          "base_uri": "https://localhost:8080/"
        },
        "id": "wCR9mWDC46j_",
        "outputId": "f1710035-8e44-43f5-dbb8-6d1b4568e9a8"
      },
      "execution_count": 7,
      "outputs": [
        {
          "output_type": "execute_result",
          "data": {
            "text/plain": [
              "array([[1., 1., 1., 1.],\n",
              "       [1., 1., 1., 1.]])"
            ]
          },
          "metadata": {},
          "execution_count": 7
        }
      ]
    },
    {
      "cell_type": "code",
      "source": [
        "import numpy as np\n",
        "\n",
        "np.ones((2,4), dtype=int)"
      ],
      "metadata": {
        "colab": {
          "base_uri": "https://localhost:8080/"
        },
        "id": "yr1Uiv6x4-oo",
        "outputId": "3726ee37-0444-47f7-e2a1-66debacaea85"
      },
      "execution_count": 8,
      "outputs": [
        {
          "output_type": "execute_result",
          "data": {
            "text/plain": [
              "array([[1, 1, 1, 1],\n",
              "       [1, 1, 1, 1]])"
            ]
          },
          "metadata": {},
          "execution_count": 8
        }
      ]
    },
    {
      "cell_type": "markdown",
      "source": [
        "## 대각선 원소가 모두 1인 2차원 배열을 생성하는 eye()"
      ],
      "metadata": {
        "id": "QuN0ad3W5GrK"
      }
    },
    {
      "cell_type": "code",
      "source": [
        "help(np.eye)"
      ],
      "metadata": {
        "colab": {
          "base_uri": "https://localhost:8080/"
        },
        "id": "BSsUB6H95N_Y",
        "outputId": "c36f2a88-0e6a-4400-da75-1ffc72a25de9"
      },
      "execution_count": 9,
      "outputs": [
        {
          "output_type": "stream",
          "name": "stdout",
          "text": [
            "Help on function eye in module numpy:\n",
            "\n",
            "eye(N, M=None, k=0, dtype=<class 'float'>, order='C', *, like=None)\n",
            "    Return a 2-D array with ones on the diagonal and zeros elsewhere.\n",
            "    \n",
            "    Parameters\n",
            "    ----------\n",
            "    N : int\n",
            "      Number of rows in the output.\n",
            "    M : int, optional\n",
            "      Number of columns in the output. If None, defaults to `N`.\n",
            "    k : int, optional\n",
            "      Index of the diagonal: 0 (the default) refers to the main diagonal,\n",
            "      a positive value refers to an upper diagonal, and a negative value\n",
            "      to a lower diagonal.\n",
            "    dtype : data-type, optional\n",
            "      Data-type of the returned array.\n",
            "    order : {'C', 'F'}, optional\n",
            "        Whether the output should be stored in row-major (C-style) or\n",
            "        column-major (Fortran-style) order in memory.\n",
            "    \n",
            "        .. versionadded:: 1.14.0\n",
            "    like : array_like, optional\n",
            "        Reference object to allow the creation of arrays which are not\n",
            "        NumPy arrays. If an array-like passed in as ``like`` supports\n",
            "        the ``__array_function__`` protocol, the result will be defined\n",
            "        by it. In this case, it ensures the creation of an array object\n",
            "        compatible with that passed in via this argument.\n",
            "    \n",
            "        .. versionadded:: 1.20.0\n",
            "    \n",
            "    Returns\n",
            "    -------\n",
            "    I : ndarray of shape (N,M)\n",
            "      An array where all elements are equal to zero, except for the `k`-th\n",
            "      diagonal, whose values are equal to one.\n",
            "    \n",
            "    See Also\n",
            "    --------\n",
            "    identity : (almost) equivalent function\n",
            "    diag : diagonal 2-D array from a 1-D array specified by the user.\n",
            "    \n",
            "    Examples\n",
            "    --------\n",
            "    >>> np.eye(2, dtype=int)\n",
            "    array([[1, 0],\n",
            "           [0, 1]])\n",
            "    >>> np.eye(3, k=1)\n",
            "    array([[0.,  1.,  0.],\n",
            "           [0.,  0.,  1.],\n",
            "           [0.,  0.,  0.]])\n",
            "\n"
          ]
        }
      ]
    },
    {
      "cell_type": "code",
      "source": [
        "import numpy as np\n",
        "\n",
        "np.eye(3)"
      ],
      "metadata": {
        "colab": {
          "base_uri": "https://localhost:8080/"
        },
        "id": "__bHG_Bn5QG3",
        "outputId": "35ec1ce3-e7b0-45d9-f222-9c85bab29681"
      },
      "execution_count": 10,
      "outputs": [
        {
          "output_type": "execute_result",
          "data": {
            "text/plain": [
              "array([[1., 0., 0.],\n",
              "       [0., 1., 0.],\n",
              "       [0., 0., 1.]])"
            ]
          },
          "metadata": {},
          "execution_count": 10
        }
      ]
    },
    {
      "cell_type": "code",
      "source": [
        "np.eye(2, dtype=int)"
      ],
      "metadata": {
        "colab": {
          "base_uri": "https://localhost:8080/"
        },
        "id": "3dP57UU45sSm",
        "outputId": "fb26c1b3-e942-442d-effe-6f0ee2b48abd"
      },
      "execution_count": 11,
      "outputs": [
        {
          "output_type": "execute_result",
          "data": {
            "text/plain": [
              "array([[1, 0],\n",
              "       [0, 1]])"
            ]
          },
          "metadata": {},
          "execution_count": 11
        }
      ]
    },
    {
      "cell_type": "code",
      "source": [
        "np.eye(3,4)"
      ],
      "metadata": {
        "colab": {
          "base_uri": "https://localhost:8080/"
        },
        "id": "rDzpCCoz6BNC",
        "outputId": "81d5c2f5-5d86-4174-9c35-0121465286aa"
      },
      "execution_count": 12,
      "outputs": [
        {
          "output_type": "execute_result",
          "data": {
            "text/plain": [
              "array([[1., 0., 0., 0.],\n",
              "       [0., 1., 0., 0.],\n",
              "       [0., 0., 1., 0.]])"
            ]
          },
          "metadata": {},
          "execution_count": 12
        }
      ]
    },
    {
      "cell_type": "code",
      "source": [
        "a = np.eye(3,4,1)"
      ],
      "metadata": {
        "id": "RxYUNtO66EGa"
      },
      "execution_count": 13,
      "outputs": []
    },
    {
      "cell_type": "code",
      "source": [
        "a = np.eye(3,4,-1)"
      ],
      "metadata": {
        "id": "FP8kOKmj6OJa"
      },
      "execution_count": 14,
      "outputs": []
    },
    {
      "cell_type": "markdown",
      "source": [
        "## 원소가 모두 1인 배열을 생성하는 full()"
      ],
      "metadata": {
        "id": "_knX7Ncl6RzC"
      }
    },
    {
      "cell_type": "code",
      "source": [
        "help(np.full)"
      ],
      "metadata": {
        "colab": {
          "base_uri": "https://localhost:8080/"
        },
        "id": "Kvv3EBeY6ksX",
        "outputId": "a6f95c2b-f59d-451b-cf5a-94559805816e"
      },
      "execution_count": 15,
      "outputs": [
        {
          "output_type": "stream",
          "name": "stdout",
          "text": [
            "Help on function full in module numpy:\n",
            "\n",
            "full(shape, fill_value, dtype=None, order='C', *, like=None)\n",
            "    Return a new array of given shape and type, filled with `fill_value`.\n",
            "    \n",
            "    Parameters\n",
            "    ----------\n",
            "    shape : int or sequence of ints\n",
            "        Shape of the new array, e.g., ``(2, 3)`` or ``2``.\n",
            "    fill_value : scalar or array_like\n",
            "        Fill value.\n",
            "    dtype : data-type, optional\n",
            "        The desired data-type for the array  The default, None, means\n",
            "         ``np.array(fill_value).dtype``.\n",
            "    order : {'C', 'F'}, optional\n",
            "        Whether to store multidimensional data in C- or Fortran-contiguous\n",
            "        (row- or column-wise) order in memory.\n",
            "    like : array_like, optional\n",
            "        Reference object to allow the creation of arrays which are not\n",
            "        NumPy arrays. If an array-like passed in as ``like`` supports\n",
            "        the ``__array_function__`` protocol, the result will be defined\n",
            "        by it. In this case, it ensures the creation of an array object\n",
            "        compatible with that passed in via this argument.\n",
            "    \n",
            "        .. versionadded:: 1.20.0\n",
            "    \n",
            "    Returns\n",
            "    -------\n",
            "    out : ndarray\n",
            "        Array of `fill_value` with the given shape, dtype, and order.\n",
            "    \n",
            "    See Also\n",
            "    --------\n",
            "    full_like : Return a new array with shape of input filled with value.\n",
            "    empty : Return a new uninitialized array.\n",
            "    ones : Return a new array setting values to one.\n",
            "    zeros : Return a new array setting values to zero.\n",
            "    \n",
            "    Examples\n",
            "    --------\n",
            "    >>> np.full((2, 2), np.inf)\n",
            "    array([[inf, inf],\n",
            "           [inf, inf]])\n",
            "    >>> np.full((2, 2), 10)\n",
            "    array([[10, 10],\n",
            "           [10, 10]])\n",
            "    \n",
            "    >>> np.full((2, 2), [1, 2])\n",
            "    array([[1, 2],\n",
            "           [1, 2]])\n",
            "\n"
          ]
        }
      ]
    },
    {
      "cell_type": "code",
      "source": [
        "import numpy as np\n",
        "\n",
        "np.full([2,3],10)"
      ],
      "metadata": {
        "colab": {
          "base_uri": "https://localhost:8080/"
        },
        "id": "Qk5b-NsY6mlS",
        "outputId": "82ef288c-6046-41d1-e594-ddf2dcd38158"
      },
      "execution_count": 16,
      "outputs": [
        {
          "output_type": "execute_result",
          "data": {
            "text/plain": [
              "array([[10, 10, 10],\n",
              "       [10, 10, 10]])"
            ]
          },
          "metadata": {},
          "execution_count": 16
        }
      ]
    },
    {
      "cell_type": "code",
      "source": [
        "np.full([2,3],(1,2,3))"
      ],
      "metadata": {
        "colab": {
          "base_uri": "https://localhost:8080/"
        },
        "id": "n4ysNnBF6qdQ",
        "outputId": "0a59d37f-5844-4619-eecb-e1e6bb020a37"
      },
      "execution_count": 17,
      "outputs": [
        {
          "output_type": "execute_result",
          "data": {
            "text/plain": [
              "array([[1, 2, 3],\n",
              "       [1, 2, 3]])"
            ]
          },
          "metadata": {},
          "execution_count": 17
        }
      ]
    },
    {
      "cell_type": "code",
      "source": [
        "np.full([3,4], range(4))"
      ],
      "metadata": {
        "colab": {
          "base_uri": "https://localhost:8080/"
        },
        "id": "jK-P_L968D2h",
        "outputId": "e7152c50-5308-40e4-9a62-29e5e81680f0"
      },
      "execution_count": 18,
      "outputs": [
        {
          "output_type": "execute_result",
          "data": {
            "text/plain": [
              "array([[0, 1, 2, 3],\n",
              "       [0, 1, 2, 3],\n",
              "       [0, 1, 2, 3]])"
            ]
          },
          "metadata": {},
          "execution_count": 18
        }
      ]
    },
    {
      "cell_type": "code",
      "source": [
        "np.full([4,3],fill_value=np.arange(4).reshape(4,1))\n"
      ],
      "metadata": {
        "colab": {
          "base_uri": "https://localhost:8080/"
        },
        "id": "H0XYiYuY69Xe",
        "outputId": "fc4ad8f6-7fba-43ca-f427-77cab69b3f19"
      },
      "execution_count": 19,
      "outputs": [
        {
          "output_type": "execute_result",
          "data": {
            "text/plain": [
              "array([[0, 0, 0],\n",
              "       [1, 1, 1],\n",
              "       [2, 2, 2],\n",
              "       [3, 3, 3]])"
            ]
          },
          "metadata": {},
          "execution_count": 19
        }
      ]
    },
    {
      "cell_type": "markdown",
      "source": [
        "## 원소가 모두 1인 배열을 생성하는 empty()"
      ],
      "metadata": {
        "id": "jPJHz2Kj7a41"
      }
    },
    {
      "cell_type": "code",
      "source": [
        "import numpy as np\n",
        "\n",
        "np.empty([2,2])"
      ],
      "metadata": {
        "colab": {
          "base_uri": "https://localhost:8080/"
        },
        "id": "-czvduYB8QVA",
        "outputId": "d9afee76-0b23-494b-c97f-8a4a36f37c3e"
      },
      "execution_count": 20,
      "outputs": [
        {
          "output_type": "execute_result",
          "data": {
            "text/plain": [
              "array([[0.0e+000, 4.9e-324],\n",
              "       [9.9e-324, 1.5e-323]])"
            ]
          },
          "metadata": {},
          "execution_count": 20
        }
      ]
    },
    {
      "cell_type": "code",
      "source": [
        "np.empty(3)"
      ],
      "metadata": {
        "colab": {
          "base_uri": "https://localhost:8080/"
        },
        "id": "XZO2zvHn8p0-",
        "outputId": "363b291f-8f9a-4b41-b061-a7b6044c55a0"
      },
      "execution_count": 21,
      "outputs": [
        {
          "output_type": "execute_result",
          "data": {
            "text/plain": [
              "array([4.9e-324, 9.9e-324, 1.5e-323])"
            ]
          },
          "metadata": {},
          "execution_count": 21
        }
      ]
    },
    {
      "cell_type": "code",
      "source": [
        "np.empty([2,3], dtype=int)"
      ],
      "metadata": {
        "colab": {
          "base_uri": "https://localhost:8080/"
        },
        "id": "tzxDJKug8sfb",
        "outputId": "08c19afc-da34-4500-8e66-279acd43088e"
      },
      "execution_count": 22,
      "outputs": [
        {
          "output_type": "execute_result",
          "data": {
            "text/plain": [
              "array([[    102010254445177,                   0, 2308776984846671930],\n",
              "       [                 33,     101991799129440,     135444960369904]])"
            ]
          },
          "metadata": {},
          "execution_count": 22
        }
      ]
    },
    {
      "cell_type": "markdown",
      "source": [
        "## 원소값이 0인 주어진 형태의 배열을 생성하는 zeros_like()"
      ],
      "metadata": {
        "id": "zcMGd5Eb80Js"
      }
    },
    {
      "cell_type": "code",
      "source": [
        "import numpy as np\n",
        "\n",
        "a = np.arange(8).reshape(2,4)\n",
        "a"
      ],
      "metadata": {
        "colab": {
          "base_uri": "https://localhost:8080/"
        },
        "id": "qPXOl8UV85XQ",
        "outputId": "b898faff-eba5-44be-9d9a-97d9723b49cb"
      },
      "execution_count": 23,
      "outputs": [
        {
          "output_type": "execute_result",
          "data": {
            "text/plain": [
              "array([[0, 1, 2, 3],\n",
              "       [4, 5, 6, 7]])"
            ]
          },
          "metadata": {},
          "execution_count": 23
        }
      ]
    },
    {
      "cell_type": "code",
      "source": [
        "np.zeros_like(a)"
      ],
      "metadata": {
        "colab": {
          "base_uri": "https://localhost:8080/"
        },
        "id": "xEyrYs3889wT",
        "outputId": "3e0668da-d62d-4d09-9a95-176b07de2751"
      },
      "execution_count": 24,
      "outputs": [
        {
          "output_type": "execute_result",
          "data": {
            "text/plain": [
              "array([[0, 0, 0, 0],\n",
              "       [0, 0, 0, 0]])"
            ]
          },
          "metadata": {},
          "execution_count": 24
        }
      ]
    },
    {
      "cell_type": "markdown",
      "source": [
        "## 원소값이 1인 주어진 형태의 배열을 생성하는 ones_like()"
      ],
      "metadata": {
        "id": "GNH7Wieb8_7R"
      }
    },
    {
      "cell_type": "code",
      "source": [
        "np.ones_like(a)"
      ],
      "metadata": {
        "colab": {
          "base_uri": "https://localhost:8080/"
        },
        "id": "98gWBPdW9QpQ",
        "outputId": "0059ec49-cd91-4c03-ec1d-c378752dd3b2"
      },
      "execution_count": 25,
      "outputs": [
        {
          "output_type": "execute_result",
          "data": {
            "text/plain": [
              "array([[1, 1, 1, 1],\n",
              "       [1, 1, 1, 1]])"
            ]
          },
          "metadata": {},
          "execution_count": 25
        }
      ]
    },
    {
      "cell_type": "markdown",
      "source": [
        "## 원소값이 주어진 값이며 주어진 형태의 배열을 생성하는 full_like()"
      ],
      "metadata": {
        "id": "Rlv5XAqO9UoH"
      }
    },
    {
      "cell_type": "code",
      "source": [
        "np.full_like(a,5)"
      ],
      "metadata": {
        "colab": {
          "base_uri": "https://localhost:8080/"
        },
        "id": "tysvX95l9oDK",
        "outputId": "5dc8dc53-df50-45fa-9ace-d1483ba291c0"
      },
      "execution_count": 26,
      "outputs": [
        {
          "output_type": "execute_result",
          "data": {
            "text/plain": [
              "array([[5, 5, 5, 5],\n",
              "       [5, 5, 5, 5]])"
            ]
          },
          "metadata": {},
          "execution_count": 26
        }
      ]
    }
  ]
}