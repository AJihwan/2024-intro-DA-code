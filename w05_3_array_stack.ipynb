{
  "nbformat": 4,
  "nbformat_minor": 0,
  "metadata": {
    "colab": {
      "provenance": [],
      "include_colab_link": true
    },
    "kernelspec": {
      "name": "python3",
      "display_name": "Python 3"
    },
    "language_info": {
      "name": "python"
    }
  },
  "cells": [
    {
      "cell_type": "markdown",
      "metadata": {
        "id": "view-in-github",
        "colab_type": "text"
      },
      "source": [
        "<a href=\"https://colab.research.google.com/github/AJihwan/2024-intro-DA-code/blob/main/w05_3_array_stack.ipynb\" target=\"_parent\"><img src=\"https://colab.research.google.com/assets/colab-badge.svg\" alt=\"Open In Colab\"/></a>"
      ]
    },
    {
      "cell_type": "markdown",
      "source": [
        "#SECTION 01 배열 결합"
      ],
      "metadata": {
        "id": "6m9Fj6eIwI4B"
      }
    },
    {
      "cell_type": "markdown",
      "source": [
        "## numpy.vstack()"
      ],
      "metadata": {
        "id": "vFjWvhZySUwK"
      }
    },
    {
      "cell_type": "code",
      "source": [
        "import numpy as np\n",
        "\n",
        "a = np.arange(6).reshape(3,2)\n",
        "a"
      ],
      "metadata": {
        "colab": {
          "base_uri": "https://localhost:8080/"
        },
        "id": "da6RONT4Ske1",
        "outputId": "cd52148b-c464-426f-eb3a-e722f5242e94"
      },
      "execution_count": 137,
      "outputs": [
        {
          "output_type": "execute_result",
          "data": {
            "text/plain": [
              "array([[0, 1],\n",
              "       [2, 3],\n",
              "       [4, 5]])"
            ]
          },
          "metadata": {},
          "execution_count": 137
        }
      ]
    },
    {
      "cell_type": "code",
      "source": [
        "b = np.arange(6,12).reshape(3,2)\n",
        "b"
      ],
      "metadata": {
        "colab": {
          "base_uri": "https://localhost:8080/"
        },
        "id": "QRwq9c9mSorD",
        "outputId": "88ec5adc-ae34-4daa-a110-dd280138ba23"
      },
      "execution_count": 138,
      "outputs": [
        {
          "output_type": "execute_result",
          "data": {
            "text/plain": [
              "array([[ 6,  7],\n",
              "       [ 8,  9],\n",
              "       [10, 11]])"
            ]
          },
          "metadata": {},
          "execution_count": 138
        }
      ]
    },
    {
      "cell_type": "code",
      "source": [
        "np.vstack((a,b))"
      ],
      "metadata": {
        "colab": {
          "base_uri": "https://localhost:8080/"
        },
        "id": "onm6Ef0TSwPr",
        "outputId": "5c5749e6-3f89-4918-cabb-611b54cb91d6"
      },
      "execution_count": 139,
      "outputs": [
        {
          "output_type": "execute_result",
          "data": {
            "text/plain": [
              "array([[ 0,  1],\n",
              "       [ 2,  3],\n",
              "       [ 4,  5],\n",
              "       [ 6,  7],\n",
              "       [ 8,  9],\n",
              "       [10, 11]])"
            ]
          },
          "metadata": {},
          "execution_count": 139
        }
      ]
    },
    {
      "cell_type": "code",
      "source": [
        "c = np.arange(20,24).reshape(2,2)"
      ],
      "metadata": {
        "id": "BHRFNsxpSyCW"
      },
      "execution_count": 140,
      "outputs": []
    },
    {
      "cell_type": "code",
      "source": [
        "np.vstack((a,c))"
      ],
      "metadata": {
        "colab": {
          "base_uri": "https://localhost:8080/"
        },
        "id": "5xGEcW1-S0v1",
        "outputId": "40c93ba9-6d99-4cd3-b7be-00b384529358"
      },
      "execution_count": 141,
      "outputs": [
        {
          "output_type": "execute_result",
          "data": {
            "text/plain": [
              "array([[ 0,  1],\n",
              "       [ 2,  3],\n",
              "       [ 4,  5],\n",
              "       [20, 21],\n",
              "       [22, 23]])"
            ]
          },
          "metadata": {},
          "execution_count": 141
        }
      ]
    },
    {
      "cell_type": "code",
      "source": [
        "np.vstack((a,b,c))"
      ],
      "metadata": {
        "colab": {
          "base_uri": "https://localhost:8080/"
        },
        "id": "m1Teq3mwTEYx",
        "outputId": "9d8b0878-0148-4687-ee1c-83230b8d6a2f"
      },
      "execution_count": 142,
      "outputs": [
        {
          "output_type": "execute_result",
          "data": {
            "text/plain": [
              "array([[ 0,  1],\n",
              "       [ 2,  3],\n",
              "       [ 4,  5],\n",
              "       [ 6,  7],\n",
              "       [ 8,  9],\n",
              "       [10, 11],\n",
              "       [20, 21],\n",
              "       [22, 23]])"
            ]
          },
          "metadata": {},
          "execution_count": 142
        }
      ]
    },
    {
      "cell_type": "code",
      "source": [
        "d = np.array([100,200])\n",
        "np.vstack((a,d))"
      ],
      "metadata": {
        "colab": {
          "base_uri": "https://localhost:8080/"
        },
        "id": "7FzUk3A9TGA4",
        "outputId": "8ccb6bf9-0730-4f14-8253-a104aa25467e"
      },
      "execution_count": 143,
      "outputs": [
        {
          "output_type": "execute_result",
          "data": {
            "text/plain": [
              "array([[  0,   1],\n",
              "       [  2,   3],\n",
              "       [  4,   5],\n",
              "       [100, 200]])"
            ]
          },
          "metadata": {},
          "execution_count": 143
        }
      ]
    },
    {
      "cell_type": "code",
      "source": [
        "d = np.array([100,200,300])\n",
        "np.vstack((a,d))"
      ],
      "metadata": {
        "colab": {
          "base_uri": "https://localhost:8080/",
          "height": 297
        },
        "id": "hBIVno9oTJw6",
        "outputId": "cdaac4e3-2895-4926-b463-58f211f7939a"
      },
      "execution_count": 144,
      "outputs": [
        {
          "output_type": "error",
          "ename": "ValueError",
          "evalue": "all the input array dimensions except for the concatenation axis must match exactly, but along dimension 1, the array at index 0 has size 2 and the array at index 1 has size 3",
          "traceback": [
            "\u001b[0;31m---------------------------------------------------------------------------\u001b[0m",
            "\u001b[0;31mValueError\u001b[0m                                Traceback (most recent call last)",
            "\u001b[0;32m<ipython-input-144-b8099679e147>\u001b[0m in \u001b[0;36m<cell line: 2>\u001b[0;34m()\u001b[0m\n\u001b[1;32m      1\u001b[0m \u001b[0md\u001b[0m \u001b[0;34m=\u001b[0m \u001b[0mnp\u001b[0m\u001b[0;34m.\u001b[0m\u001b[0marray\u001b[0m\u001b[0;34m(\u001b[0m\u001b[0;34m[\u001b[0m\u001b[0;36m100\u001b[0m\u001b[0;34m,\u001b[0m\u001b[0;36m200\u001b[0m\u001b[0;34m,\u001b[0m\u001b[0;36m300\u001b[0m\u001b[0;34m]\u001b[0m\u001b[0;34m)\u001b[0m\u001b[0;34m\u001b[0m\u001b[0;34m\u001b[0m\u001b[0m\n\u001b[0;32m----> 2\u001b[0;31m \u001b[0mnp\u001b[0m\u001b[0;34m.\u001b[0m\u001b[0mvstack\u001b[0m\u001b[0;34m(\u001b[0m\u001b[0;34m(\u001b[0m\u001b[0ma\u001b[0m\u001b[0;34m,\u001b[0m\u001b[0md\u001b[0m\u001b[0;34m)\u001b[0m\u001b[0;34m)\u001b[0m\u001b[0;34m\u001b[0m\u001b[0;34m\u001b[0m\u001b[0m\n\u001b[0m",
            "\u001b[0;32m/usr/local/lib/python3.10/dist-packages/numpy/core/shape_base.py\u001b[0m in \u001b[0;36mvstack\u001b[0;34m(tup, dtype, casting)\u001b[0m\n\u001b[1;32m    287\u001b[0m     \u001b[0;32mif\u001b[0m \u001b[0;32mnot\u001b[0m \u001b[0misinstance\u001b[0m\u001b[0;34m(\u001b[0m\u001b[0marrs\u001b[0m\u001b[0;34m,\u001b[0m \u001b[0mlist\u001b[0m\u001b[0;34m)\u001b[0m\u001b[0;34m:\u001b[0m\u001b[0;34m\u001b[0m\u001b[0;34m\u001b[0m\u001b[0m\n\u001b[1;32m    288\u001b[0m         \u001b[0marrs\u001b[0m \u001b[0;34m=\u001b[0m \u001b[0;34m[\u001b[0m\u001b[0marrs\u001b[0m\u001b[0;34m]\u001b[0m\u001b[0;34m\u001b[0m\u001b[0;34m\u001b[0m\u001b[0m\n\u001b[0;32m--> 289\u001b[0;31m     \u001b[0;32mreturn\u001b[0m \u001b[0m_nx\u001b[0m\u001b[0;34m.\u001b[0m\u001b[0mconcatenate\u001b[0m\u001b[0;34m(\u001b[0m\u001b[0marrs\u001b[0m\u001b[0;34m,\u001b[0m \u001b[0;36m0\u001b[0m\u001b[0;34m,\u001b[0m \u001b[0mdtype\u001b[0m\u001b[0;34m=\u001b[0m\u001b[0mdtype\u001b[0m\u001b[0;34m,\u001b[0m \u001b[0mcasting\u001b[0m\u001b[0;34m=\u001b[0m\u001b[0mcasting\u001b[0m\u001b[0;34m)\u001b[0m\u001b[0;34m\u001b[0m\u001b[0;34m\u001b[0m\u001b[0m\n\u001b[0m\u001b[1;32m    290\u001b[0m \u001b[0;34m\u001b[0m\u001b[0m\n\u001b[1;32m    291\u001b[0m \u001b[0;34m\u001b[0m\u001b[0m\n",
            "\u001b[0;31mValueError\u001b[0m: all the input array dimensions except for the concatenation axis must match exactly, but along dimension 1, the array at index 0 has size 2 and the array at index 1 has size 3"
          ]
        }
      ]
    },
    {
      "cell_type": "code",
      "source": [
        "import numpy as np\n",
        "\n",
        "x = np.array([1,2,3])\n",
        "y = np.array([4,5,6])\n",
        "np.vstack((x,y))"
      ],
      "metadata": {
        "colab": {
          "base_uri": "https://localhost:8080/"
        },
        "id": "5jHbhdJsTRIt",
        "outputId": "6a68b2be-3ac4-4576-84bb-79f577fbcd81"
      },
      "execution_count": 145,
      "outputs": [
        {
          "output_type": "execute_result",
          "data": {
            "text/plain": [
              "array([[1, 2, 3],\n",
              "       [4, 5, 6]])"
            ]
          },
          "metadata": {},
          "execution_count": 145
        }
      ]
    },
    {
      "cell_type": "markdown",
      "source": [
        "## numpy.hstack()"
      ],
      "metadata": {
        "id": "eD6Pj7c_TdrB"
      }
    },
    {
      "cell_type": "code",
      "source": [
        "import numpy as np\n",
        "\n",
        "a = np.arange(6).reshape(3,2)\n",
        "a"
      ],
      "metadata": {
        "colab": {
          "base_uri": "https://localhost:8080/"
        },
        "id": "QVGsQSSUTzqG",
        "outputId": "2946820e-d253-46a2-e364-ecf55e3f6ed5"
      },
      "execution_count": 146,
      "outputs": [
        {
          "output_type": "execute_result",
          "data": {
            "text/plain": [
              "array([[0, 1],\n",
              "       [2, 3],\n",
              "       [4, 5]])"
            ]
          },
          "metadata": {},
          "execution_count": 146
        }
      ]
    },
    {
      "cell_type": "code",
      "source": [
        "b = np.arange(10,19).reshape(3,3)\n",
        "b"
      ],
      "metadata": {
        "colab": {
          "base_uri": "https://localhost:8080/"
        },
        "id": "ASl-bIRhT3cS",
        "outputId": "e8f85810-2695-4671-a8c6-14fabca0e426"
      },
      "execution_count": 147,
      "outputs": [
        {
          "output_type": "execute_result",
          "data": {
            "text/plain": [
              "array([[10, 11, 12],\n",
              "       [13, 14, 15],\n",
              "       [16, 17, 18]])"
            ]
          },
          "metadata": {},
          "execution_count": 147
        }
      ]
    },
    {
      "cell_type": "code",
      "source": [
        "np.hstack(((a,b)))"
      ],
      "metadata": {
        "colab": {
          "base_uri": "https://localhost:8080/"
        },
        "id": "OphV-eYMT9-P",
        "outputId": "741b5c93-0572-489c-a95c-14b177d69f55"
      },
      "execution_count": 149,
      "outputs": [
        {
          "output_type": "execute_result",
          "data": {
            "text/plain": [
              "array([[ 0,  1, 10, 11, 12],\n",
              "       [ 2,  3, 13, 14, 15],\n",
              "       [ 4,  5, 16, 17, 18]])"
            ]
          },
          "metadata": {},
          "execution_count": 149
        }
      ]
    },
    {
      "cell_type": "code",
      "source": [
        "c = np.array([[10,20],[30,40]])\n",
        "c"
      ],
      "metadata": {
        "colab": {
          "base_uri": "https://localhost:8080/"
        },
        "id": "Aan-BtR2UBdk",
        "outputId": "2a66f39d-6d46-4129-863a-9a05fa475fdd"
      },
      "execution_count": 150,
      "outputs": [
        {
          "output_type": "execute_result",
          "data": {
            "text/plain": [
              "array([[10, 20],\n",
              "       [30, 40]])"
            ]
          },
          "metadata": {},
          "execution_count": 150
        }
      ]
    },
    {
      "cell_type": "code",
      "source": [
        "np.hstasck((a,c))"
      ],
      "metadata": {
        "colab": {
          "base_uri": "https://localhost:8080/",
          "height": 263
        },
        "id": "WEvPy5IyUK08",
        "outputId": "a00925de-476f-44d0-f32a-5ffc694a6518"
      },
      "execution_count": 151,
      "outputs": [
        {
          "output_type": "error",
          "ename": "AttributeError",
          "evalue": "module 'numpy' has no attribute 'hstasck'",
          "traceback": [
            "\u001b[0;31m---------------------------------------------------------------------------\u001b[0m",
            "\u001b[0;31mAttributeError\u001b[0m                            Traceback (most recent call last)",
            "\u001b[0;32m<ipython-input-151-9a8c40706baa>\u001b[0m in \u001b[0;36m<cell line: 1>\u001b[0;34m()\u001b[0m\n\u001b[0;32m----> 1\u001b[0;31m \u001b[0mnp\u001b[0m\u001b[0;34m.\u001b[0m\u001b[0mhstasck\u001b[0m\u001b[0;34m(\u001b[0m\u001b[0;34m(\u001b[0m\u001b[0ma\u001b[0m\u001b[0;34m,\u001b[0m\u001b[0mc\u001b[0m\u001b[0;34m)\u001b[0m\u001b[0;34m)\u001b[0m\u001b[0;34m\u001b[0m\u001b[0;34m\u001b[0m\u001b[0m\n\u001b[0m",
            "\u001b[0;32m/usr/local/lib/python3.10/dist-packages/numpy/__init__.py\u001b[0m in \u001b[0;36m__getattr__\u001b[0;34m(attr)\u001b[0m\n\u001b[1;32m    331\u001b[0m             \u001b[0;32mraise\u001b[0m \u001b[0mRuntimeError\u001b[0m\u001b[0;34m(\u001b[0m\u001b[0;34m\"Tester was removed in NumPy 1.25.\"\u001b[0m\u001b[0;34m)\u001b[0m\u001b[0;34m\u001b[0m\u001b[0;34m\u001b[0m\u001b[0m\n\u001b[1;32m    332\u001b[0m \u001b[0;34m\u001b[0m\u001b[0m\n\u001b[0;32m--> 333\u001b[0;31m         raise AttributeError(\"module {!r} has no attribute \"\n\u001b[0m\u001b[1;32m    334\u001b[0m                              \"{!r}\".format(__name__, attr))\n\u001b[1;32m    335\u001b[0m \u001b[0;34m\u001b[0m\u001b[0m\n",
            "\u001b[0;31mAttributeError\u001b[0m: module 'numpy' has no attribute 'hstasck'"
          ]
        }
      ]
    },
    {
      "cell_type": "code",
      "source": [
        "np.hstack((np.arange(3),np.arange(10,15)))"
      ],
      "metadata": {
        "colab": {
          "base_uri": "https://localhost:8080/"
        },
        "id": "lwzJDzjlV8cR",
        "outputId": "77f2f82a-dfe2-49c5-adbe-cac036d457d6"
      },
      "execution_count": 152,
      "outputs": [
        {
          "output_type": "execute_result",
          "data": {
            "text/plain": [
              "array([ 0,  1,  2, 10, 11, 12, 13, 14])"
            ]
          },
          "metadata": {},
          "execution_count": 152
        }
      ]
    },
    {
      "cell_type": "markdown",
      "source": [
        "## numpy.column_stack"
      ],
      "metadata": {
        "id": "AQFLbRg8WJBk"
      }
    },
    {
      "cell_type": "code",
      "source": [
        "import numpy as np\n",
        "a = np.arange(6).reshape(3,2)\n",
        "a"
      ],
      "metadata": {
        "colab": {
          "base_uri": "https://localhost:8080/"
        },
        "id": "WLGqca-dWNRn",
        "outputId": "ac162f68-98bf-423d-b84a-9c509b517cb2"
      },
      "execution_count": 153,
      "outputs": [
        {
          "output_type": "execute_result",
          "data": {
            "text/plain": [
              "array([[0, 1],\n",
              "       [2, 3],\n",
              "       [4, 5]])"
            ]
          },
          "metadata": {},
          "execution_count": 153
        }
      ]
    },
    {
      "cell_type": "code",
      "source": [
        "b = np.arange(10,22).reshape(3,4)\n",
        "b"
      ],
      "metadata": {
        "colab": {
          "base_uri": "https://localhost:8080/"
        },
        "id": "QXVxuHOMWStm",
        "outputId": "f0c97341-a365-4f26-aacf-ea79dcda9c3a"
      },
      "execution_count": 154,
      "outputs": [
        {
          "output_type": "execute_result",
          "data": {
            "text/plain": [
              "array([[10, 11, 12, 13],\n",
              "       [14, 15, 16, 17],\n",
              "       [18, 19, 20, 21]])"
            ]
          },
          "metadata": {},
          "execution_count": 154
        }
      ]
    },
    {
      "cell_type": "code",
      "source": [
        "np.column_stack((a,b))"
      ],
      "metadata": {
        "colab": {
          "base_uri": "https://localhost:8080/"
        },
        "id": "5CrR3bEEWUWC",
        "outputId": "5ebdf4f3-4cef-4bd3-a5bf-c3c0581f183d"
      },
      "execution_count": 155,
      "outputs": [
        {
          "output_type": "execute_result",
          "data": {
            "text/plain": [
              "array([[ 0,  1, 10, 11, 12, 13],\n",
              "       [ 2,  3, 14, 15, 16, 17],\n",
              "       [ 4,  5, 18, 19, 20, 21]])"
            ]
          },
          "metadata": {},
          "execution_count": 155
        }
      ]
    },
    {
      "cell_type": "code",
      "source": [
        "np.hstack((a,b))"
      ],
      "metadata": {
        "colab": {
          "base_uri": "https://localhost:8080/"
        },
        "id": "w31y61YSWXfR",
        "outputId": "739fc6cc-f198-4694-80e5-917da5ce8379"
      },
      "execution_count": 156,
      "outputs": [
        {
          "output_type": "execute_result",
          "data": {
            "text/plain": [
              "array([[ 0,  1, 10, 11, 12, 13],\n",
              "       [ 2,  3, 14, 15, 16, 17],\n",
              "       [ 4,  5, 18, 19, 20, 21]])"
            ]
          },
          "metadata": {},
          "execution_count": 156
        }
      ]
    },
    {
      "cell_type": "code",
      "source": [
        "x = np.array([1,2,3])\n",
        "y = np.array([4,5,6])\n",
        "np.column_stack((x,y))"
      ],
      "metadata": {
        "colab": {
          "base_uri": "https://localhost:8080/"
        },
        "id": "cet_4GKSWY7C",
        "outputId": "b2c747c8-6c36-409b-8955-59ab012aa6cf"
      },
      "execution_count": 157,
      "outputs": [
        {
          "output_type": "execute_result",
          "data": {
            "text/plain": [
              "array([[1, 4],\n",
              "       [2, 5],\n",
              "       [3, 6]])"
            ]
          },
          "metadata": {},
          "execution_count": 157
        }
      ]
    },
    {
      "cell_type": "code",
      "source": [
        "x[:,np.newaxis]"
      ],
      "metadata": {
        "colab": {
          "base_uri": "https://localhost:8080/"
        },
        "id": "7T3_CXaWWgyA",
        "outputId": "a8b38007-88cf-4e36-bba0-21fbb0194689"
      },
      "execution_count": 158,
      "outputs": [
        {
          "output_type": "execute_result",
          "data": {
            "text/plain": [
              "array([[1],\n",
              "       [2],\n",
              "       [3]])"
            ]
          },
          "metadata": {},
          "execution_count": 158
        }
      ]
    },
    {
      "cell_type": "code",
      "source": [
        "y[:,np.newaxis]"
      ],
      "metadata": {
        "colab": {
          "base_uri": "https://localhost:8080/"
        },
        "id": "0HQb0UwJWsfM",
        "outputId": "63d85600-77f5-4ded-9860-603c4d7e1019"
      },
      "execution_count": 159,
      "outputs": [
        {
          "output_type": "execute_result",
          "data": {
            "text/plain": [
              "array([[4],\n",
              "       [5],\n",
              "       [6]])"
            ]
          },
          "metadata": {},
          "execution_count": 159
        }
      ]
    },
    {
      "cell_type": "code",
      "source": [
        "x = np.array([1,2,3])\n",
        "y = np.array([10,20,30])\n",
        "np.column_stack((x[:,np.newaxis],y[:,np.newaxis]))"
      ],
      "metadata": {
        "colab": {
          "base_uri": "https://localhost:8080/"
        },
        "id": "nt8hJfRpWwFy",
        "outputId": "ddfbed6b-dc96-4bd5-8f3c-d7ae19da65ef"
      },
      "execution_count": 160,
      "outputs": [
        {
          "output_type": "execute_result",
          "data": {
            "text/plain": [
              "array([[ 1, 10],\n",
              "       [ 2, 20],\n",
              "       [ 3, 30]])"
            ]
          },
          "metadata": {},
          "execution_count": 160
        }
      ]
    },
    {
      "cell_type": "code",
      "source": [
        "np.hstack((x,y))"
      ],
      "metadata": {
        "colab": {
          "base_uri": "https://localhost:8080/"
        },
        "id": "RtHfofW4bXLJ",
        "outputId": "460974fa-6461-40c8-f0ab-de39979000c1"
      },
      "execution_count": 161,
      "outputs": [
        {
          "output_type": "execute_result",
          "data": {
            "text/plain": [
              "array([ 1,  2,  3, 10, 20, 30])"
            ]
          },
          "metadata": {},
          "execution_count": 161
        }
      ]
    },
    {
      "cell_type": "code",
      "source": [
        "np.column_stack == np.hstack"
      ],
      "metadata": {
        "colab": {
          "base_uri": "https://localhost:8080/"
        },
        "id": "Zakyjvx0bbr2",
        "outputId": "93ccb5aa-9b42-49a4-df70-8b7f0d0c0244"
      },
      "execution_count": 162,
      "outputs": [
        {
          "output_type": "execute_result",
          "data": {
            "text/plain": [
              "False"
            ]
          },
          "metadata": {},
          "execution_count": 162
        }
      ]
    },
    {
      "cell_type": "markdown",
      "source": [
        "## numpy.row_stack()"
      ],
      "metadata": {
        "id": "XOJmyTBfbio5"
      }
    },
    {
      "cell_type": "code",
      "source": [
        "import numpy as np\n",
        "a = np.arange(6).reshape(2,3)\n",
        "a"
      ],
      "metadata": {
        "colab": {
          "base_uri": "https://localhost:8080/"
        },
        "id": "l1xZ0mrkbmKb",
        "outputId": "43a50431-ad42-44fb-e0af-cf3fc0bb0060"
      },
      "execution_count": 163,
      "outputs": [
        {
          "output_type": "execute_result",
          "data": {
            "text/plain": [
              "array([[0, 1, 2],\n",
              "       [3, 4, 5]])"
            ]
          },
          "metadata": {},
          "execution_count": 163
        }
      ]
    },
    {
      "cell_type": "code",
      "source": [
        "b = np.arange(10,22).reshape(4,3)\n",
        "b"
      ],
      "metadata": {
        "colab": {
          "base_uri": "https://localhost:8080/"
        },
        "id": "mhVsmdy9bp01",
        "outputId": "5eb4f716-8e1f-40cc-d9e5-2a89eebb6f0d"
      },
      "execution_count": 164,
      "outputs": [
        {
          "output_type": "execute_result",
          "data": {
            "text/plain": [
              "array([[10, 11, 12],\n",
              "       [13, 14, 15],\n",
              "       [16, 17, 18],\n",
              "       [19, 20, 21]])"
            ]
          },
          "metadata": {},
          "execution_count": 164
        }
      ]
    },
    {
      "cell_type": "code",
      "source": [
        "np.row_stack((a,b))"
      ],
      "metadata": {
        "colab": {
          "base_uri": "https://localhost:8080/"
        },
        "id": "1_VbsAUybsnf",
        "outputId": "5cc34c9b-7979-41e7-cd79-469d5563e290"
      },
      "execution_count": 165,
      "outputs": [
        {
          "output_type": "execute_result",
          "data": {
            "text/plain": [
              "array([[ 0,  1,  2],\n",
              "       [ 3,  4,  5],\n",
              "       [10, 11, 12],\n",
              "       [13, 14, 15],\n",
              "       [16, 17, 18],\n",
              "       [19, 20, 21]])"
            ]
          },
          "metadata": {},
          "execution_count": 165
        }
      ]
    },
    {
      "cell_type": "code",
      "source": [
        "np.vstack((a,b))"
      ],
      "metadata": {
        "colab": {
          "base_uri": "https://localhost:8080/"
        },
        "id": "bHtfcqn2bt88",
        "outputId": "8b26435e-a97a-4ffb-80ad-461b67114e89"
      },
      "execution_count": 166,
      "outputs": [
        {
          "output_type": "execute_result",
          "data": {
            "text/plain": [
              "array([[ 0,  1,  2],\n",
              "       [ 3,  4,  5],\n",
              "       [10, 11, 12],\n",
              "       [13, 14, 15],\n",
              "       [16, 17, 18],\n",
              "       [19, 20, 21]])"
            ]
          },
          "metadata": {},
          "execution_count": 166
        }
      ]
    },
    {
      "cell_type": "code",
      "source": [
        "a = np.array([4.,2.,1.])\n",
        "b = np.array([3.,8.,7.])\n",
        "print(np.row_stack((a,b)))"
      ],
      "metadata": {
        "colab": {
          "base_uri": "https://localhost:8080/"
        },
        "id": "B7PLChWmbvwa",
        "outputId": "7bee73c3-89a7-42bd-973b-4a669da5cbaa"
      },
      "execution_count": 167,
      "outputs": [
        {
          "output_type": "stream",
          "name": "stdout",
          "text": [
            "[[4. 2. 1.]\n",
            " [3. 8. 7.]]\n"
          ]
        }
      ]
    },
    {
      "cell_type": "code",
      "source": [
        "print(np.vstack((a,b)))"
      ],
      "metadata": {
        "colab": {
          "base_uri": "https://localhost:8080/"
        },
        "id": "cIIXyk9Yb466",
        "outputId": "b6d0bf2a-db9a-4e51-c6de-9062d9d9e42c"
      },
      "execution_count": 168,
      "outputs": [
        {
          "output_type": "stream",
          "name": "stdout",
          "text": [
            "[[4. 2. 1.]\n",
            " [3. 8. 7.]]\n"
          ]
        }
      ]
    },
    {
      "cell_type": "code",
      "source": [
        "np.row_stack == np.vstack"
      ],
      "metadata": {
        "colab": {
          "base_uri": "https://localhost:8080/"
        },
        "id": "6K-ooHyQb7zj",
        "outputId": "fa8330d3-7dd5-46d0-87cd-d6e5e060e6a1"
      },
      "execution_count": 169,
      "outputs": [
        {
          "output_type": "execute_result",
          "data": {
            "text/plain": [
              "True"
            ]
          },
          "metadata": {},
          "execution_count": 169
        }
      ]
    },
    {
      "cell_type": "markdown",
      "source": [
        "## numpy.concatenate()"
      ],
      "metadata": {
        "id": "2mWaayntb-ja"
      }
    },
    {
      "cell_type": "code",
      "source": [
        "help(np.concatenate)"
      ],
      "metadata": {
        "colab": {
          "base_uri": "https://localhost:8080/"
        },
        "id": "Ld3Y7kJ0cYQK",
        "outputId": "f86eb987-de8e-4280-debb-c1de7fe140af"
      },
      "execution_count": 170,
      "outputs": [
        {
          "output_type": "stream",
          "name": "stdout",
          "text": [
            "Help on _ArrayFunctionDispatcher in module numpy:\n",
            "\n",
            "concatenate(...)\n",
            "    concatenate((a1, a2, ...), axis=0, out=None, dtype=None, casting=\"same_kind\")\n",
            "    \n",
            "    Join a sequence of arrays along an existing axis.\n",
            "    \n",
            "    Parameters\n",
            "    ----------\n",
            "    a1, a2, ... : sequence of array_like\n",
            "        The arrays must have the same shape, except in the dimension\n",
            "        corresponding to `axis` (the first, by default).\n",
            "    axis : int, optional\n",
            "        The axis along which the arrays will be joined.  If axis is None,\n",
            "        arrays are flattened before use.  Default is 0.\n",
            "    out : ndarray, optional\n",
            "        If provided, the destination to place the result. The shape must be\n",
            "        correct, matching that of what concatenate would have returned if no\n",
            "        out argument were specified.\n",
            "    dtype : str or dtype\n",
            "        If provided, the destination array will have this dtype. Cannot be\n",
            "        provided together with `out`.\n",
            "    \n",
            "        .. versionadded:: 1.20.0\n",
            "    \n",
            "    casting : {'no', 'equiv', 'safe', 'same_kind', 'unsafe'}, optional\n",
            "        Controls what kind of data casting may occur. Defaults to 'same_kind'.\n",
            "    \n",
            "        .. versionadded:: 1.20.0\n",
            "    \n",
            "    Returns\n",
            "    -------\n",
            "    res : ndarray\n",
            "        The concatenated array.\n",
            "    \n",
            "    See Also\n",
            "    --------\n",
            "    ma.concatenate : Concatenate function that preserves input masks.\n",
            "    array_split : Split an array into multiple sub-arrays of equal or\n",
            "                  near-equal size.\n",
            "    split : Split array into a list of multiple sub-arrays of equal size.\n",
            "    hsplit : Split array into multiple sub-arrays horizontally (column wise).\n",
            "    vsplit : Split array into multiple sub-arrays vertically (row wise).\n",
            "    dsplit : Split array into multiple sub-arrays along the 3rd axis (depth).\n",
            "    stack : Stack a sequence of arrays along a new axis.\n",
            "    block : Assemble arrays from blocks.\n",
            "    hstack : Stack arrays in sequence horizontally (column wise).\n",
            "    vstack : Stack arrays in sequence vertically (row wise).\n",
            "    dstack : Stack arrays in sequence depth wise (along third dimension).\n",
            "    column_stack : Stack 1-D arrays as columns into a 2-D array.\n",
            "    \n",
            "    Notes\n",
            "    -----\n",
            "    When one or more of the arrays to be concatenated is a MaskedArray,\n",
            "    this function will return a MaskedArray object instead of an ndarray,\n",
            "    but the input masks are *not* preserved. In cases where a MaskedArray\n",
            "    is expected as input, use the ma.concatenate function from the masked\n",
            "    array module instead.\n",
            "    \n",
            "    Examples\n",
            "    --------\n",
            "    >>> a = np.array([[1, 2], [3, 4]])\n",
            "    >>> b = np.array([[5, 6]])\n",
            "    >>> np.concatenate((a, b), axis=0)\n",
            "    array([[1, 2],\n",
            "           [3, 4],\n",
            "           [5, 6]])\n",
            "    >>> np.concatenate((a, b.T), axis=1)\n",
            "    array([[1, 2, 5],\n",
            "           [3, 4, 6]])\n",
            "    >>> np.concatenate((a, b), axis=None)\n",
            "    array([1, 2, 3, 4, 5, 6])\n",
            "    \n",
            "    This function will not preserve masking of MaskedArray inputs.\n",
            "    \n",
            "    >>> a = np.ma.arange(3)\n",
            "    >>> a[1] = np.ma.masked\n",
            "    >>> b = np.arange(2, 5)\n",
            "    >>> a\n",
            "    masked_array(data=[0, --, 2],\n",
            "                 mask=[False,  True, False],\n",
            "           fill_value=999999)\n",
            "    >>> b\n",
            "    array([2, 3, 4])\n",
            "    >>> np.concatenate([a, b])\n",
            "    masked_array(data=[0, 1, 2, 2, 3, 4],\n",
            "                 mask=False,\n",
            "           fill_value=999999)\n",
            "    >>> np.ma.concatenate([a, b])\n",
            "    masked_array(data=[0, --, 2, 2, 3, 4],\n",
            "                 mask=[False,  True, False, False, False, False],\n",
            "           fill_value=999999)\n",
            "\n"
          ]
        }
      ]
    },
    {
      "cell_type": "code",
      "source": [
        "import numpy as np\n",
        "\n",
        "a = np.array([1,2])\n",
        "b = np.array([3,4])\n",
        "c = np.array([5,6])\n",
        "np.concatenate((a,b,c))"
      ],
      "metadata": {
        "colab": {
          "base_uri": "https://localhost:8080/"
        },
        "id": "CQgJjxq8cEKF",
        "outputId": "4785290a-d088-419f-ccdf-96b32a3971d9"
      },
      "execution_count": 171,
      "outputs": [
        {
          "output_type": "execute_result",
          "data": {
            "text/plain": [
              "array([1, 2, 3, 4, 5, 6])"
            ]
          },
          "metadata": {},
          "execution_count": 171
        }
      ]
    },
    {
      "cell_type": "code",
      "source": [
        "np.concatenate((a,b,c), axis=0)"
      ],
      "metadata": {
        "colab": {
          "base_uri": "https://localhost:8080/"
        },
        "id": "1LsTNmZtcOcG",
        "outputId": "7eb66ddb-5834-42b0-ceef-40601d1abd58"
      },
      "execution_count": 172,
      "outputs": [
        {
          "output_type": "execute_result",
          "data": {
            "text/plain": [
              "array([1, 2, 3, 4, 5, 6])"
            ]
          },
          "metadata": {},
          "execution_count": 172
        }
      ]
    },
    {
      "cell_type": "code",
      "source": [
        "np.concatenate((a,b,c), axis=None)"
      ],
      "metadata": {
        "colab": {
          "base_uri": "https://localhost:8080/"
        },
        "id": "Ycp2mZ8UcUkp",
        "outputId": "7f2a9dab-e018-488a-a896-4fd771435137"
      },
      "execution_count": 173,
      "outputs": [
        {
          "output_type": "execute_result",
          "data": {
            "text/plain": [
              "array([1, 2, 3, 4, 5, 6])"
            ]
          },
          "metadata": {},
          "execution_count": 173
        }
      ]
    },
    {
      "cell_type": "code",
      "source": [
        "import numpy as np\n",
        "\n",
        "x = np.arange(6).reshape(2,3)\n",
        "x"
      ],
      "metadata": {
        "colab": {
          "base_uri": "https://localhost:8080/"
        },
        "id": "S6OUz6p-cV3g",
        "outputId": "d392c333-9744-49fa-aab2-1e1ded9e7aeb"
      },
      "execution_count": 174,
      "outputs": [
        {
          "output_type": "execute_result",
          "data": {
            "text/plain": [
              "array([[0, 1, 2],\n",
              "       [3, 4, 5]])"
            ]
          },
          "metadata": {},
          "execution_count": 174
        }
      ]
    },
    {
      "cell_type": "code",
      "source": [
        "y = np.arange(10,16).reshape(2,3)\n",
        "y"
      ],
      "metadata": {
        "colab": {
          "base_uri": "https://localhost:8080/"
        },
        "id": "5mA5KECYdDlx",
        "outputId": "0a8a780c-8d3e-429a-d268-b055a99ea270"
      },
      "execution_count": 175,
      "outputs": [
        {
          "output_type": "execute_result",
          "data": {
            "text/plain": [
              "array([[10, 11, 12],\n",
              "       [13, 14, 15]])"
            ]
          },
          "metadata": {},
          "execution_count": 175
        }
      ]
    },
    {
      "cell_type": "code",
      "source": [
        "z = np.arange(20,24).reshape(2,2)\n",
        "z"
      ],
      "metadata": {
        "colab": {
          "base_uri": "https://localhost:8080/"
        },
        "id": "mkaX1QRldFW2",
        "outputId": "e15332cd-b186-4863-81e5-16fd1cbd3d6f"
      },
      "execution_count": 176,
      "outputs": [
        {
          "output_type": "execute_result",
          "data": {
            "text/plain": [
              "array([[20, 21],\n",
              "       [22, 23]])"
            ]
          },
          "metadata": {},
          "execution_count": 176
        }
      ]
    },
    {
      "cell_type": "code",
      "source": [
        "np.concatenate((x,y))"
      ],
      "metadata": {
        "colab": {
          "base_uri": "https://localhost:8080/"
        },
        "id": "7GuEqv2ldLDQ",
        "outputId": "e2f6f0a5-ec9c-45ee-88c7-1a8db2e68edf"
      },
      "execution_count": 177,
      "outputs": [
        {
          "output_type": "execute_result",
          "data": {
            "text/plain": [
              "array([[ 0,  1,  2],\n",
              "       [ 3,  4,  5],\n",
              "       [10, 11, 12],\n",
              "       [13, 14, 15]])"
            ]
          },
          "metadata": {},
          "execution_count": 177
        }
      ]
    },
    {
      "cell_type": "code",
      "source": [
        "np.concatenate((x,y,z))"
      ],
      "metadata": {
        "colab": {
          "base_uri": "https://localhost:8080/",
          "height": 159
        },
        "id": "rEF0r4dTeVOY",
        "outputId": "a1fa8124-790b-434f-9f3c-8393f33c3bec"
      },
      "execution_count": 178,
      "outputs": [
        {
          "output_type": "error",
          "ename": "ValueError",
          "evalue": "all the input array dimensions except for the concatenation axis must match exactly, but along dimension 1, the array at index 0 has size 3 and the array at index 2 has size 2",
          "traceback": [
            "\u001b[0;31m---------------------------------------------------------------------------\u001b[0m",
            "\u001b[0;31mValueError\u001b[0m                                Traceback (most recent call last)",
            "\u001b[0;32m<ipython-input-178-b44059068f00>\u001b[0m in \u001b[0;36m<cell line: 1>\u001b[0;34m()\u001b[0m\n\u001b[0;32m----> 1\u001b[0;31m \u001b[0mnp\u001b[0m\u001b[0;34m.\u001b[0m\u001b[0mconcatenate\u001b[0m\u001b[0;34m(\u001b[0m\u001b[0;34m(\u001b[0m\u001b[0mx\u001b[0m\u001b[0;34m,\u001b[0m\u001b[0my\u001b[0m\u001b[0;34m,\u001b[0m\u001b[0mz\u001b[0m\u001b[0;34m)\u001b[0m\u001b[0;34m)\u001b[0m\u001b[0;34m\u001b[0m\u001b[0;34m\u001b[0m\u001b[0m\n\u001b[0m",
            "\u001b[0;31mValueError\u001b[0m: all the input array dimensions except for the concatenation axis must match exactly, but along dimension 1, the array at index 0 has size 3 and the array at index 2 has size 2"
          ]
        }
      ]
    },
    {
      "cell_type": "code",
      "source": [
        "np.concatenate((x,y,z),axis=1)"
      ],
      "metadata": {
        "colab": {
          "base_uri": "https://localhost:8080/"
        },
        "id": "uja4b0wYebZL",
        "outputId": "2e0bc1a6-232e-489e-9bf0-738a0d9498fb"
      },
      "execution_count": 179,
      "outputs": [
        {
          "output_type": "execute_result",
          "data": {
            "text/plain": [
              "array([[ 0,  1,  2, 10, 11, 12, 20, 21],\n",
              "       [ 3,  4,  5, 13, 14, 15, 22, 23]])"
            ]
          },
          "metadata": {},
          "execution_count": 179
        }
      ]
    },
    {
      "cell_type": "code",
      "source": [
        "np.concatenate((x,y),axis=None)"
      ],
      "metadata": {
        "colab": {
          "base_uri": "https://localhost:8080/"
        },
        "id": "fS0BHYgGeeEB",
        "outputId": "8c6f73cf-e8e2-4777-fa7e-3c2a22c9e82b"
      },
      "execution_count": 180,
      "outputs": [
        {
          "output_type": "execute_result",
          "data": {
            "text/plain": [
              "array([ 0,  1,  2,  3,  4,  5, 10, 11, 12, 13, 14, 15])"
            ]
          },
          "metadata": {},
          "execution_count": 180
        }
      ]
    },
    {
      "cell_type": "markdown",
      "source": [
        "##numpy.stack()"
      ],
      "metadata": {
        "id": "cYbCkJn0f4l6"
      }
    },
    {
      "cell_type": "code",
      "source": [
        "import numpy as np\n",
        "\n",
        "a = np.array([1,2,3])\n",
        "a"
      ],
      "metadata": {
        "id": "eArH9N9egGMU",
        "colab": {
          "base_uri": "https://localhost:8080/"
        },
        "outputId": "a3373dfe-3ab3-485e-b82a-ab3add244014"
      },
      "execution_count": 181,
      "outputs": [
        {
          "output_type": "execute_result",
          "data": {
            "text/plain": [
              "array([1, 2, 3])"
            ]
          },
          "metadata": {},
          "execution_count": 181
        }
      ]
    },
    {
      "cell_type": "code",
      "source": [
        "b = np.array([4,5,6])\n",
        "b"
      ],
      "metadata": {
        "colab": {
          "base_uri": "https://localhost:8080/"
        },
        "id": "_FDCnB1jwWT8",
        "outputId": "1e45c16b-3036-4884-a9d3-0bce8c5e0228"
      },
      "execution_count": 182,
      "outputs": [
        {
          "output_type": "execute_result",
          "data": {
            "text/plain": [
              "array([4, 5, 6])"
            ]
          },
          "metadata": {},
          "execution_count": 182
        }
      ]
    },
    {
      "cell_type": "code",
      "source": [
        "np.stack((a,b))"
      ],
      "metadata": {
        "colab": {
          "base_uri": "https://localhost:8080/"
        },
        "id": "RBTxB67vwbpq",
        "outputId": "2dc8688f-444a-478e-d92e-9f33a33de775"
      },
      "execution_count": 183,
      "outputs": [
        {
          "output_type": "execute_result",
          "data": {
            "text/plain": [
              "array([[1, 2, 3],\n",
              "       [4, 5, 6]])"
            ]
          },
          "metadata": {},
          "execution_count": 183
        }
      ]
    },
    {
      "cell_type": "code",
      "source": [
        "np.stack((a,b),axis=1)"
      ],
      "metadata": {
        "colab": {
          "base_uri": "https://localhost:8080/"
        },
        "id": "UsyPguFCwcnb",
        "outputId": "c60f5050-341c-482a-f4b9-dc92560da0e9"
      },
      "execution_count": 184,
      "outputs": [
        {
          "output_type": "execute_result",
          "data": {
            "text/plain": [
              "array([[1, 4],\n",
              "       [2, 5],\n",
              "       [3, 6]])"
            ]
          },
          "metadata": {},
          "execution_count": 184
        }
      ]
    },
    {
      "cell_type": "code",
      "source": [
        "x = np.arange(6).reshape(2,3)\n",
        "x"
      ],
      "metadata": {
        "colab": {
          "base_uri": "https://localhost:8080/"
        },
        "id": "3qKHT33_wfWL",
        "outputId": "1b55716a-67ec-41ec-d48e-f3beed175329"
      },
      "execution_count": 185,
      "outputs": [
        {
          "output_type": "execute_result",
          "data": {
            "text/plain": [
              "array([[0, 1, 2],\n",
              "       [3, 4, 5]])"
            ]
          },
          "metadata": {},
          "execution_count": 185
        }
      ]
    },
    {
      "cell_type": "code",
      "source": [
        "y = np.arange(10,16).reshape(2,3)\n",
        "y"
      ],
      "metadata": {
        "colab": {
          "base_uri": "https://localhost:8080/"
        },
        "id": "OOa_TJNfwhXT",
        "outputId": "ba6d4125-cefd-43e4-9f0c-eb353c396858"
      },
      "execution_count": 186,
      "outputs": [
        {
          "output_type": "execute_result",
          "data": {
            "text/plain": [
              "array([[10, 11, 12],\n",
              "       [13, 14, 15]])"
            ]
          },
          "metadata": {},
          "execution_count": 186
        }
      ]
    },
    {
      "cell_type": "code",
      "source": [
        "z = np.arange(20,26).reshape(2,3)\n",
        "z"
      ],
      "metadata": {
        "colab": {
          "base_uri": "https://localhost:8080/"
        },
        "id": "Si8Ae1NEwlC6",
        "outputId": "faa63a9f-33d6-4261-b143-9a0c8fe2d183"
      },
      "execution_count": 187,
      "outputs": [
        {
          "output_type": "execute_result",
          "data": {
            "text/plain": [
              "array([[20, 21, 22],\n",
              "       [23, 24, 25]])"
            ]
          },
          "metadata": {},
          "execution_count": 187
        }
      ]
    },
    {
      "cell_type": "markdown",
      "source": [
        "## np stack()로 배열 x,y,z를 0번 축 방향으로 합치기"
      ],
      "metadata": {
        "id": "3iTFmE5JwoF7"
      }
    },
    {
      "cell_type": "code",
      "source": [
        "ax0 = np.stack((x,y,z),axis=0)\n",
        "ax0"
      ],
      "metadata": {
        "colab": {
          "base_uri": "https://localhost:8080/"
        },
        "id": "iVIXYrMbws3i",
        "outputId": "f1c4e097-dc93-463e-cc2f-a2a6d99cab04"
      },
      "execution_count": 188,
      "outputs": [
        {
          "output_type": "execute_result",
          "data": {
            "text/plain": [
              "array([[[ 0,  1,  2],\n",
              "        [ 3,  4,  5]],\n",
              "\n",
              "       [[10, 11, 12],\n",
              "        [13, 14, 15]],\n",
              "\n",
              "       [[20, 21, 22],\n",
              "        [23, 24, 25]]])"
            ]
          },
          "metadata": {},
          "execution_count": 188
        }
      ]
    },
    {
      "cell_type": "code",
      "source": [
        "ax0.shape"
      ],
      "metadata": {
        "colab": {
          "base_uri": "https://localhost:8080/"
        },
        "id": "cV2Hnfpswv0T",
        "outputId": "2ef6dbc1-3492-45b7-ccb8-721257f48471"
      },
      "execution_count": 189,
      "outputs": [
        {
          "output_type": "execute_result",
          "data": {
            "text/plain": [
              "(3, 2, 3)"
            ]
          },
          "metadata": {},
          "execution_count": 189
        }
      ]
    },
    {
      "cell_type": "code",
      "source": [
        "ax1 = np.stack((x,y,z),axis=1)\n",
        "ax1"
      ],
      "metadata": {
        "colab": {
          "base_uri": "https://localhost:8080/"
        },
        "id": "lvd-kJVjwyrp",
        "outputId": "ab14a0a8-a692-4afb-dc57-df8b078c20c3"
      },
      "execution_count": 190,
      "outputs": [
        {
          "output_type": "execute_result",
          "data": {
            "text/plain": [
              "array([[[ 0,  1,  2],\n",
              "        [10, 11, 12],\n",
              "        [20, 21, 22]],\n",
              "\n",
              "       [[ 3,  4,  5],\n",
              "        [13, 14, 15],\n",
              "        [23, 24, 25]]])"
            ]
          },
          "metadata": {},
          "execution_count": 190
        }
      ]
    },
    {
      "cell_type": "code",
      "source": [
        "ax1.shape"
      ],
      "metadata": {
        "colab": {
          "base_uri": "https://localhost:8080/"
        },
        "id": "fSKxfshxw7GK",
        "outputId": "3dc622ff-2685-4472-f640-a6f174b2b3bd"
      },
      "execution_count": 191,
      "outputs": [
        {
          "output_type": "execute_result",
          "data": {
            "text/plain": [
              "(2, 3, 3)"
            ]
          },
          "metadata": {},
          "execution_count": 191
        }
      ]
    },
    {
      "cell_type": "code",
      "source": [
        "ax2 = np.stack((x,y,z),axis=2)\n",
        "ax2"
      ],
      "metadata": {
        "colab": {
          "base_uri": "https://localhost:8080/"
        },
        "id": "G1X6EzuNw9MA",
        "outputId": "557edff6-a9c9-4a68-c90f-b0235fb82f13"
      },
      "execution_count": 192,
      "outputs": [
        {
          "output_type": "execute_result",
          "data": {
            "text/plain": [
              "array([[[ 0, 10, 20],\n",
              "        [ 1, 11, 21],\n",
              "        [ 2, 12, 22]],\n",
              "\n",
              "       [[ 3, 13, 23],\n",
              "        [ 4, 14, 24],\n",
              "        [ 5, 15, 25]]])"
            ]
          },
          "metadata": {},
          "execution_count": 192
        }
      ]
    },
    {
      "cell_type": "code",
      "source": [
        "ax2.shape"
      ],
      "metadata": {
        "colab": {
          "base_uri": "https://localhost:8080/"
        },
        "id": "dIHmwFdtxD1J",
        "outputId": "17e37e44-3a3e-4ff0-a61b-8ad91bb61574"
      },
      "execution_count": 193,
      "outputs": [
        {
          "output_type": "execute_result",
          "data": {
            "text/plain": [
              "(2, 3, 3)"
            ]
          },
          "metadata": {},
          "execution_count": 193
        }
      ]
    },
    {
      "cell_type": "markdown",
      "source": [
        "## np.stack(axis=2) 분해"
      ],
      "metadata": {
        "id": "r9Ov2WFzxorr"
      }
    },
    {
      "cell_type": "code",
      "source": [
        "x"
      ],
      "metadata": {
        "colab": {
          "base_uri": "https://localhost:8080/"
        },
        "id": "KyzqudizxEZC",
        "outputId": "b2d19f67-d807-48c2-e4d4-d6888354553e"
      },
      "execution_count": 194,
      "outputs": [
        {
          "output_type": "execute_result",
          "data": {
            "text/plain": [
              "array([[0, 1, 2],\n",
              "       [3, 4, 5]])"
            ]
          },
          "metadata": {},
          "execution_count": 194
        }
      ]
    },
    {
      "cell_type": "code",
      "source": [
        "x[:,:,np.newaxis]"
      ],
      "metadata": {
        "colab": {
          "base_uri": "https://localhost:8080/"
        },
        "id": "GJYNImEExKdJ",
        "outputId": "fdda707e-b171-42a3-86ab-b368b009524f"
      },
      "execution_count": 195,
      "outputs": [
        {
          "output_type": "execute_result",
          "data": {
            "text/plain": [
              "array([[[0],\n",
              "        [1],\n",
              "        [2]],\n",
              "\n",
              "       [[3],\n",
              "        [4],\n",
              "        [5]]])"
            ]
          },
          "metadata": {},
          "execution_count": 195
        }
      ]
    },
    {
      "cell_type": "code",
      "source": [
        "np.expand_dims(x, axis=2)"
      ],
      "metadata": {
        "colab": {
          "base_uri": "https://localhost:8080/"
        },
        "id": "P2x8JTHMxMJh",
        "outputId": "ad7e633e-a6a8-43cc-d3d7-a492f4c73940"
      },
      "execution_count": 196,
      "outputs": [
        {
          "output_type": "execute_result",
          "data": {
            "text/plain": [
              "array([[[0],\n",
              "        [1],\n",
              "        [2]],\n",
              "\n",
              "       [[3],\n",
              "        [4],\n",
              "        [5]]])"
            ]
          },
          "metadata": {},
          "execution_count": 196
        }
      ]
    },
    {
      "cell_type": "code",
      "source": [
        "y"
      ],
      "metadata": {
        "colab": {
          "base_uri": "https://localhost:8080/"
        },
        "id": "3rBON1PbxUor",
        "outputId": "d3b8c72d-4c27-4b97-82e8-0e3c39fbed6b"
      },
      "execution_count": 197,
      "outputs": [
        {
          "output_type": "execute_result",
          "data": {
            "text/plain": [
              "array([[10, 11, 12],\n",
              "       [13, 14, 15]])"
            ]
          },
          "metadata": {},
          "execution_count": 197
        }
      ]
    },
    {
      "cell_type": "code",
      "source": [
        "y[:,:,np.newaxis]"
      ],
      "metadata": {
        "colab": {
          "base_uri": "https://localhost:8080/"
        },
        "id": "zS5VilTWxU_R",
        "outputId": "d593ab64-740e-4866-940f-576aec58f198"
      },
      "execution_count": 198,
      "outputs": [
        {
          "output_type": "execute_result",
          "data": {
            "text/plain": [
              "array([[[10],\n",
              "        [11],\n",
              "        [12]],\n",
              "\n",
              "       [[13],\n",
              "        [14],\n",
              "        [15]]])"
            ]
          },
          "metadata": {},
          "execution_count": 198
        }
      ]
    },
    {
      "cell_type": "code",
      "source": [
        "z"
      ],
      "metadata": {
        "colab": {
          "base_uri": "https://localhost:8080/"
        },
        "id": "gIcbH_6KxZ7e",
        "outputId": "2cc0e0f5-8d33-4d89-896c-f5381cb4687f"
      },
      "execution_count": 199,
      "outputs": [
        {
          "output_type": "execute_result",
          "data": {
            "text/plain": [
              "array([[20, 21, 22],\n",
              "       [23, 24, 25]])"
            ]
          },
          "metadata": {},
          "execution_count": 199
        }
      ]
    },
    {
      "cell_type": "code",
      "source": [
        "np.expand_dims(z,axis=2)"
      ],
      "metadata": {
        "colab": {
          "base_uri": "https://localhost:8080/"
        },
        "id": "-IxE-UDAxgYV",
        "outputId": "2fcac2d8-c62d-4ad5-eff6-a00f556fc871"
      },
      "execution_count": 200,
      "outputs": [
        {
          "output_type": "execute_result",
          "data": {
            "text/plain": [
              "array([[[20],\n",
              "        [21],\n",
              "        [22]],\n",
              "\n",
              "       [[23],\n",
              "        [24],\n",
              "        [25]]])"
            ]
          },
          "metadata": {},
          "execution_count": 200
        }
      ]
    },
    {
      "cell_type": "code",
      "source": [
        "np.stack((x,y,z), axis=2)"
      ],
      "metadata": {
        "colab": {
          "base_uri": "https://localhost:8080/"
        },
        "id": "0W7J7POJxjAV",
        "outputId": "21d5fdf7-2345-4c92-d0eb-1e499a297d5e"
      },
      "execution_count": 201,
      "outputs": [
        {
          "output_type": "execute_result",
          "data": {
            "text/plain": [
              "array([[[ 0, 10, 20],\n",
              "        [ 1, 11, 21],\n",
              "        [ 2, 12, 22]],\n",
              "\n",
              "       [[ 3, 13, 23],\n",
              "        [ 4, 14, 24],\n",
              "        [ 5, 15, 25]]])"
            ]
          },
          "metadata": {},
          "execution_count": 201
        }
      ]
    },
    {
      "cell_type": "markdown",
      "source": [
        "## 배열의 결합 비교 column_stack()과 hstack()"
      ],
      "metadata": {
        "id": "Gi6Ddc3zx4a3"
      }
    },
    {
      "cell_type": "code",
      "source": [
        "import numpy as np\n",
        "\n",
        "a = np.arange(1,13).reshape(3,4)\n",
        "a"
      ],
      "metadata": {
        "colab": {
          "base_uri": "https://localhost:8080/"
        },
        "id": "DeEfJuHix7I0",
        "outputId": "a78050fb-cd05-4ccb-be69-535133ffe01d"
      },
      "execution_count": 202,
      "outputs": [
        {
          "output_type": "execute_result",
          "data": {
            "text/plain": [
              "array([[ 1,  2,  3,  4],\n",
              "       [ 5,  6,  7,  8],\n",
              "       [ 9, 10, 11, 12]])"
            ]
          },
          "metadata": {},
          "execution_count": 202
        }
      ]
    },
    {
      "cell_type": "code",
      "source": [
        "c= np.arange(1,6,2)\n",
        "c"
      ],
      "metadata": {
        "colab": {
          "base_uri": "https://localhost:8080/"
        },
        "id": "TEWdZ4OoyFfB",
        "outputId": "401d3877-d3ab-479e-95a2-e86fbbb80b2f"
      },
      "execution_count": 203,
      "outputs": [
        {
          "output_type": "execute_result",
          "data": {
            "text/plain": [
              "array([1, 3, 5])"
            ]
          },
          "metadata": {},
          "execution_count": 203
        }
      ]
    },
    {
      "cell_type": "code",
      "source": [
        "c[:,np.newaxis]"
      ],
      "metadata": {
        "colab": {
          "base_uri": "https://localhost:8080/"
        },
        "id": "zCwsHnhzyHQm",
        "outputId": "bd1074d1-dede-4d5d-af53-9d8e73a9041b"
      },
      "execution_count": 204,
      "outputs": [
        {
          "output_type": "execute_result",
          "data": {
            "text/plain": [
              "array([[1],\n",
              "       [3],\n",
              "       [5]])"
            ]
          },
          "metadata": {},
          "execution_count": 204
        }
      ]
    },
    {
      "cell_type": "code",
      "source": [
        "np.hstack((a,c[:,np.newaxis]))"
      ],
      "metadata": {
        "colab": {
          "base_uri": "https://localhost:8080/"
        },
        "id": "Vsv3KYw_yK-p",
        "outputId": "b290a8df-8159-4914-fbc9-6e44a14a291e"
      },
      "execution_count": 205,
      "outputs": [
        {
          "output_type": "execute_result",
          "data": {
            "text/plain": [
              "array([[ 1,  2,  3,  4,  1],\n",
              "       [ 5,  6,  7,  8,  3],\n",
              "       [ 9, 10, 11, 12,  5]])"
            ]
          },
          "metadata": {},
          "execution_count": 205
        }
      ]
    },
    {
      "cell_type": "code",
      "source": [
        "np.hstack((a,c))"
      ],
      "metadata": {
        "colab": {
          "base_uri": "https://localhost:8080/",
          "height": 263
        },
        "id": "0VI152OpyPXv",
        "outputId": "779b0379-6008-4900-85ce-c5735bc9c907"
      },
      "execution_count": 206,
      "outputs": [
        {
          "output_type": "error",
          "ename": "ValueError",
          "evalue": "all the input arrays must have same number of dimensions, but the array at index 0 has 2 dimension(s) and the array at index 1 has 1 dimension(s)",
          "traceback": [
            "\u001b[0;31m---------------------------------------------------------------------------\u001b[0m",
            "\u001b[0;31mValueError\u001b[0m                                Traceback (most recent call last)",
            "\u001b[0;32m<ipython-input-206-77354712171d>\u001b[0m in \u001b[0;36m<cell line: 1>\u001b[0;34m()\u001b[0m\n\u001b[0;32m----> 1\u001b[0;31m \u001b[0mnp\u001b[0m\u001b[0;34m.\u001b[0m\u001b[0mhstack\u001b[0m\u001b[0;34m(\u001b[0m\u001b[0;34m(\u001b[0m\u001b[0ma\u001b[0m\u001b[0;34m,\u001b[0m\u001b[0mc\u001b[0m\u001b[0;34m)\u001b[0m\u001b[0;34m)\u001b[0m\u001b[0;34m\u001b[0m\u001b[0;34m\u001b[0m\u001b[0m\n\u001b[0m",
            "\u001b[0;32m/usr/local/lib/python3.10/dist-packages/numpy/core/shape_base.py\u001b[0m in \u001b[0;36mhstack\u001b[0;34m(tup, dtype, casting)\u001b[0m\n\u001b[1;32m    357\u001b[0m         \u001b[0;32mreturn\u001b[0m \u001b[0m_nx\u001b[0m\u001b[0;34m.\u001b[0m\u001b[0mconcatenate\u001b[0m\u001b[0;34m(\u001b[0m\u001b[0marrs\u001b[0m\u001b[0;34m,\u001b[0m \u001b[0;36m0\u001b[0m\u001b[0;34m,\u001b[0m \u001b[0mdtype\u001b[0m\u001b[0;34m=\u001b[0m\u001b[0mdtype\u001b[0m\u001b[0;34m,\u001b[0m \u001b[0mcasting\u001b[0m\u001b[0;34m=\u001b[0m\u001b[0mcasting\u001b[0m\u001b[0;34m)\u001b[0m\u001b[0;34m\u001b[0m\u001b[0;34m\u001b[0m\u001b[0m\n\u001b[1;32m    358\u001b[0m     \u001b[0;32melse\u001b[0m\u001b[0;34m:\u001b[0m\u001b[0;34m\u001b[0m\u001b[0;34m\u001b[0m\u001b[0m\n\u001b[0;32m--> 359\u001b[0;31m         \u001b[0;32mreturn\u001b[0m \u001b[0m_nx\u001b[0m\u001b[0;34m.\u001b[0m\u001b[0mconcatenate\u001b[0m\u001b[0;34m(\u001b[0m\u001b[0marrs\u001b[0m\u001b[0;34m,\u001b[0m \u001b[0;36m1\u001b[0m\u001b[0;34m,\u001b[0m \u001b[0mdtype\u001b[0m\u001b[0;34m=\u001b[0m\u001b[0mdtype\u001b[0m\u001b[0;34m,\u001b[0m \u001b[0mcasting\u001b[0m\u001b[0;34m=\u001b[0m\u001b[0mcasting\u001b[0m\u001b[0;34m)\u001b[0m\u001b[0;34m\u001b[0m\u001b[0;34m\u001b[0m\u001b[0m\n\u001b[0m\u001b[1;32m    360\u001b[0m \u001b[0;34m\u001b[0m\u001b[0m\n\u001b[1;32m    361\u001b[0m \u001b[0;34m\u001b[0m\u001b[0m\n",
            "\u001b[0;31mValueError\u001b[0m: all the input arrays must have same number of dimensions, but the array at index 0 has 2 dimension(s) and the array at index 1 has 1 dimension(s)"
          ]
        }
      ]
    },
    {
      "cell_type": "code",
      "source": [
        "np.hstack((a,np.expand_dims(c,axis=1)))"
      ],
      "metadata": {
        "colab": {
          "base_uri": "https://localhost:8080/"
        },
        "id": "mia3GUuOyVNJ",
        "outputId": "48c0551d-e44d-462b-85c4-0ff8c916ee50"
      },
      "execution_count": 208,
      "outputs": [
        {
          "output_type": "execute_result",
          "data": {
            "text/plain": [
              "array([[ 1,  2,  3,  4,  1],\n",
              "       [ 5,  6,  7,  8,  3],\n",
              "       [ 9, 10, 11, 12,  5]])"
            ]
          },
          "metadata": {},
          "execution_count": 208
        }
      ]
    },
    {
      "cell_type": "code",
      "source": [
        "np.column_stack((a,c))"
      ],
      "metadata": {
        "colab": {
          "base_uri": "https://localhost:8080/"
        },
        "id": "oou-PQ8Qyu-R",
        "outputId": "4176c61d-3cc3-4833-c1dc-d911eb61b193"
      },
      "execution_count": 209,
      "outputs": [
        {
          "output_type": "execute_result",
          "data": {
            "text/plain": [
              "array([[ 1,  2,  3,  4,  1],\n",
              "       [ 5,  6,  7,  8,  3],\n",
              "       [ 9, 10, 11, 12,  5]])"
            ]
          },
          "metadata": {},
          "execution_count": 209
        }
      ]
    },
    {
      "cell_type": "markdown",
      "source": [
        "## row_stack()과 vstack()"
      ],
      "metadata": {
        "id": "FfgG8cbVyyI4"
      }
    },
    {
      "cell_type": "code",
      "source": [
        "import numpy as np\n",
        "\n",
        "a = np.arange(1,13).reshape(3,4)\n",
        "a"
      ],
      "metadata": {
        "colab": {
          "base_uri": "https://localhost:8080/"
        },
        "id": "zdf734XOy4mi",
        "outputId": "c77f609d-7f1f-4a9b-8f3c-69e501738239"
      },
      "execution_count": 210,
      "outputs": [
        {
          "output_type": "execute_result",
          "data": {
            "text/plain": [
              "array([[ 1,  2,  3,  4],\n",
              "       [ 5,  6,  7,  8],\n",
              "       [ 9, 10, 11, 12]])"
            ]
          },
          "metadata": {},
          "execution_count": 210
        }
      ]
    },
    {
      "cell_type": "code",
      "source": [
        "b = np.arange(1,5)\n",
        "b"
      ],
      "metadata": {
        "colab": {
          "base_uri": "https://localhost:8080/"
        },
        "id": "8SkcZ-hxy7Nj",
        "outputId": "a576826d-bee0-41b3-ec8f-09cbe558d00c"
      },
      "execution_count": 211,
      "outputs": [
        {
          "output_type": "execute_result",
          "data": {
            "text/plain": [
              "array([1, 2, 3, 4])"
            ]
          },
          "metadata": {},
          "execution_count": 211
        }
      ]
    },
    {
      "cell_type": "code",
      "source": [
        "np.row_stack((a,b))"
      ],
      "metadata": {
        "colab": {
          "base_uri": "https://localhost:8080/"
        },
        "id": "W0boWuhdy9PK",
        "outputId": "8cc53f72-719e-433d-c1f2-a5219f79b440"
      },
      "execution_count": 212,
      "outputs": [
        {
          "output_type": "execute_result",
          "data": {
            "text/plain": [
              "array([[ 1,  2,  3,  4],\n",
              "       [ 5,  6,  7,  8],\n",
              "       [ 9, 10, 11, 12],\n",
              "       [ 1,  2,  3,  4]])"
            ]
          },
          "metadata": {},
          "execution_count": 212
        }
      ]
    },
    {
      "cell_type": "code",
      "source": [
        "np.vstack((a,b))"
      ],
      "metadata": {
        "colab": {
          "base_uri": "https://localhost:8080/"
        },
        "id": "sI-dGbOxzHZq",
        "outputId": "89a94306-24ea-4b8b-bdff-87e67005f122"
      },
      "execution_count": 213,
      "outputs": [
        {
          "output_type": "execute_result",
          "data": {
            "text/plain": [
              "array([[ 1,  2,  3,  4],\n",
              "       [ 5,  6,  7,  8],\n",
              "       [ 9, 10, 11, 12],\n",
              "       [ 1,  2,  3,  4]])"
            ]
          },
          "metadata": {},
          "execution_count": 213
        }
      ]
    },
    {
      "cell_type": "markdown",
      "source": [
        "## np.c_[]와 np.column_stack()"
      ],
      "metadata": {
        "id": "Iak_oI7yzMLl"
      }
    },
    {
      "cell_type": "code",
      "source": [
        "help(np.c_)"
      ],
      "metadata": {
        "colab": {
          "base_uri": "https://localhost:8080/"
        },
        "id": "Gv54wGkGz3Na",
        "outputId": "c132d087-36c1-4e5a-de2d-2cd265bdca30"
      },
      "execution_count": 214,
      "outputs": [
        {
          "output_type": "stream",
          "name": "stdout",
          "text": [
            "Help on CClass in module numpy.lib.index_tricks object:\n",
            "\n",
            "class CClass(AxisConcatenator)\n",
            " |  Translates slice objects to concatenation along the second axis.\n",
            " |  \n",
            " |  This is short-hand for ``np.r_['-1,2,0', index expression]``, which is\n",
            " |  useful because of its common occurrence. In particular, arrays will be\n",
            " |  stacked along their last axis after being upgraded to at least 2-D with\n",
            " |  1's post-pended to the shape (column vectors made out of 1-D arrays).\n",
            " |  \n",
            " |  See Also\n",
            " |  --------\n",
            " |  column_stack : Stack 1-D arrays as columns into a 2-D array.\n",
            " |  r_ : For more detailed documentation.\n",
            " |  \n",
            " |  Examples\n",
            " |  --------\n",
            " |  >>> np.c_[np.array([1,2,3]), np.array([4,5,6])]\n",
            " |  array([[1, 4],\n",
            " |         [2, 5],\n",
            " |         [3, 6]])\n",
            " |  >>> np.c_[np.array([[1,2,3]]), 0, 0, np.array([[4,5,6]])]\n",
            " |  array([[1, 2, 3, ..., 4, 5, 6]])\n",
            " |  \n",
            " |  Method resolution order:\n",
            " |      CClass\n",
            " |      AxisConcatenator\n",
            " |      builtins.object\n",
            " |  \n",
            " |  Methods defined here:\n",
            " |  \n",
            " |  __init__(self)\n",
            " |      Initialize self.  See help(type(self)) for accurate signature.\n",
            " |  \n",
            " |  ----------------------------------------------------------------------\n",
            " |  Methods inherited from AxisConcatenator:\n",
            " |  \n",
            " |  __getitem__(self, key)\n",
            " |  \n",
            " |  __len__(self)\n",
            " |  \n",
            " |  ----------------------------------------------------------------------\n",
            " |  Static methods inherited from AxisConcatenator:\n",
            " |  \n",
            " |  concatenate(...)\n",
            " |      concatenate((a1, a2, ...), axis=0, out=None, dtype=None, casting=\"same_kind\")\n",
            " |      \n",
            " |      Join a sequence of arrays along an existing axis.\n",
            " |      \n",
            " |      Parameters\n",
            " |      ----------\n",
            " |      a1, a2, ... : sequence of array_like\n",
            " |          The arrays must have the same shape, except in the dimension\n",
            " |          corresponding to `axis` (the first, by default).\n",
            " |      axis : int, optional\n",
            " |          The axis along which the arrays will be joined.  If axis is None,\n",
            " |          arrays are flattened before use.  Default is 0.\n",
            " |      out : ndarray, optional\n",
            " |          If provided, the destination to place the result. The shape must be\n",
            " |          correct, matching that of what concatenate would have returned if no\n",
            " |          out argument were specified.\n",
            " |      dtype : str or dtype\n",
            " |          If provided, the destination array will have this dtype. Cannot be\n",
            " |          provided together with `out`.\n",
            " |      \n",
            " |          .. versionadded:: 1.20.0\n",
            " |      \n",
            " |      casting : {'no', 'equiv', 'safe', 'same_kind', 'unsafe'}, optional\n",
            " |          Controls what kind of data casting may occur. Defaults to 'same_kind'.\n",
            " |      \n",
            " |          .. versionadded:: 1.20.0\n",
            " |      \n",
            " |      Returns\n",
            " |      -------\n",
            " |      res : ndarray\n",
            " |          The concatenated array.\n",
            " |      \n",
            " |      See Also\n",
            " |      --------\n",
            " |      ma.concatenate : Concatenate function that preserves input masks.\n",
            " |      array_split : Split an array into multiple sub-arrays of equal or\n",
            " |                    near-equal size.\n",
            " |      split : Split array into a list of multiple sub-arrays of equal size.\n",
            " |      hsplit : Split array into multiple sub-arrays horizontally (column wise).\n",
            " |      vsplit : Split array into multiple sub-arrays vertically (row wise).\n",
            " |      dsplit : Split array into multiple sub-arrays along the 3rd axis (depth).\n",
            " |      stack : Stack a sequence of arrays along a new axis.\n",
            " |      block : Assemble arrays from blocks.\n",
            " |      hstack : Stack arrays in sequence horizontally (column wise).\n",
            " |      vstack : Stack arrays in sequence vertically (row wise).\n",
            " |      dstack : Stack arrays in sequence depth wise (along third dimension).\n",
            " |      column_stack : Stack 1-D arrays as columns into a 2-D array.\n",
            " |      \n",
            " |      Notes\n",
            " |      -----\n",
            " |      When one or more of the arrays to be concatenated is a MaskedArray,\n",
            " |      this function will return a MaskedArray object instead of an ndarray,\n",
            " |      but the input masks are *not* preserved. In cases where a MaskedArray\n",
            " |      is expected as input, use the ma.concatenate function from the masked\n",
            " |      array module instead.\n",
            " |      \n",
            " |      Examples\n",
            " |      --------\n",
            " |      >>> a = np.array([[1, 2], [3, 4]])\n",
            " |      >>> b = np.array([[5, 6]])\n",
            " |      >>> np.concatenate((a, b), axis=0)\n",
            " |      array([[1, 2],\n",
            " |             [3, 4],\n",
            " |             [5, 6]])\n",
            " |      >>> np.concatenate((a, b.T), axis=1)\n",
            " |      array([[1, 2, 5],\n",
            " |             [3, 4, 6]])\n",
            " |      >>> np.concatenate((a, b), axis=None)\n",
            " |      array([1, 2, 3, 4, 5, 6])\n",
            " |      \n",
            " |      This function will not preserve masking of MaskedArray inputs.\n",
            " |      \n",
            " |      >>> a = np.ma.arange(3)\n",
            " |      >>> a[1] = np.ma.masked\n",
            " |      >>> b = np.arange(2, 5)\n",
            " |      >>> a\n",
            " |      masked_array(data=[0, --, 2],\n",
            " |                   mask=[False,  True, False],\n",
            " |             fill_value=999999)\n",
            " |      >>> b\n",
            " |      array([2, 3, 4])\n",
            " |      >>> np.concatenate([a, b])\n",
            " |      masked_array(data=[0, 1, 2, 2, 3, 4],\n",
            " |                   mask=False,\n",
            " |             fill_value=999999)\n",
            " |      >>> np.ma.concatenate([a, b])\n",
            " |      masked_array(data=[0, --, 2, 2, 3, 4],\n",
            " |                   mask=[False,  True, False, False, False, False],\n",
            " |             fill_value=999999)\n",
            " |  \n",
            " |  makemat = class matrix(ndarray)\n",
            " |   |  makemat(data, dtype=None, copy=True)\n",
            " |   |  \n",
            " |   |  matrix(data, dtype=None, copy=True)\n",
            " |   |  \n",
            " |   |  .. note:: It is no longer recommended to use this class, even for linear\n",
            " |   |            algebra. Instead use regular arrays. The class may be removed\n",
            " |   |            in the future.\n",
            " |   |  \n",
            " |   |  Returns a matrix from an array-like object, or from a string of data.\n",
            " |   |  A matrix is a specialized 2-D array that retains its 2-D nature\n",
            " |   |  through operations.  It has certain special operators, such as ``*``\n",
            " |   |  (matrix multiplication) and ``**`` (matrix power).\n",
            " |   |  \n",
            " |   |  Parameters\n",
            " |   |  ----------\n",
            " |   |  data : array_like or string\n",
            " |   |     If `data` is a string, it is interpreted as a matrix with commas\n",
            " |   |     or spaces separating columns, and semicolons separating rows.\n",
            " |   |  dtype : data-type\n",
            " |   |     Data-type of the output matrix.\n",
            " |   |  copy : bool\n",
            " |   |     If `data` is already an `ndarray`, then this flag determines\n",
            " |   |     whether the data is copied (the default), or whether a view is\n",
            " |   |     constructed.\n",
            " |   |  \n",
            " |   |  See Also\n",
            " |   |  --------\n",
            " |   |  array\n",
            " |   |  \n",
            " |   |  Examples\n",
            " |   |  --------\n",
            " |   |  >>> a = np.matrix('1 2; 3 4')\n",
            " |   |  >>> a\n",
            " |   |  matrix([[1, 2],\n",
            " |   |          [3, 4]])\n",
            " |   |  \n",
            " |   |  >>> np.matrix([[1, 2], [3, 4]])\n",
            " |   |  matrix([[1, 2],\n",
            " |   |          [3, 4]])\n",
            " |   |  \n",
            " |   |  Method resolution order:\n",
            " |   |      matrix\n",
            " |   |      ndarray\n",
            " |   |      builtins.object\n",
            " |   |  \n",
            " |   |  Methods defined here:\n",
            " |   |  \n",
            " |   |  __array_finalize__(self, obj)\n",
            " |   |      a.__array_finalize__(obj, /)\n",
            " |   |      \n",
            " |   |      Present so subclasses can call super. Does nothing.\n",
            " |   |  \n",
            " |   |  __getitem__(self, index)\n",
            " |   |      Return self[key].\n",
            " |   |  \n",
            " |   |  __imul__(self, other)\n",
            " |   |      Return self*=value.\n",
            " |   |  \n",
            " |   |  __ipow__(self, other)\n",
            " |   |      Return self**=value.\n",
            " |   |  \n",
            " |   |  __mul__(self, other)\n",
            " |   |      Return self*value.\n",
            " |   |  \n",
            " |   |  __pow__(self, other)\n",
            " |   |      Return pow(self, value, mod).\n",
            " |   |  \n",
            " |   |  __rmul__(self, other)\n",
            " |   |      Return value*self.\n",
            " |   |  \n",
            " |   |  __rpow__(self, other)\n",
            " |   |      Return pow(value, self, mod).\n",
            " |   |  \n",
            " |   |  all(self, axis=None, out=None)\n",
            " |   |      Test whether all matrix elements along a given axis evaluate to True.\n",
            " |   |      \n",
            " |   |      Parameters\n",
            " |   |      ----------\n",
            " |   |      See `numpy.all` for complete descriptions\n",
            " |   |      \n",
            " |   |      See Also\n",
            " |   |      --------\n",
            " |   |      numpy.all\n",
            " |   |      \n",
            " |   |      Notes\n",
            " |   |      -----\n",
            " |   |      This is the same as `ndarray.all`, but it returns a `matrix` object.\n",
            " |   |      \n",
            " |   |      Examples\n",
            " |   |      --------\n",
            " |   |      >>> x = np.matrix(np.arange(12).reshape((3,4))); x\n",
            " |   |      matrix([[ 0,  1,  2,  3],\n",
            " |   |              [ 4,  5,  6,  7],\n",
            " |   |              [ 8,  9, 10, 11]])\n",
            " |   |      >>> y = x[0]; y\n",
            " |   |      matrix([[0, 1, 2, 3]])\n",
            " |   |      >>> (x == y)\n",
            " |   |      matrix([[ True,  True,  True,  True],\n",
            " |   |              [False, False, False, False],\n",
            " |   |              [False, False, False, False]])\n",
            " |   |      >>> (x == y).all()\n",
            " |   |      False\n",
            " |   |      >>> (x == y).all(0)\n",
            " |   |      matrix([[False, False, False, False]])\n",
            " |   |      >>> (x == y).all(1)\n",
            " |   |      matrix([[ True],\n",
            " |   |              [False],\n",
            " |   |              [False]])\n",
            " |   |  \n",
            " |   |  any(self, axis=None, out=None)\n",
            " |   |      Test whether any array element along a given axis evaluates to True.\n",
            " |   |      \n",
            " |   |      Refer to `numpy.any` for full documentation.\n",
            " |   |      \n",
            " |   |      Parameters\n",
            " |   |      ----------\n",
            " |   |      axis : int, optional\n",
            " |   |          Axis along which logical OR is performed\n",
            " |   |      out : ndarray, optional\n",
            " |   |          Output to existing array instead of creating new one, must have\n",
            " |   |          same shape as expected output\n",
            " |   |      \n",
            " |   |      Returns\n",
            " |   |      -------\n",
            " |   |          any : bool, ndarray\n",
            " |   |              Returns a single bool if `axis` is ``None``; otherwise,\n",
            " |   |              returns `ndarray`\n",
            " |   |  \n",
            " |   |  argmax(self, axis=None, out=None)\n",
            " |   |      Indexes of the maximum values along an axis.\n",
            " |   |      \n",
            " |   |      Return the indexes of the first occurrences of the maximum values\n",
            " |   |      along the specified axis.  If axis is None, the index is for the\n",
            " |   |      flattened matrix.\n",
            " |   |      \n",
            " |   |      Parameters\n",
            " |   |      ----------\n",
            " |   |      See `numpy.argmax` for complete descriptions\n",
            " |   |      \n",
            " |   |      See Also\n",
            " |   |      --------\n",
            " |   |      numpy.argmax\n",
            " |   |      \n",
            " |   |      Notes\n",
            " |   |      -----\n",
            " |   |      This is the same as `ndarray.argmax`, but returns a `matrix` object\n",
            " |   |      where `ndarray.argmax` would return an `ndarray`.\n",
            " |   |      \n",
            " |   |      Examples\n",
            " |   |      --------\n",
            " |   |      >>> x = np.matrix(np.arange(12).reshape((3,4))); x\n",
            " |   |      matrix([[ 0,  1,  2,  3],\n",
            " |   |              [ 4,  5,  6,  7],\n",
            " |   |              [ 8,  9, 10, 11]])\n",
            " |   |      >>> x.argmax()\n",
            " |   |      11\n",
            " |   |      >>> x.argmax(0)\n",
            " |   |      matrix([[2, 2, 2, 2]])\n",
            " |   |      >>> x.argmax(1)\n",
            " |   |      matrix([[3],\n",
            " |   |              [3],\n",
            " |   |              [3]])\n",
            " |   |  \n",
            " |   |  argmin(self, axis=None, out=None)\n",
            " |   |      Indexes of the minimum values along an axis.\n",
            " |   |      \n",
            " |   |      Return the indexes of the first occurrences of the minimum values\n",
            " |   |      along the specified axis.  If axis is None, the index is for the\n",
            " |   |      flattened matrix.\n",
            " |   |      \n",
            " |   |      Parameters\n",
            " |   |      ----------\n",
            " |   |      See `numpy.argmin` for complete descriptions.\n",
            " |   |      \n",
            " |   |      See Also\n",
            " |   |      --------\n",
            " |   |      numpy.argmin\n",
            " |   |      \n",
            " |   |      Notes\n",
            " |   |      -----\n",
            " |   |      This is the same as `ndarray.argmin`, but returns a `matrix` object\n",
            " |   |      where `ndarray.argmin` would return an `ndarray`.\n",
            " |   |      \n",
            " |   |      Examples\n",
            " |   |      --------\n",
            " |   |      >>> x = -np.matrix(np.arange(12).reshape((3,4))); x\n",
            " |   |      matrix([[  0,  -1,  -2,  -3],\n",
            " |   |              [ -4,  -5,  -6,  -7],\n",
            " |   |              [ -8,  -9, -10, -11]])\n",
            " |   |      >>> x.argmin()\n",
            " |   |      11\n",
            " |   |      >>> x.argmin(0)\n",
            " |   |      matrix([[2, 2, 2, 2]])\n",
            " |   |      >>> x.argmin(1)\n",
            " |   |      matrix([[3],\n",
            " |   |              [3],\n",
            " |   |              [3]])\n",
            " |   |  \n",
            " |   |  flatten(self, order='C')\n",
            " |   |      Return a flattened copy of the matrix.\n",
            " |   |      \n",
            " |   |      All `N` elements of the matrix are placed into a single row.\n",
            " |   |      \n",
            " |   |      Parameters\n",
            " |   |      ----------\n",
            " |   |      order : {'C', 'F', 'A', 'K'}, optional\n",
            " |   |          'C' means to flatten in row-major (C-style) order. 'F' means to\n",
            " |   |          flatten in column-major (Fortran-style) order. 'A' means to\n",
            " |   |          flatten in column-major order if `m` is Fortran *contiguous* in\n",
            " |   |          memory, row-major order otherwise. 'K' means to flatten `m` in\n",
            " |   |          the order the elements occur in memory. The default is 'C'.\n",
            " |   |      \n",
            " |   |      Returns\n",
            " |   |      -------\n",
            " |   |      y : matrix\n",
            " |   |          A copy of the matrix, flattened to a `(1, N)` matrix where `N`\n",
            " |   |          is the number of elements in the original matrix.\n",
            " |   |      \n",
            " |   |      See Also\n",
            " |   |      --------\n",
            " |   |      ravel : Return a flattened array.\n",
            " |   |      flat : A 1-D flat iterator over the matrix.\n",
            " |   |      \n",
            " |   |      Examples\n",
            " |   |      --------\n",
            " |   |      >>> m = np.matrix([[1,2], [3,4]])\n",
            " |   |      >>> m.flatten()\n",
            " |   |      matrix([[1, 2, 3, 4]])\n",
            " |   |      >>> m.flatten('F')\n",
            " |   |      matrix([[1, 3, 2, 4]])\n",
            " |   |  \n",
            " |   |  getA = A(self)\n",
            " |   |      Return `self` as an `ndarray` object.\n",
            " |   |      \n",
            " |   |      Equivalent to ``np.asarray(self)``.\n",
            " |   |      \n",
            " |   |      Parameters\n",
            " |   |      ----------\n",
            " |   |      None\n",
            " |   |      \n",
            " |   |      Returns\n",
            " |   |      -------\n",
            " |   |      ret : ndarray\n",
            " |   |          `self` as an `ndarray`\n",
            " |   |      \n",
            " |   |      Examples\n",
            " |   |      --------\n",
            " |   |      >>> x = np.matrix(np.arange(12).reshape((3,4))); x\n",
            " |   |      matrix([[ 0,  1,  2,  3],\n",
            " |   |              [ 4,  5,  6,  7],\n",
            " |   |              [ 8,  9, 10, 11]])\n",
            " |   |      >>> x.getA()\n",
            " |   |      array([[ 0,  1,  2,  3],\n",
            " |   |             [ 4,  5,  6,  7],\n",
            " |   |             [ 8,  9, 10, 11]])\n",
            " |   |  \n",
            " |   |  getA1 = A1(self)\n",
            " |   |      Return `self` as a flattened `ndarray`.\n",
            " |   |      \n",
            " |   |      Equivalent to ``np.asarray(x).ravel()``\n",
            " |   |      \n",
            " |   |      Parameters\n",
            " |   |      ----------\n",
            " |   |      None\n",
            " |   |      \n",
            " |   |      Returns\n",
            " |   |      -------\n",
            " |   |      ret : ndarray\n",
            " |   |          `self`, 1-D, as an `ndarray`\n",
            " |   |      \n",
            " |   |      Examples\n",
            " |   |      --------\n",
            " |   |      >>> x = np.matrix(np.arange(12).reshape((3,4))); x\n",
            " |   |      matrix([[ 0,  1,  2,  3],\n",
            " |   |              [ 4,  5,  6,  7],\n",
            " |   |              [ 8,  9, 10, 11]])\n",
            " |   |      >>> x.getA1()\n",
            " |   |      array([ 0,  1,  2, ...,  9, 10, 11])\n",
            " |   |  \n",
            " |   |  getH = H(self)\n",
            " |   |      Returns the (complex) conjugate transpose of `self`.\n",
            " |   |      \n",
            " |   |      Equivalent to ``np.transpose(self)`` if `self` is real-valued.\n",
            " |   |      \n",
            " |   |      Parameters\n",
            " |   |      ----------\n",
            " |   |      None\n",
            " |   |      \n",
            " |   |      Returns\n",
            " |   |      -------\n",
            " |   |      ret : matrix object\n",
            " |   |          complex conjugate transpose of `self`\n",
            " |   |      \n",
            " |   |      Examples\n",
            " |   |      --------\n",
            " |   |      >>> x = np.matrix(np.arange(12).reshape((3,4)))\n",
            " |   |      >>> z = x - 1j*x; z\n",
            " |   |      matrix([[  0. +0.j,   1. -1.j,   2. -2.j,   3. -3.j],\n",
            " |   |              [  4. -4.j,   5. -5.j,   6. -6.j,   7. -7.j],\n",
            " |   |              [  8. -8.j,   9. -9.j,  10.-10.j,  11.-11.j]])\n",
            " |   |      >>> z.getH()\n",
            " |   |      matrix([[ 0. -0.j,  4. +4.j,  8. +8.j],\n",
            " |   |              [ 1. +1.j,  5. +5.j,  9. +9.j],\n",
            " |   |              [ 2. +2.j,  6. +6.j, 10.+10.j],\n",
            " |   |              [ 3. +3.j,  7. +7.j, 11.+11.j]])\n",
            " |   |  \n",
            " |   |  getI = I(self)\n",
            " |   |      Returns the (multiplicative) inverse of invertible `self`.\n",
            " |   |      \n",
            " |   |      Parameters\n",
            " |   |      ----------\n",
            " |   |      None\n",
            " |   |      \n",
            " |   |      Returns\n",
            " |   |      -------\n",
            " |   |      ret : matrix object\n",
            " |   |          If `self` is non-singular, `ret` is such that ``ret * self`` ==\n",
            " |   |          ``self * ret`` == ``np.matrix(np.eye(self[0,:].size))`` all return\n",
            " |   |          ``True``.\n",
            " |   |      \n",
            " |   |      Raises\n",
            " |   |      ------\n",
            " |   |      numpy.linalg.LinAlgError: Singular matrix\n",
            " |   |          If `self` is singular.\n",
            " |   |      \n",
            " |   |      See Also\n",
            " |   |      --------\n",
            " |   |      linalg.inv\n",
            " |   |      \n",
            " |   |      Examples\n",
            " |   |      --------\n",
            " |   |      >>> m = np.matrix('[1, 2; 3, 4]'); m\n",
            " |   |      matrix([[1, 2],\n",
            " |   |              [3, 4]])\n",
            " |   |      >>> m.getI()\n",
            " |   |      matrix([[-2. ,  1. ],\n",
            " |   |              [ 1.5, -0.5]])\n",
            " |   |      >>> m.getI() * m\n",
            " |   |      matrix([[ 1.,  0.], # may vary\n",
            " |   |              [ 0.,  1.]])\n",
            " |   |  \n",
            " |   |  getT = T(self)\n",
            " |   |      Returns the transpose of the matrix.\n",
            " |   |      \n",
            " |   |      Does *not* conjugate!  For the complex conjugate transpose, use ``.H``.\n",
            " |   |      \n",
            " |   |      Parameters\n",
            " |   |      ----------\n",
            " |   |      None\n",
            " |   |      \n",
            " |   |      Returns\n",
            " |   |      -------\n",
            " |   |      ret : matrix object\n",
            " |   |          The (non-conjugated) transpose of the matrix.\n",
            " |   |      \n",
            " |   |      See Also\n",
            " |   |      --------\n",
            " |   |      transpose, getH\n",
            " |   |      \n",
            " |   |      Examples\n",
            " |   |      --------\n",
            " |   |      >>> m = np.matrix('[1, 2; 3, 4]')\n",
            " |   |      >>> m\n",
            " |   |      matrix([[1, 2],\n",
            " |   |              [3, 4]])\n",
            " |   |      >>> m.getT()\n",
            " |   |      matrix([[1, 3],\n",
            " |   |              [2, 4]])\n",
            " |   |  \n",
            " |   |  max(self, axis=None, out=None)\n",
            " |   |      Return the maximum value along an axis.\n",
            " |   |      \n",
            " |   |      Parameters\n",
            " |   |      ----------\n",
            " |   |      See `amax` for complete descriptions\n",
            " |   |      \n",
            " |   |      See Also\n",
            " |   |      --------\n",
            " |   |      amax, ndarray.max\n",
            " |   |      \n",
            " |   |      Notes\n",
            " |   |      -----\n",
            " |   |      This is the same as `ndarray.max`, but returns a `matrix` object\n",
            " |   |      where `ndarray.max` would return an ndarray.\n",
            " |   |      \n",
            " |   |      Examples\n",
            " |   |      --------\n",
            " |   |      >>> x = np.matrix(np.arange(12).reshape((3,4))); x\n",
            " |   |      matrix([[ 0,  1,  2,  3],\n",
            " |   |              [ 4,  5,  6,  7],\n",
            " |   |              [ 8,  9, 10, 11]])\n",
            " |   |      >>> x.max()\n",
            " |   |      11\n",
            " |   |      >>> x.max(0)\n",
            " |   |      matrix([[ 8,  9, 10, 11]])\n",
            " |   |      >>> x.max(1)\n",
            " |   |      matrix([[ 3],\n",
            " |   |              [ 7],\n",
            " |   |              [11]])\n",
            " |   |  \n",
            " |   |  mean(self, axis=None, dtype=None, out=None)\n",
            " |   |      Returns the average of the matrix elements along the given axis.\n",
            " |   |      \n",
            " |   |      Refer to `numpy.mean` for full documentation.\n",
            " |   |      \n",
            " |   |      See Also\n",
            " |   |      --------\n",
            " |   |      numpy.mean\n",
            " |   |      \n",
            " |   |      Notes\n",
            " |   |      -----\n",
            " |   |      Same as `ndarray.mean` except that, where that returns an `ndarray`,\n",
            " |   |      this returns a `matrix` object.\n",
            " |   |      \n",
            " |   |      Examples\n",
            " |   |      --------\n",
            " |   |      >>> x = np.matrix(np.arange(12).reshape((3, 4)))\n",
            " |   |      >>> x\n",
            " |   |      matrix([[ 0,  1,  2,  3],\n",
            " |   |              [ 4,  5,  6,  7],\n",
            " |   |              [ 8,  9, 10, 11]])\n",
            " |   |      >>> x.mean()\n",
            " |   |      5.5\n",
            " |   |      >>> x.mean(0)\n",
            " |   |      matrix([[4., 5., 6., 7.]])\n",
            " |   |      >>> x.mean(1)\n",
            " |   |      matrix([[ 1.5],\n",
            " |   |              [ 5.5],\n",
            " |   |              [ 9.5]])\n",
            " |   |  \n",
            " |   |  min(self, axis=None, out=None)\n",
            " |   |      Return the minimum value along an axis.\n",
            " |   |      \n",
            " |   |      Parameters\n",
            " |   |      ----------\n",
            " |   |      See `amin` for complete descriptions.\n",
            " |   |      \n",
            " |   |      See Also\n",
            " |   |      --------\n",
            " |   |      amin, ndarray.min\n",
            " |   |      \n",
            " |   |      Notes\n",
            " |   |      -----\n",
            " |   |      This is the same as `ndarray.min`, but returns a `matrix` object\n",
            " |   |      where `ndarray.min` would return an ndarray.\n",
            " |   |      \n",
            " |   |      Examples\n",
            " |   |      --------\n",
            " |   |      >>> x = -np.matrix(np.arange(12).reshape((3,4))); x\n",
            " |   |      matrix([[  0,  -1,  -2,  -3],\n",
            " |   |              [ -4,  -5,  -6,  -7],\n",
            " |   |              [ -8,  -9, -10, -11]])\n",
            " |   |      >>> x.min()\n",
            " |   |      -11\n",
            " |   |      >>> x.min(0)\n",
            " |   |      matrix([[ -8,  -9, -10, -11]])\n",
            " |   |      >>> x.min(1)\n",
            " |   |      matrix([[ -3],\n",
            " |   |              [ -7],\n",
            " |   |              [-11]])\n",
            " |   |  \n",
            " |   |  prod(self, axis=None, dtype=None, out=None)\n",
            " |   |      Return the product of the array elements over the given axis.\n",
            " |   |      \n",
            " |   |      Refer to `prod` for full documentation.\n",
            " |   |      \n",
            " |   |      See Also\n",
            " |   |      --------\n",
            " |   |      prod, ndarray.prod\n",
            " |   |      \n",
            " |   |      Notes\n",
            " |   |      -----\n",
            " |   |      Same as `ndarray.prod`, except, where that returns an `ndarray`, this\n",
            " |   |      returns a `matrix` object instead.\n",
            " |   |      \n",
            " |   |      Examples\n",
            " |   |      --------\n",
            " |   |      >>> x = np.matrix(np.arange(12).reshape((3,4))); x\n",
            " |   |      matrix([[ 0,  1,  2,  3],\n",
            " |   |              [ 4,  5,  6,  7],\n",
            " |   |              [ 8,  9, 10, 11]])\n",
            " |   |      >>> x.prod()\n",
            " |   |      0\n",
            " |   |      >>> x.prod(0)\n",
            " |   |      matrix([[  0,  45, 120, 231]])\n",
            " |   |      >>> x.prod(1)\n",
            " |   |      matrix([[   0],\n",
            " |   |              [ 840],\n",
            " |   |              [7920]])\n",
            " |   |  \n",
            " |   |  ptp(self, axis=None, out=None)\n",
            " |   |      Peak-to-peak (maximum - minimum) value along the given axis.\n",
            " |   |      \n",
            " |   |      Refer to `numpy.ptp` for full documentation.\n",
            " |   |      \n",
            " |   |      See Also\n",
            " |   |      --------\n",
            " |   |      numpy.ptp\n",
            " |   |      \n",
            " |   |      Notes\n",
            " |   |      -----\n",
            " |   |      Same as `ndarray.ptp`, except, where that would return an `ndarray` object,\n",
            " |   |      this returns a `matrix` object.\n",
            " |   |      \n",
            " |   |      Examples\n",
            " |   |      --------\n",
            " |   |      >>> x = np.matrix(np.arange(12).reshape((3,4))); x\n",
            " |   |      matrix([[ 0,  1,  2,  3],\n",
            " |   |              [ 4,  5,  6,  7],\n",
            " |   |              [ 8,  9, 10, 11]])\n",
            " |   |      >>> x.ptp()\n",
            " |   |      11\n",
            " |   |      >>> x.ptp(0)\n",
            " |   |      matrix([[8, 8, 8, 8]])\n",
            " |   |      >>> x.ptp(1)\n",
            " |   |      matrix([[3],\n",
            " |   |              [3],\n",
            " |   |              [3]])\n",
            " |   |  \n",
            " |   |  ravel(self, order='C')\n",
            " |   |      Return a flattened matrix.\n",
            " |   |      \n",
            " |   |      Refer to `numpy.ravel` for more documentation.\n",
            " |   |      \n",
            " |   |      Parameters\n",
            " |   |      ----------\n",
            " |   |      order : {'C', 'F', 'A', 'K'}, optional\n",
            " |   |          The elements of `m` are read using this index order. 'C' means to\n",
            " |   |          index the elements in C-like order, with the last axis index\n",
            " |   |          changing fastest, back to the first axis index changing slowest.\n",
            " |   |          'F' means to index the elements in Fortran-like index order, with\n",
            " |   |          the first index changing fastest, and the last index changing\n",
            " |   |          slowest. Note that the 'C' and 'F' options take no account of the\n",
            " |   |          memory layout of the underlying array, and only refer to the order\n",
            " |   |          of axis indexing.  'A' means to read the elements in Fortran-like\n",
            " |   |          index order if `m` is Fortran *contiguous* in memory, C-like order\n",
            " |   |          otherwise.  'K' means to read the elements in the order they occur\n",
            " |   |          in memory, except for reversing the data when strides are negative.\n",
            " |   |          By default, 'C' index order is used.\n",
            " |   |      \n",
            " |   |      Returns\n",
            " |   |      -------\n",
            " |   |      ret : matrix\n",
            " |   |          Return the matrix flattened to shape `(1, N)` where `N`\n",
            " |   |          is the number of elements in the original matrix.\n",
            " |   |          A copy is made only if necessary.\n",
            " |   |      \n",
            " |   |      See Also\n",
            " |   |      --------\n",
            " |   |      matrix.flatten : returns a similar output matrix but always a copy\n",
            " |   |      matrix.flat : a flat iterator on the array.\n",
            " |   |      numpy.ravel : related function which returns an ndarray\n",
            " |   |  \n",
            " |   |  squeeze(self, axis=None)\n",
            " |   |      Return a possibly reshaped matrix.\n",
            " |   |      \n",
            " |   |      Refer to `numpy.squeeze` for more documentation.\n",
            " |   |      \n",
            " |   |      Parameters\n",
            " |   |      ----------\n",
            " |   |      axis : None or int or tuple of ints, optional\n",
            " |   |          Selects a subset of the axes of length one in the shape.\n",
            " |   |          If an axis is selected with shape entry greater than one,\n",
            " |   |          an error is raised.\n",
            " |   |      \n",
            " |   |      Returns\n",
            " |   |      -------\n",
            " |   |      squeezed : matrix\n",
            " |   |          The matrix, but as a (1, N) matrix if it had shape (N, 1).\n",
            " |   |      \n",
            " |   |      See Also\n",
            " |   |      --------\n",
            " |   |      numpy.squeeze : related function\n",
            " |   |      \n",
            " |   |      Notes\n",
            " |   |      -----\n",
            " |   |      If `m` has a single column then that column is returned\n",
            " |   |      as the single row of a matrix.  Otherwise `m` is returned.\n",
            " |   |      The returned matrix is always either `m` itself or a view into `m`.\n",
            " |   |      Supplying an axis keyword argument will not affect the returned matrix\n",
            " |   |      but it may cause an error to be raised.\n",
            " |   |      \n",
            " |   |      Examples\n",
            " |   |      --------\n",
            " |   |      >>> c = np.matrix([[1], [2]])\n",
            " |   |      >>> c\n",
            " |   |      matrix([[1],\n",
            " |   |              [2]])\n",
            " |   |      >>> c.squeeze()\n",
            " |   |      matrix([[1, 2]])\n",
            " |   |      >>> r = c.T\n",
            " |   |      >>> r\n",
            " |   |      matrix([[1, 2]])\n",
            " |   |      >>> r.squeeze()\n",
            " |   |      matrix([[1, 2]])\n",
            " |   |      >>> m = np.matrix([[1, 2], [3, 4]])\n",
            " |   |      >>> m.squeeze()\n",
            " |   |      matrix([[1, 2],\n",
            " |   |              [3, 4]])\n",
            " |   |  \n",
            " |   |  std(self, axis=None, dtype=None, out=None, ddof=0)\n",
            " |   |      Return the standard deviation of the array elements along the given axis.\n",
            " |   |      \n",
            " |   |      Refer to `numpy.std` for full documentation.\n",
            " |   |      \n",
            " |   |      See Also\n",
            " |   |      --------\n",
            " |   |      numpy.std\n",
            " |   |      \n",
            " |   |      Notes\n",
            " |   |      -----\n",
            " |   |      This is the same as `ndarray.std`, except that where an `ndarray` would\n",
            " |   |      be returned, a `matrix` object is returned instead.\n",
            " |   |      \n",
            " |   |      Examples\n",
            " |   |      --------\n",
            " |   |      >>> x = np.matrix(np.arange(12).reshape((3, 4)))\n",
            " |   |      >>> x\n",
            " |   |      matrix([[ 0,  1,  2,  3],\n",
            " |   |              [ 4,  5,  6,  7],\n",
            " |   |              [ 8,  9, 10, 11]])\n",
            " |   |      >>> x.std()\n",
            " |   |      3.4520525295346629 # may vary\n",
            " |   |      >>> x.std(0)\n",
            " |   |      matrix([[ 3.26598632,  3.26598632,  3.26598632,  3.26598632]]) # may vary\n",
            " |   |      >>> x.std(1)\n",
            " |   |      matrix([[ 1.11803399],\n",
            " |   |              [ 1.11803399],\n",
            " |   |              [ 1.11803399]])\n",
            " |   |  \n",
            " |   |  sum(self, axis=None, dtype=None, out=None)\n",
            " |   |      Returns the sum of the matrix elements, along the given axis.\n",
            " |   |      \n",
            " |   |      Refer to `numpy.sum` for full documentation.\n",
            " |   |      \n",
            " |   |      See Also\n",
            " |   |      --------\n",
            " |   |      numpy.sum\n",
            " |   |      \n",
            " |   |      Notes\n",
            " |   |      -----\n",
            " |   |      This is the same as `ndarray.sum`, except that where an `ndarray` would\n",
            " |   |      be returned, a `matrix` object is returned instead.\n",
            " |   |      \n",
            " |   |      Examples\n",
            " |   |      --------\n",
            " |   |      >>> x = np.matrix([[1, 2], [4, 3]])\n",
            " |   |      >>> x.sum()\n",
            " |   |      10\n",
            " |   |      >>> x.sum(axis=1)\n",
            " |   |      matrix([[3],\n",
            " |   |              [7]])\n",
            " |   |      >>> x.sum(axis=1, dtype='float')\n",
            " |   |      matrix([[3.],\n",
            " |   |              [7.]])\n",
            " |   |      >>> out = np.zeros((2, 1), dtype='float')\n",
            " |   |      >>> x.sum(axis=1, dtype='float', out=np.asmatrix(out))\n",
            " |   |      matrix([[3.],\n",
            " |   |              [7.]])\n",
            " |   |  \n",
            " |   |  tolist(self)\n",
            " |   |      Return the matrix as a (possibly nested) list.\n",
            " |   |      \n",
            " |   |      See `ndarray.tolist` for full documentation.\n",
            " |   |      \n",
            " |   |      See Also\n",
            " |   |      --------\n",
            " |   |      ndarray.tolist\n",
            " |   |      \n",
            " |   |      Examples\n",
            " |   |      --------\n",
            " |   |      >>> x = np.matrix(np.arange(12).reshape((3,4))); x\n",
            " |   |      matrix([[ 0,  1,  2,  3],\n",
            " |   |              [ 4,  5,  6,  7],\n",
            " |   |              [ 8,  9, 10, 11]])\n",
            " |   |      >>> x.tolist()\n",
            " |   |      [[0, 1, 2, 3], [4, 5, 6, 7], [8, 9, 10, 11]]\n",
            " |   |  \n",
            " |   |  var(self, axis=None, dtype=None, out=None, ddof=0)\n",
            " |   |      Returns the variance of the matrix elements, along the given axis.\n",
            " |   |      \n",
            " |   |      Refer to `numpy.var` for full documentation.\n",
            " |   |      \n",
            " |   |      See Also\n",
            " |   |      --------\n",
            " |   |      numpy.var\n",
            " |   |      \n",
            " |   |      Notes\n",
            " |   |      -----\n",
            " |   |      This is the same as `ndarray.var`, except that where an `ndarray` would\n",
            " |   |      be returned, a `matrix` object is returned instead.\n",
            " |   |      \n",
            " |   |      Examples\n",
            " |   |      --------\n",
            " |   |      >>> x = np.matrix(np.arange(12).reshape((3, 4)))\n",
            " |   |      >>> x\n",
            " |   |      matrix([[ 0,  1,  2,  3],\n",
            " |   |              [ 4,  5,  6,  7],\n",
            " |   |              [ 8,  9, 10, 11]])\n",
            " |   |      >>> x.var()\n",
            " |   |      11.916666666666666\n",
            " |   |      >>> x.var(0)\n",
            " |   |      matrix([[ 10.66666667,  10.66666667,  10.66666667,  10.66666667]]) # may vary\n",
            " |   |      >>> x.var(1)\n",
            " |   |      matrix([[1.25],\n",
            " |   |              [1.25],\n",
            " |   |              [1.25]])\n",
            " |   |  \n",
            " |   |  ----------------------------------------------------------------------\n",
            " |   |  Static methods defined here:\n",
            " |   |  \n",
            " |   |  __new__(subtype, data, dtype=None, copy=True)\n",
            " |   |      Create and return a new object.  See help(type) for accurate signature.\n",
            " |   |  \n",
            " |   |  ----------------------------------------------------------------------\n",
            " |   |  Readonly properties defined here:\n",
            " |   |  \n",
            " |   |  A\n",
            " |   |      Return `self` as an `ndarray` object.\n",
            " |   |      \n",
            " |   |      Equivalent to ``np.asarray(self)``.\n",
            " |   |      \n",
            " |   |      Parameters\n",
            " |   |      ----------\n",
            " |   |      None\n",
            " |   |      \n",
            " |   |      Returns\n",
            " |   |      -------\n",
            " |   |      ret : ndarray\n",
            " |   |          `self` as an `ndarray`\n",
            " |   |      \n",
            " |   |      Examples\n",
            " |   |      --------\n",
            " |   |      >>> x = np.matrix(np.arange(12).reshape((3,4))); x\n",
            " |   |      matrix([[ 0,  1,  2,  3],\n",
            " |   |              [ 4,  5,  6,  7],\n",
            " |   |              [ 8,  9, 10, 11]])\n",
            " |   |      >>> x.getA()\n",
            " |   |      array([[ 0,  1,  2,  3],\n",
            " |   |             [ 4,  5,  6,  7],\n",
            " |   |             [ 8,  9, 10, 11]])\n",
            " |   |  \n",
            " |   |  A1\n",
            " |   |      Return `self` as a flattened `ndarray`.\n",
            " |   |      \n",
            " |   |      Equivalent to ``np.asarray(x).ravel()``\n",
            " |   |      \n",
            " |   |      Parameters\n",
            " |   |      ----------\n",
            " |   |      None\n",
            " |   |      \n",
            " |   |      Returns\n",
            " |   |      -------\n",
            " |   |      ret : ndarray\n",
            " |   |          `self`, 1-D, as an `ndarray`\n",
            " |   |      \n",
            " |   |      Examples\n",
            " |   |      --------\n",
            " |   |      >>> x = np.matrix(np.arange(12).reshape((3,4))); x\n",
            " |   |      matrix([[ 0,  1,  2,  3],\n",
            " |   |              [ 4,  5,  6,  7],\n",
            " |   |              [ 8,  9, 10, 11]])\n",
            " |   |      >>> x.getA1()\n",
            " |   |      array([ 0,  1,  2, ...,  9, 10, 11])\n",
            " |   |  \n",
            " |   |  H\n",
            " |   |      Returns the (complex) conjugate transpose of `self`.\n",
            " |   |      \n",
            " |   |      Equivalent to ``np.transpose(self)`` if `self` is real-valued.\n",
            " |   |      \n",
            " |   |      Parameters\n",
            " |   |      ----------\n",
            " |   |      None\n",
            " |   |      \n",
            " |   |      Returns\n",
            " |   |      -------\n",
            " |   |      ret : matrix object\n",
            " |   |          complex conjugate transpose of `self`\n",
            " |   |      \n",
            " |   |      Examples\n",
            " |   |      --------\n",
            " |   |      >>> x = np.matrix(np.arange(12).reshape((3,4)))\n",
            " |   |      >>> z = x - 1j*x; z\n",
            " |   |      matrix([[  0. +0.j,   1. -1.j,   2. -2.j,   3. -3.j],\n",
            " |   |              [  4. -4.j,   5. -5.j,   6. -6.j,   7. -7.j],\n",
            " |   |              [  8. -8.j,   9. -9.j,  10.-10.j,  11.-11.j]])\n",
            " |   |      >>> z.getH()\n",
            " |   |      matrix([[ 0. -0.j,  4. +4.j,  8. +8.j],\n",
            " |   |              [ 1. +1.j,  5. +5.j,  9. +9.j],\n",
            " |   |              [ 2. +2.j,  6. +6.j, 10.+10.j],\n",
            " |   |              [ 3. +3.j,  7. +7.j, 11.+11.j]])\n",
            " |   |  \n",
            " |   |  I\n",
            " |   |      Returns the (multiplicative) inverse of invertible `self`.\n",
            " |   |      \n",
            " |   |      Parameters\n",
            " |   |      ----------\n",
            " |   |      None\n",
            " |   |      \n",
            " |   |      Returns\n",
            " |   |      -------\n",
            " |   |      ret : matrix object\n",
            " |   |          If `self` is non-singular, `ret` is such that ``ret * self`` ==\n",
            " |   |          ``self * ret`` == ``np.matrix(np.eye(self[0,:].size))`` all return\n",
            " |   |          ``True``.\n",
            " |   |      \n",
            " |   |      Raises\n",
            " |   |      ------\n",
            " |   |      numpy.linalg.LinAlgError: Singular matrix\n",
            " |   |          If `self` is singular.\n",
            " |   |      \n",
            " |   |      See Also\n",
            " |   |      --------\n",
            " |   |      linalg.inv\n",
            " |   |      \n",
            " |   |      Examples\n",
            " |   |      --------\n",
            " |   |      >>> m = np.matrix('[1, 2; 3, 4]'); m\n",
            " |   |      matrix([[1, 2],\n",
            " |   |              [3, 4]])\n",
            " |   |      >>> m.getI()\n",
            " |   |      matrix([[-2. ,  1. ],\n",
            " |   |              [ 1.5, -0.5]])\n",
            " |   |      >>> m.getI() * m\n",
            " |   |      matrix([[ 1.,  0.], # may vary\n",
            " |   |              [ 0.,  1.]])\n",
            " |   |  \n",
            " |   |  T\n",
            " |   |      Returns the transpose of the matrix.\n",
            " |   |      \n",
            " |   |      Does *not* conjugate!  For the complex conjugate transpose, use ``.H``.\n",
            " |   |      \n",
            " |   |      Parameters\n",
            " |   |      ----------\n",
            " |   |      None\n",
            " |   |      \n",
            " |   |      Returns\n",
            " |   |      -------\n",
            " |   |      ret : matrix object\n",
            " |   |          The (non-conjugated) transpose of the matrix.\n",
            " |   |      \n",
            " |   |      See Also\n",
            " |   |      --------\n",
            " |   |      transpose, getH\n",
            " |   |      \n",
            " |   |      Examples\n",
            " |   |      --------\n",
            " |   |      >>> m = np.matrix('[1, 2; 3, 4]')\n",
            " |   |      >>> m\n",
            " |   |      matrix([[1, 2],\n",
            " |   |              [3, 4]])\n",
            " |   |      >>> m.getT()\n",
            " |   |      matrix([[1, 3],\n",
            " |   |              [2, 4]])\n",
            " |   |  \n",
            " |   |  ----------------------------------------------------------------------\n",
            " |   |  Data descriptors defined here:\n",
            " |   |  \n",
            " |   |  __dict__\n",
            " |   |      dictionary for instance variables (if defined)\n",
            " |   |  \n",
            " |   |  ----------------------------------------------------------------------\n",
            " |   |  Data and other attributes defined here:\n",
            " |   |  \n",
            " |   |  __annotations__ = {}\n",
            " |   |  \n",
            " |   |  __array_priority__ = 10.0\n",
            " |   |  \n",
            " |   |  ----------------------------------------------------------------------\n",
            " |   |  Methods inherited from ndarray:\n",
            " |   |  \n",
            " |   |  __abs__(self, /)\n",
            " |   |      abs(self)\n",
            " |   |  \n",
            " |   |  __add__(self, value, /)\n",
            " |   |      Return self+value.\n",
            " |   |  \n",
            " |   |  __and__(self, value, /)\n",
            " |   |      Return self&value.\n",
            " |   |  \n",
            " |   |  __array__(...)\n",
            " |   |      a.__array__([dtype], /)\n",
            " |   |      \n",
            " |   |      Returns either a new reference to self if dtype is not given or a new array\n",
            " |   |      of provided data type if dtype is different from the current dtype of the\n",
            " |   |      array.\n",
            " |   |  \n",
            " |   |  __array_function__(...)\n",
            " |   |  \n",
            " |   |  __array_prepare__(...)\n",
            " |   |      a.__array_prepare__(array[, context], /)\n",
            " |   |      \n",
            " |   |      Returns a view of `array` with the same type as self.\n",
            " |   |  \n",
            " |   |  __array_ufunc__(...)\n",
            " |   |  \n",
            " |   |  __array_wrap__(...)\n",
            " |   |      a.__array_wrap__(array[, context], /)\n",
            " |   |      \n",
            " |   |      Returns a view of `array` with the same type as self.\n",
            " |   |  \n",
            " |   |  __bool__(self, /)\n",
            " |   |      True if self else False\n",
            " |   |  \n",
            " |   |  __complex__(...)\n",
            " |   |  \n",
            " |   |  __contains__(self, key, /)\n",
            " |   |      Return key in self.\n",
            " |   |  \n",
            " |   |  __copy__(...)\n",
            " |   |      a.__copy__()\n",
            " |   |      \n",
            " |   |      Used if :func:`copy.copy` is called on an array. Returns a copy of the array.\n",
            " |   |      \n",
            " |   |      Equivalent to ``a.copy(order='K')``.\n",
            " |   |  \n",
            " |   |  __deepcopy__(...)\n",
            " |   |      a.__deepcopy__(memo, /)\n",
            " |   |      \n",
            " |   |      Used if :func:`copy.deepcopy` is called on an array.\n",
            " |   |  \n",
            " |   |  __delitem__(self, key, /)\n",
            " |   |      Delete self[key].\n",
            " |   |  \n",
            " |   |  __divmod__(self, value, /)\n",
            " |   |      Return divmod(self, value).\n",
            " |   |  \n",
            " |   |  __dlpack__(...)\n",
            " |   |      a.__dlpack__(*, stream=None)\n",
            " |   |      \n",
            " |   |      DLPack Protocol: Part of the Array API.\n",
            " |   |  \n",
            " |   |  __dlpack_device__(...)\n",
            " |   |      a.__dlpack_device__()\n",
            " |   |      \n",
            " |   |      DLPack Protocol: Part of the Array API.\n",
            " |   |  \n",
            " |   |  __eq__(self, value, /)\n",
            " |   |      Return self==value.\n",
            " |   |  \n",
            " |   |  __float__(self, /)\n",
            " |   |      float(self)\n",
            " |   |  \n",
            " |   |  __floordiv__(self, value, /)\n",
            " |   |      Return self//value.\n",
            " |   |  \n",
            " |   |  __format__(...)\n",
            " |   |      Default object formatter.\n",
            " |   |  \n",
            " |   |  __ge__(self, value, /)\n",
            " |   |      Return self>=value.\n",
            " |   |  \n",
            " |   |  __gt__(self, value, /)\n",
            " |   |      Return self>value.\n",
            " |   |  \n",
            " |   |  __iadd__(self, value, /)\n",
            " |   |      Return self+=value.\n",
            " |   |  \n",
            " |   |  __iand__(self, value, /)\n",
            " |   |      Return self&=value.\n",
            " |   |  \n",
            " |   |  __ifloordiv__(self, value, /)\n",
            " |   |      Return self//=value.\n",
            " |   |  \n",
            " |   |  __ilshift__(self, value, /)\n",
            " |   |      Return self<<=value.\n",
            " |   |  \n",
            " |   |  __imatmul__(self, value, /)\n",
            " |   |      Return self@=value.\n",
            " |   |  \n",
            " |   |  __imod__(self, value, /)\n",
            " |   |      Return self%=value.\n",
            " |   |  \n",
            " |   |  __index__(self, /)\n",
            " |   |      Return self converted to an integer, if self is suitable for use as an index into a list.\n",
            " |   |  \n",
            " |   |  __int__(self, /)\n",
            " |   |      int(self)\n",
            " |   |  \n",
            " |   |  __invert__(self, /)\n",
            " |   |      ~self\n",
            " |   |  \n",
            " |   |  __ior__(self, value, /)\n",
            " |   |      Return self|=value.\n",
            " |   |  \n",
            " |   |  __irshift__(self, value, /)\n",
            " |   |      Return self>>=value.\n",
            " |   |  \n",
            " |   |  __isub__(self, value, /)\n",
            " |   |      Return self-=value.\n",
            " |   |  \n",
            " |   |  __iter__(self, /)\n",
            " |   |      Implement iter(self).\n",
            " |   |  \n",
            " |   |  __itruediv__(self, value, /)\n",
            " |   |      Return self/=value.\n",
            " |   |  \n",
            " |   |  __ixor__(self, value, /)\n",
            " |   |      Return self^=value.\n",
            " |   |  \n",
            " |   |  __le__(self, value, /)\n",
            " |   |      Return self<=value.\n",
            " |   |  \n",
            " |   |  __len__(self, /)\n",
            " |   |      Return len(self).\n",
            " |   |  \n",
            " |   |  __lshift__(self, value, /)\n",
            " |   |      Return self<<value.\n",
            " |   |  \n",
            " |   |  __lt__(self, value, /)\n",
            " |   |      Return self<value.\n",
            " |   |  \n",
            " |   |  __matmul__(self, value, /)\n",
            " |   |      Return self@value.\n",
            " |   |  \n",
            " |   |  __mod__(self, value, /)\n",
            " |   |      Return self%value.\n",
            " |   |  \n",
            " |   |  __ne__(self, value, /)\n",
            " |   |      Return self!=value.\n",
            " |   |  \n",
            " |   |  __neg__(self, /)\n",
            " |   |      -self\n",
            " |   |  \n",
            " |   |  __or__(self, value, /)\n",
            " |   |      Return self|value.\n",
            " |   |  \n",
            " |   |  __pos__(self, /)\n",
            " |   |      +self\n",
            " |   |  \n",
            " |   |  __radd__(self, value, /)\n",
            " |   |      Return value+self.\n",
            " |   |  \n",
            " |   |  __rand__(self, value, /)\n",
            " |   |      Return value&self.\n",
            " |   |  \n",
            " |   |  __rdivmod__(self, value, /)\n",
            " |   |      Return divmod(value, self).\n",
            " |   |  \n",
            " |   |  __reduce__(...)\n",
            " |   |      a.__reduce__()\n",
            " |   |      \n",
            " |   |      For pickling.\n",
            " |   |  \n",
            " |   |  __reduce_ex__(...)\n",
            " |   |      Helper for pickle.\n",
            " |   |  \n",
            " |   |  __repr__(self, /)\n",
            " |   |      Return repr(self).\n",
            " |   |  \n",
            " |   |  __rfloordiv__(self, value, /)\n",
            " |   |      Return value//self.\n",
            " |   |  \n",
            " |   |  __rlshift__(self, value, /)\n",
            " |   |      Return value<<self.\n",
            " |   |  \n",
            " |   |  __rmatmul__(self, value, /)\n",
            " |   |      Return value@self.\n",
            " |   |  \n",
            " |   |  __rmod__(self, value, /)\n",
            " |   |      Return value%self.\n",
            " |   |  \n",
            " |   |  __ror__(self, value, /)\n",
            " |   |      Return value|self.\n",
            " |   |  \n",
            " |   |  __rrshift__(self, value, /)\n",
            " |   |      Return value>>self.\n",
            " |   |  \n",
            " |   |  __rshift__(self, value, /)\n",
            " |   |      Return self>>value.\n",
            " |   |  \n",
            " |   |  __rsub__(self, value, /)\n",
            " |   |      Return value-self.\n",
            " |   |  \n",
            " |   |  __rtruediv__(self, value, /)\n",
            " |   |      Return value/self.\n",
            " |   |  \n",
            " |   |  __rxor__(self, value, /)\n",
            " |   |      Return value^self.\n",
            " |   |  \n",
            " |   |  __setitem__(self, key, value, /)\n",
            " |   |      Set self[key] to value.\n",
            " |   |  \n",
            " |   |  __setstate__(...)\n",
            " |   |      a.__setstate__(state, /)\n",
            " |   |      \n",
            " |   |      For unpickling.\n",
            " |   |      \n",
            " |   |      The `state` argument must be a sequence that contains the following\n",
            " |   |      elements:\n",
            " |   |      \n",
            " |   |      Parameters\n",
            " |   |      ----------\n",
            " |   |      version : int\n",
            " |   |          optional pickle version. If omitted defaults to 0.\n",
            " |   |      shape : tuple\n",
            " |   |      dtype : data-type\n",
            " |   |      isFortran : bool\n",
            " |   |      rawdata : string or list\n",
            " |   |          a binary string with the data (or a list if 'a' is an object array)\n",
            " |   |  \n",
            " |   |  __sizeof__(...)\n",
            " |   |      Size of object in memory, in bytes.\n",
            " |   |  \n",
            " |   |  __str__(self, /)\n",
            " |   |      Return str(self).\n",
            " |   |  \n",
            " |   |  __sub__(self, value, /)\n",
            " |   |      Return self-value.\n",
            " |   |  \n",
            " |   |  __truediv__(self, value, /)\n",
            " |   |      Return self/value.\n",
            " |   |  \n",
            " |   |  __xor__(self, value, /)\n",
            " |   |      Return self^value.\n",
            " |   |  \n",
            " |   |  argpartition(...)\n",
            " |   |      a.argpartition(kth, axis=-1, kind='introselect', order=None)\n",
            " |   |      \n",
            " |   |      Returns the indices that would partition this array.\n",
            " |   |      \n",
            " |   |      Refer to `numpy.argpartition` for full documentation.\n",
            " |   |      \n",
            " |   |      .. versionadded:: 1.8.0\n",
            " |   |      \n",
            " |   |      See Also\n",
            " |   |      --------\n",
            " |   |      numpy.argpartition : equivalent function\n",
            " |   |  \n",
            " |   |  argsort(...)\n",
            " |   |      a.argsort(axis=-1, kind=None, order=None)\n",
            " |   |      \n",
            " |   |      Returns the indices that would sort this array.\n",
            " |   |      \n",
            " |   |      Refer to `numpy.argsort` for full documentation.\n",
            " |   |      \n",
            " |   |      See Also\n",
            " |   |      --------\n",
            " |   |      numpy.argsort : equivalent function\n",
            " |   |  \n",
            " |   |  astype(...)\n",
            " |   |      a.astype(dtype, order='K', casting='unsafe', subok=True, copy=True)\n",
            " |   |      \n",
            " |   |      Copy of the array, cast to a specified type.\n",
            " |   |      \n",
            " |   |      Parameters\n",
            " |   |      ----------\n",
            " |   |      dtype : str or dtype\n",
            " |   |          Typecode or data-type to which the array is cast.\n",
            " |   |      order : {'C', 'F', 'A', 'K'}, optional\n",
            " |   |          Controls the memory layout order of the result.\n",
            " |   |          'C' means C order, 'F' means Fortran order, 'A'\n",
            " |   |          means 'F' order if all the arrays are Fortran contiguous,\n",
            " |   |          'C' order otherwise, and 'K' means as close to the\n",
            " |   |          order the array elements appear in memory as possible.\n",
            " |   |          Default is 'K'.\n",
            " |   |      casting : {'no', 'equiv', 'safe', 'same_kind', 'unsafe'}, optional\n",
            " |   |          Controls what kind of data casting may occur. Defaults to 'unsafe'\n",
            " |   |          for backwards compatibility.\n",
            " |   |      \n",
            " |   |            * 'no' means the data types should not be cast at all.\n",
            " |   |            * 'equiv' means only byte-order changes are allowed.\n",
            " |   |            * 'safe' means only casts which can preserve values are allowed.\n",
            " |   |            * 'same_kind' means only safe casts or casts within a kind,\n",
            " |   |              like float64 to float32, are allowed.\n",
            " |   |            * 'unsafe' means any data conversions may be done.\n",
            " |   |      subok : bool, optional\n",
            " |   |          If True, then sub-classes will be passed-through (default), otherwise\n",
            " |   |          the returned array will be forced to be a base-class array.\n",
            " |   |      copy : bool, optional\n",
            " |   |          By default, astype always returns a newly allocated array. If this\n",
            " |   |          is set to false, and the `dtype`, `order`, and `subok`\n",
            " |   |          requirements are satisfied, the input array is returned instead\n",
            " |   |          of a copy.\n",
            " |   |      \n",
            " |   |      Returns\n",
            " |   |      -------\n",
            " |   |      arr_t : ndarray\n",
            " |   |          Unless `copy` is False and the other conditions for returning the input\n",
            " |   |          array are satisfied (see description for `copy` input parameter), `arr_t`\n",
            " |   |          is a new array of the same shape as the input array, with dtype, order\n",
            " |   |          given by `dtype`, `order`.\n",
            " |   |      \n",
            " |   |      Notes\n",
            " |   |      -----\n",
            " |   |      .. versionchanged:: 1.17.0\n",
            " |   |         Casting between a simple data type and a structured one is possible only\n",
            " |   |         for \"unsafe\" casting.  Casting to multiple fields is allowed, but\n",
            " |   |         casting from multiple fields is not.\n",
            " |   |      \n",
            " |   |      .. versionchanged:: 1.9.0\n",
            " |   |         Casting from numeric to string types in 'safe' casting mode requires\n",
            " |   |         that the string dtype length is long enough to store the max\n",
            " |   |         integer/float value converted.\n",
            " |   |      \n",
            " |   |      Raises\n",
            " |   |      ------\n",
            " |   |      ComplexWarning\n",
            " |   |          When casting from complex to float or int. To avoid this,\n",
            " |   |          one should use ``a.real.astype(t)``.\n",
            " |   |      \n",
            " |   |      Examples\n",
            " |   |      --------\n",
            " |   |      >>> x = np.array([1, 2, 2.5])\n",
            " |   |      >>> x\n",
            " |   |      array([1. ,  2. ,  2.5])\n",
            " |   |      \n",
            " |   |      >>> x.astype(int)\n",
            " |   |      array([1, 2, 2])\n",
            " |   |  \n",
            " |   |  byteswap(...)\n",
            " |   |      a.byteswap(inplace=False)\n",
            " |   |      \n",
            " |   |      Swap the bytes of the array elements\n",
            " |   |      \n",
            " |   |      Toggle between low-endian and big-endian data representation by\n",
            " |   |      returning a byteswapped array, optionally swapped in-place.\n",
            " |   |      Arrays of byte-strings are not swapped. The real and imaginary\n",
            " |   |      parts of a complex number are swapped individually.\n",
            " |   |      \n",
            " |   |      Parameters\n",
            " |   |      ----------\n",
            " |   |      inplace : bool, optional\n",
            " |   |          If ``True``, swap bytes in-place, default is ``False``.\n",
            " |   |      \n",
            " |   |      Returns\n",
            " |   |      -------\n",
            " |   |      out : ndarray\n",
            " |   |          The byteswapped array. If `inplace` is ``True``, this is\n",
            " |   |          a view to self.\n",
            " |   |      \n",
            " |   |      Examples\n",
            " |   |      --------\n",
            " |   |      >>> A = np.array([1, 256, 8755], dtype=np.int16)\n",
            " |   |      >>> list(map(hex, A))\n",
            " |   |      ['0x1', '0x100', '0x2233']\n",
            " |   |      >>> A.byteswap(inplace=True)\n",
            " |   |      array([  256,     1, 13090], dtype=int16)\n",
            " |   |      >>> list(map(hex, A))\n",
            " |   |      ['0x100', '0x1', '0x3322']\n",
            " |   |      \n",
            " |   |      Arrays of byte-strings are not swapped\n",
            " |   |      \n",
            " |   |      >>> A = np.array([b'ceg', b'fac'])\n",
            " |   |      >>> A.byteswap()\n",
            " |   |      array([b'ceg', b'fac'], dtype='|S3')\n",
            " |   |      \n",
            " |   |      ``A.newbyteorder().byteswap()`` produces an array with the same values\n",
            " |   |        but different representation in memory\n",
            " |   |      \n",
            " |   |      >>> A = np.array([1, 2, 3])\n",
            " |   |      >>> A.view(np.uint8)\n",
            " |   |      array([1, 0, 0, 0, 0, 0, 0, 0, 2, 0, 0, 0, 0, 0, 0, 0, 3, 0, 0, 0, 0, 0,\n",
            " |   |             0, 0], dtype=uint8)\n",
            " |   |      >>> A.newbyteorder().byteswap(inplace=True)\n",
            " |   |      array([1, 2, 3])\n",
            " |   |      >>> A.view(np.uint8)\n",
            " |   |      array([0, 0, 0, 0, 0, 0, 0, 1, 0, 0, 0, 0, 0, 0, 0, 2, 0, 0, 0, 0, 0, 0,\n",
            " |   |             0, 3], dtype=uint8)\n",
            " |   |  \n",
            " |   |  choose(...)\n",
            " |   |      a.choose(choices, out=None, mode='raise')\n",
            " |   |      \n",
            " |   |      Use an index array to construct a new array from a set of choices.\n",
            " |   |      \n",
            " |   |      Refer to `numpy.choose` for full documentation.\n",
            " |   |      \n",
            " |   |      See Also\n",
            " |   |      --------\n",
            " |   |      numpy.choose : equivalent function\n",
            " |   |  \n",
            " |   |  clip(...)\n",
            " |   |      a.clip(min=None, max=None, out=None, **kwargs)\n",
            " |   |      \n",
            " |   |      Return an array whose values are limited to ``[min, max]``.\n",
            " |   |      One of max or min must be given.\n",
            " |   |      \n",
            " |   |      Refer to `numpy.clip` for full documentation.\n",
            " |   |      \n",
            " |   |      See Also\n",
            " |   |      --------\n",
            " |   |      numpy.clip : equivalent function\n",
            " |   |  \n",
            " |   |  compress(...)\n",
            " |   |      a.compress(condition, axis=None, out=None)\n",
            " |   |      \n",
            " |   |      Return selected slices of this array along given axis.\n",
            " |   |      \n",
            " |   |      Refer to `numpy.compress` for full documentation.\n",
            " |   |      \n",
            " |   |      See Also\n",
            " |   |      --------\n",
            " |   |      numpy.compress : equivalent function\n",
            " |   |  \n",
            " |   |  conj(...)\n",
            " |   |      a.conj()\n",
            " |   |      \n",
            " |   |      Complex-conjugate all elements.\n",
            " |   |      \n",
            " |   |      Refer to `numpy.conjugate` for full documentation.\n",
            " |   |      \n",
            " |   |      See Also\n",
            " |   |      --------\n",
            " |   |      numpy.conjugate : equivalent function\n",
            " |   |  \n",
            " |   |  conjugate(...)\n",
            " |   |      a.conjugate()\n",
            " |   |      \n",
            " |   |      Return the complex conjugate, element-wise.\n",
            " |   |      \n",
            " |   |      Refer to `numpy.conjugate` for full documentation.\n",
            " |   |      \n",
            " |   |      See Also\n",
            " |   |      --------\n",
            " |   |      numpy.conjugate : equivalent function\n",
            " |   |  \n",
            " |   |  copy(...)\n",
            " |   |      a.copy(order='C')\n",
            " |   |      \n",
            " |   |      Return a copy of the array.\n",
            " |   |      \n",
            " |   |      Parameters\n",
            " |   |      ----------\n",
            " |   |      order : {'C', 'F', 'A', 'K'}, optional\n",
            " |   |          Controls the memory layout of the copy. 'C' means C-order,\n",
            " |   |          'F' means F-order, 'A' means 'F' if `a` is Fortran contiguous,\n",
            " |   |          'C' otherwise. 'K' means match the layout of `a` as closely\n",
            " |   |          as possible. (Note that this function and :func:`numpy.copy` are very\n",
            " |   |          similar but have different default values for their order=\n",
            " |   |          arguments, and this function always passes sub-classes through.)\n",
            " |   |      \n",
            " |   |      See also\n",
            " |   |      --------\n",
            " |   |      numpy.copy : Similar function with different default behavior\n",
            " |   |      numpy.copyto\n",
            " |   |      \n",
            " |   |      Notes\n",
            " |   |      -----\n",
            " |   |      This function is the preferred method for creating an array copy.  The\n",
            " |   |      function :func:`numpy.copy` is similar, but it defaults to using order 'K',\n",
            " |   |      and will not pass sub-classes through by default.\n",
            " |   |      \n",
            " |   |      Examples\n",
            " |   |      --------\n",
            " |   |      >>> x = np.array([[1,2,3],[4,5,6]], order='F')\n",
            " |   |      \n",
            " |   |      >>> y = x.copy()\n",
            " |   |      \n",
            " |   |      >>> x.fill(0)\n",
            " |   |      \n",
            " |   |      >>> x\n",
            " |   |      array([[0, 0, 0],\n",
            " |   |             [0, 0, 0]])\n",
            " |   |      \n",
            " |   |      >>> y\n",
            " |   |      array([[1, 2, 3],\n",
            " |   |             [4, 5, 6]])\n",
            " |   |      \n",
            " |   |      >>> y.flags['C_CONTIGUOUS']\n",
            " |   |      True\n",
            " |   |  \n",
            " |   |  cumprod(...)\n",
            " |   |      a.cumprod(axis=None, dtype=None, out=None)\n",
            " |   |      \n",
            " |   |      Return the cumulative product of the elements along the given axis.\n",
            " |   |      \n",
            " |   |      Refer to `numpy.cumprod` for full documentation.\n",
            " |   |      \n",
            " |   |      See Also\n",
            " |   |      --------\n",
            " |   |      numpy.cumprod : equivalent function\n",
            " |   |  \n",
            " |   |  cumsum(...)\n",
            " |   |      a.cumsum(axis=None, dtype=None, out=None)\n",
            " |   |      \n",
            " |   |      Return the cumulative sum of the elements along the given axis.\n",
            " |   |      \n",
            " |   |      Refer to `numpy.cumsum` for full documentation.\n",
            " |   |      \n",
            " |   |      See Also\n",
            " |   |      --------\n",
            " |   |      numpy.cumsum : equivalent function\n",
            " |   |  \n",
            " |   |  diagonal(...)\n",
            " |   |      a.diagonal(offset=0, axis1=0, axis2=1)\n",
            " |   |      \n",
            " |   |      Return specified diagonals. In NumPy 1.9 the returned array is a\n",
            " |   |      read-only view instead of a copy as in previous NumPy versions.  In\n",
            " |   |      a future version the read-only restriction will be removed.\n",
            " |   |      \n",
            " |   |      Refer to :func:`numpy.diagonal` for full documentation.\n",
            " |   |      \n",
            " |   |      See Also\n",
            " |   |      --------\n",
            " |   |      numpy.diagonal : equivalent function\n",
            " |   |  \n",
            " |   |  dot(...)\n",
            " |   |  \n",
            " |   |  dump(...)\n",
            " |   |      a.dump(file)\n",
            " |   |      \n",
            " |   |      Dump a pickle of the array to the specified file.\n",
            " |   |      The array can be read back with pickle.load or numpy.load.\n",
            " |   |      \n",
            " |   |      Parameters\n",
            " |   |      ----------\n",
            " |   |      file : str or Path\n",
            " |   |          A string naming the dump file.\n",
            " |   |      \n",
            " |   |          .. versionchanged:: 1.17.0\n",
            " |   |              `pathlib.Path` objects are now accepted.\n",
            " |   |  \n",
            " |   |  dumps(...)\n",
            " |   |      a.dumps()\n",
            " |   |      \n",
            " |   |      Returns the pickle of the array as a string.\n",
            " |   |      pickle.loads will convert the string back to an array.\n",
            " |   |      \n",
            " |   |      Parameters\n",
            " |   |      ----------\n",
            " |   |      None\n",
            " |   |  \n",
            " |   |  fill(...)\n",
            " |   |      a.fill(value)\n",
            " |   |      \n",
            " |   |      Fill the array with a scalar value.\n",
            " |   |      \n",
            " |   |      Parameters\n",
            " |   |      ----------\n",
            " |   |      value : scalar\n",
            " |   |          All elements of `a` will be assigned this value.\n",
            " |   |      \n",
            " |   |      Examples\n",
            " |   |      --------\n",
            " |   |      >>> a = np.array([1, 2])\n",
            " |   |      >>> a.fill(0)\n",
            " |   |      >>> a\n",
            " |   |      array([0, 0])\n",
            " |   |      >>> a = np.empty(2)\n",
            " |   |      >>> a.fill(1)\n",
            " |   |      >>> a\n",
            " |   |      array([1.,  1.])\n",
            " |   |      \n",
            " |   |      Fill expects a scalar value and always behaves the same as assigning\n",
            " |   |      to a single array element.  The following is a rare example where this\n",
            " |   |      distinction is important:\n",
            " |   |      \n",
            " |   |      >>> a = np.array([None, None], dtype=object)\n",
            " |   |      >>> a[0] = np.array(3)\n",
            " |   |      >>> a\n",
            " |   |      array([array(3), None], dtype=object)\n",
            " |   |      >>> a.fill(np.array(3))\n",
            " |   |      >>> a\n",
            " |   |      array([array(3), array(3)], dtype=object)\n",
            " |   |      \n",
            " |   |      Where other forms of assignments will unpack the array being assigned:\n",
            " |   |      \n",
            " |   |      >>> a[...] = np.array(3)\n",
            " |   |      >>> a\n",
            " |   |      array([3, 3], dtype=object)\n",
            " |   |  \n",
            " |   |  getfield(...)\n",
            " |   |      a.getfield(dtype, offset=0)\n",
            " |   |      \n",
            " |   |      Returns a field of the given array as a certain type.\n",
            " |   |      \n",
            " |   |      A field is a view of the array data with a given data-type. The values in\n",
            " |   |      the view are determined by the given type and the offset into the current\n",
            " |   |      array in bytes. The offset needs to be such that the view dtype fits in the\n",
            " |   |      array dtype; for example an array of dtype complex128 has 16-byte elements.\n",
            " |   |      If taking a view with a 32-bit integer (4 bytes), the offset needs to be\n",
            " |   |      between 0 and 12 bytes.\n",
            " |   |      \n",
            " |   |      Parameters\n",
            " |   |      ----------\n",
            " |   |      dtype : str or dtype\n",
            " |   |          The data type of the view. The dtype size of the view can not be larger\n",
            " |   |          than that of the array itself.\n",
            " |   |      offset : int\n",
            " |   |          Number of bytes to skip before beginning the element view.\n",
            " |   |      \n",
            " |   |      Examples\n",
            " |   |      --------\n",
            " |   |      >>> x = np.diag([1.+1.j]*2)\n",
            " |   |      >>> x[1, 1] = 2 + 4.j\n",
            " |   |      >>> x\n",
            " |   |      array([[1.+1.j,  0.+0.j],\n",
            " |   |             [0.+0.j,  2.+4.j]])\n",
            " |   |      >>> x.getfield(np.float64)\n",
            " |   |      array([[1.,  0.],\n",
            " |   |             [0.,  2.]])\n",
            " |   |      \n",
            " |   |      By choosing an offset of 8 bytes we can select the complex part of the\n",
            " |   |      array for our view:\n",
            " |   |      \n",
            " |   |      >>> x.getfield(np.float64, offset=8)\n",
            " |   |      array([[1.,  0.],\n",
            " |   |             [0.,  4.]])\n",
            " |   |  \n",
            " |   |  item(...)\n",
            " |   |      a.item(*args)\n",
            " |   |      \n",
            " |   |      Copy an element of an array to a standard Python scalar and return it.\n",
            " |   |      \n",
            " |   |      Parameters\n",
            " |   |      ----------\n",
            " |   |      \\*args : Arguments (variable number and type)\n",
            " |   |      \n",
            " |   |          * none: in this case, the method only works for arrays\n",
            " |   |            with one element (`a.size == 1`), which element is\n",
            " |   |            copied into a standard Python scalar object and returned.\n",
            " |   |      \n",
            " |   |          * int_type: this argument is interpreted as a flat index into\n",
            " |   |            the array, specifying which element to copy and return.\n",
            " |   |      \n",
            " |   |          * tuple of int_types: functions as does a single int_type argument,\n",
            " |   |            except that the argument is interpreted as an nd-index into the\n",
            " |   |            array.\n",
            " |   |      \n",
            " |   |      Returns\n",
            " |   |      -------\n",
            " |   |      z : Standard Python scalar object\n",
            " |   |          A copy of the specified element of the array as a suitable\n",
            " |   |          Python scalar\n",
            " |   |      \n",
            " |   |      Notes\n",
            " |   |      -----\n",
            " |   |      When the data type of `a` is longdouble or clongdouble, item() returns\n",
            " |   |      a scalar array object because there is no available Python scalar that\n",
            " |   |      would not lose information. Void arrays return a buffer object for item(),\n",
            " |   |      unless fields are defined, in which case a tuple is returned.\n",
            " |   |      \n",
            " |   |      `item` is very similar to a[args], except, instead of an array scalar,\n",
            " |   |      a standard Python scalar is returned. This can be useful for speeding up\n",
            " |   |      access to elements of the array and doing arithmetic on elements of the\n",
            " |   |      array using Python's optimized math.\n",
            " |   |      \n",
            " |   |      Examples\n",
            " |   |      --------\n",
            " |   |      >>> np.random.seed(123)\n",
            " |   |      >>> x = np.random.randint(9, size=(3, 3))\n",
            " |   |      >>> x\n",
            " |   |      array([[2, 2, 6],\n",
            " |   |             [1, 3, 6],\n",
            " |   |             [1, 0, 1]])\n",
            " |   |      >>> x.item(3)\n",
            " |   |      1\n",
            " |   |      >>> x.item(7)\n",
            " |   |      0\n",
            " |   |      >>> x.item((0, 1))\n",
            " |   |      2\n",
            " |   |      >>> x.item((2, 2))\n",
            " |   |      1\n",
            " |   |  \n",
            " |   |  itemset(...)\n",
            " |   |      a.itemset(*args)\n",
            " |   |      \n",
            " |   |      Insert scalar into an array (scalar is cast to array's dtype, if possible)\n",
            " |   |      \n",
            " |   |      There must be at least 1 argument, and define the last argument\n",
            " |   |      as *item*.  Then, ``a.itemset(*args)`` is equivalent to but faster\n",
            " |   |      than ``a[args] = item``.  The item should be a scalar value and `args`\n",
            " |   |      must select a single item in the array `a`.\n",
            " |   |      \n",
            " |   |      Parameters\n",
            " |   |      ----------\n",
            " |   |      \\*args : Arguments\n",
            " |   |          If one argument: a scalar, only used in case `a` is of size 1.\n",
            " |   |          If two arguments: the last argument is the value to be set\n",
            " |   |          and must be a scalar, the first argument specifies a single array\n",
            " |   |          element location. It is either an int or a tuple.\n",
            " |   |      \n",
            " |   |      Notes\n",
            " |   |      -----\n",
            " |   |      Compared to indexing syntax, `itemset` provides some speed increase\n",
            " |   |      for placing a scalar into a particular location in an `ndarray`,\n",
            " |   |      if you must do this.  However, generally this is discouraged:\n",
            " |   |      among other problems, it complicates the appearance of the code.\n",
            " |   |      Also, when using `itemset` (and `item`) inside a loop, be sure\n",
            " |   |      to assign the methods to a local variable to avoid the attribute\n",
            " |   |      look-up at each loop iteration.\n",
            " |   |      \n",
            " |   |      Examples\n",
            " |   |      --------\n",
            " |   |      >>> np.random.seed(123)\n",
            " |   |      >>> x = np.random.randint(9, size=(3, 3))\n",
            " |   |      >>> x\n",
            " |   |      array([[2, 2, 6],\n",
            " |   |             [1, 3, 6],\n",
            " |   |             [1, 0, 1]])\n",
            " |   |      >>> x.itemset(4, 0)\n",
            " |   |      >>> x.itemset((2, 2), 9)\n",
            " |   |      >>> x\n",
            " |   |      array([[2, 2, 6],\n",
            " |   |             [1, 0, 6],\n",
            " |   |             [1, 0, 9]])\n",
            " |   |  \n",
            " |   |  newbyteorder(...)\n",
            " |   |      arr.newbyteorder(new_order='S', /)\n",
            " |   |      \n",
            " |   |      Return the array with the same data viewed with a different byte order.\n",
            " |   |      \n",
            " |   |      Equivalent to::\n",
            " |   |      \n",
            " |   |          arr.view(arr.dtype.newbytorder(new_order))\n",
            " |   |      \n",
            " |   |      Changes are also made in all fields and sub-arrays of the array data\n",
            " |   |      type.\n",
            " |   |      \n",
            " |   |      \n",
            " |   |      \n",
            " |   |      Parameters\n",
            " |   |      ----------\n",
            " |   |      new_order : string, optional\n",
            " |   |          Byte order to force; a value from the byte order specifications\n",
            " |   |          below. `new_order` codes can be any of:\n",
            " |   |      \n",
            " |   |          * 'S' - swap dtype from current to opposite endian\n",
            " |   |          * {'<', 'little'} - little endian\n",
            " |   |          * {'>', 'big'} - big endian\n",
            " |   |          * {'=', 'native'} - native order, equivalent to `sys.byteorder`\n",
            " |   |          * {'|', 'I'} - ignore (no change to byte order)\n",
            " |   |      \n",
            " |   |          The default value ('S') results in swapping the current\n",
            " |   |          byte order.\n",
            " |   |      \n",
            " |   |      \n",
            " |   |      Returns\n",
            " |   |      -------\n",
            " |   |      new_arr : array\n",
            " |   |          New array object with the dtype reflecting given change to the\n",
            " |   |          byte order.\n",
            " |   |  \n",
            " |   |  nonzero(...)\n",
            " |   |      a.nonzero()\n",
            " |   |      \n",
            " |   |      Return the indices of the elements that are non-zero.\n",
            " |   |      \n",
            " |   |      Refer to `numpy.nonzero` for full documentation.\n",
            " |   |      \n",
            " |   |      See Also\n",
            " |   |      --------\n",
            " |   |      numpy.nonzero : equivalent function\n",
            " |   |  \n",
            " |   |  partition(...)\n",
            " |   |      a.partition(kth, axis=-1, kind='introselect', order=None)\n",
            " |   |      \n",
            " |   |      Rearranges the elements in the array in such a way that the value of the\n",
            " |   |      element in kth position is in the position it would be in a sorted array.\n",
            " |   |      All elements smaller than the kth element are moved before this element and\n",
            " |   |      all equal or greater are moved behind it. The ordering of the elements in\n",
            " |   |      the two partitions is undefined.\n",
            " |   |      \n",
            " |   |      .. versionadded:: 1.8.0\n",
            " |   |      \n",
            " |   |      Parameters\n",
            " |   |      ----------\n",
            " |   |      kth : int or sequence of ints\n",
            " |   |          Element index to partition by. The kth element value will be in its\n",
            " |   |          final sorted position and all smaller elements will be moved before it\n",
            " |   |          and all equal or greater elements behind it.\n",
            " |   |          The order of all elements in the partitions is undefined.\n",
            " |   |          If provided with a sequence of kth it will partition all elements\n",
            " |   |          indexed by kth of them into their sorted position at once.\n",
            " |   |      \n",
            " |   |          .. deprecated:: 1.22.0\n",
            " |   |              Passing booleans as index is deprecated.\n",
            " |   |      axis : int, optional\n",
            " |   |          Axis along which to sort. Default is -1, which means sort along the\n",
            " |   |          last axis.\n",
            " |   |      kind : {'introselect'}, optional\n",
            " |   |          Selection algorithm. Default is 'introselect'.\n",
            " |   |      order : str or list of str, optional\n",
            " |   |          When `a` is an array with fields defined, this argument specifies\n",
            " |   |          which fields to compare first, second, etc. A single field can\n",
            " |   |          be specified as a string, and not all fields need to be specified,\n",
            " |   |          but unspecified fields will still be used, in the order in which\n",
            " |   |          they come up in the dtype, to break ties.\n",
            " |   |      \n",
            " |   |      See Also\n",
            " |   |      --------\n",
            " |   |      numpy.partition : Return a partitioned copy of an array.\n",
            " |   |      argpartition : Indirect partition.\n",
            " |   |      sort : Full sort.\n",
            " |   |      \n",
            " |   |      Notes\n",
            " |   |      -----\n",
            " |   |      See ``np.partition`` for notes on the different algorithms.\n",
            " |   |      \n",
            " |   |      Examples\n",
            " |   |      --------\n",
            " |   |      >>> a = np.array([3, 4, 2, 1])\n",
            " |   |      >>> a.partition(3)\n",
            " |   |      >>> a\n",
            " |   |      array([2, 1, 3, 4])\n",
            " |   |      \n",
            " |   |      >>> a.partition((1, 3))\n",
            " |   |      >>> a\n",
            " |   |      array([1, 2, 3, 4])\n",
            " |   |  \n",
            " |   |  put(...)\n",
            " |   |      a.put(indices, values, mode='raise')\n",
            " |   |      \n",
            " |   |      Set ``a.flat[n] = values[n]`` for all `n` in indices.\n",
            " |   |      \n",
            " |   |      Refer to `numpy.put` for full documentation.\n",
            " |   |      \n",
            " |   |      See Also\n",
            " |   |      --------\n",
            " |   |      numpy.put : equivalent function\n",
            " |   |  \n",
            " |   |  repeat(...)\n",
            " |   |      a.repeat(repeats, axis=None)\n",
            " |   |      \n",
            " |   |      Repeat elements of an array.\n",
            " |   |      \n",
            " |   |      Refer to `numpy.repeat` for full documentation.\n",
            " |   |      \n",
            " |   |      See Also\n",
            " |   |      --------\n",
            " |   |      numpy.repeat : equivalent function\n",
            " |   |  \n",
            " |   |  reshape(...)\n",
            " |   |      a.reshape(shape, order='C')\n",
            " |   |      \n",
            " |   |      Returns an array containing the same data with a new shape.\n",
            " |   |      \n",
            " |   |      Refer to `numpy.reshape` for full documentation.\n",
            " |   |      \n",
            " |   |      See Also\n",
            " |   |      --------\n",
            " |   |      numpy.reshape : equivalent function\n",
            " |   |      \n",
            " |   |      Notes\n",
            " |   |      -----\n",
            " |   |      Unlike the free function `numpy.reshape`, this method on `ndarray` allows\n",
            " |   |      the elements of the shape parameter to be passed in as separate arguments.\n",
            " |   |      For example, ``a.reshape(10, 11)`` is equivalent to\n",
            " |   |      ``a.reshape((10, 11))``.\n",
            " |   |  \n",
            " |   |  resize(...)\n",
            " |   |      a.resize(new_shape, refcheck=True)\n",
            " |   |      \n",
            " |   |      Change shape and size of array in-place.\n",
            " |   |      \n",
            " |   |      Parameters\n",
            " |   |      ----------\n",
            " |   |      new_shape : tuple of ints, or `n` ints\n",
            " |   |          Shape of resized array.\n",
            " |   |      refcheck : bool, optional\n",
            " |   |          If False, reference count will not be checked. Default is True.\n",
            " |   |      \n",
            " |   |      Returns\n",
            " |   |      -------\n",
            " |   |      None\n",
            " |   |      \n",
            " |   |      Raises\n",
            " |   |      ------\n",
            " |   |      ValueError\n",
            " |   |          If `a` does not own its own data or references or views to it exist,\n",
            " |   |          and the data memory must be changed.\n",
            " |   |          PyPy only: will always raise if the data memory must be changed, since\n",
            " |   |          there is no reliable way to determine if references or views to it\n",
            " |   |          exist.\n",
            " |   |      \n",
            " |   |      SystemError\n",
            " |   |          If the `order` keyword argument is specified. This behaviour is a\n",
            " |   |          bug in NumPy.\n",
            " |   |      \n",
            " |   |      See Also\n",
            " |   |      --------\n",
            " |   |      resize : Return a new array with the specified shape.\n",
            " |   |      \n",
            " |   |      Notes\n",
            " |   |      -----\n",
            " |   |      This reallocates space for the data area if necessary.\n",
            " |   |      \n",
            " |   |      Only contiguous arrays (data elements consecutive in memory) can be\n",
            " |   |      resized.\n",
            " |   |      \n",
            " |   |      The purpose of the reference count check is to make sure you\n",
            " |   |      do not use this array as a buffer for another Python object and then\n",
            " |   |      reallocate the memory. However, reference counts can increase in\n",
            " |   |      other ways so if you are sure that you have not shared the memory\n",
            " |   |      for this array with another Python object, then you may safely set\n",
            " |   |      `refcheck` to False.\n",
            " |   |      \n",
            " |   |      Examples\n",
            " |   |      --------\n",
            " |   |      Shrinking an array: array is flattened (in the order that the data are\n",
            " |   |      stored in memory), resized, and reshaped:\n",
            " |   |      \n",
            " |   |      >>> a = np.array([[0, 1], [2, 3]], order='C')\n",
            " |   |      >>> a.resize((2, 1))\n",
            " |   |      >>> a\n",
            " |   |      array([[0],\n",
            " |   |             [1]])\n",
            " |   |      \n",
            " |   |      >>> a = np.array([[0, 1], [2, 3]], order='F')\n",
            " |   |      >>> a.resize((2, 1))\n",
            " |   |      >>> a\n",
            " |   |      array([[0],\n",
            " |   |             [2]])\n",
            " |   |      \n",
            " |   |      Enlarging an array: as above, but missing entries are filled with zeros:\n",
            " |   |      \n",
            " |   |      >>> b = np.array([[0, 1], [2, 3]])\n",
            " |   |      >>> b.resize(2, 3) # new_shape parameter doesn't have to be a tuple\n",
            " |   |      >>> b\n",
            " |   |      array([[0, 1, 2],\n",
            " |   |             [3, 0, 0]])\n",
            " |   |      \n",
            " |   |      Referencing an array prevents resizing...\n",
            " |   |      \n",
            " |   |      >>> c = a\n",
            " |   |      >>> a.resize((1, 1))\n",
            " |   |      Traceback (most recent call last):\n",
            " |   |      ...\n",
            " |   |      ValueError: cannot resize an array that references or is referenced ...\n",
            " |   |      \n",
            " |   |      Unless `refcheck` is False:\n",
            " |   |      \n",
            " |   |      >>> a.resize((1, 1), refcheck=False)\n",
            " |   |      >>> a\n",
            " |   |      array([[0]])\n",
            " |   |      >>> c\n",
            " |   |      array([[0]])\n",
            " |   |  \n",
            " |   |  round(...)\n",
            " |   |      a.round(decimals=0, out=None)\n",
            " |   |      \n",
            " |   |      Return `a` with each element rounded to the given number of decimals.\n",
            " |   |      \n",
            " |   |      Refer to `numpy.around` for full documentation.\n",
            " |   |      \n",
            " |   |      See Also\n",
            " |   |      --------\n",
            " |   |      numpy.around : equivalent function\n",
            " |   |  \n",
            " |   |  searchsorted(...)\n",
            " |   |      a.searchsorted(v, side='left', sorter=None)\n",
            " |   |      \n",
            " |   |      Find indices where elements of v should be inserted in a to maintain order.\n",
            " |   |      \n",
            " |   |      For full documentation, see `numpy.searchsorted`\n",
            " |   |      \n",
            " |   |      See Also\n",
            " |   |      --------\n",
            " |   |      numpy.searchsorted : equivalent function\n",
            " |   |  \n",
            " |   |  setfield(...)\n",
            " |   |      a.setfield(val, dtype, offset=0)\n",
            " |   |      \n",
            " |   |      Put a value into a specified place in a field defined by a data-type.\n",
            " |   |      \n",
            " |   |      Place `val` into `a`'s field defined by `dtype` and beginning `offset`\n",
            " |   |      bytes into the field.\n",
            " |   |      \n",
            " |   |      Parameters\n",
            " |   |      ----------\n",
            " |   |      val : object\n",
            " |   |          Value to be placed in field.\n",
            " |   |      dtype : dtype object\n",
            " |   |          Data-type of the field in which to place `val`.\n",
            " |   |      offset : int, optional\n",
            " |   |          The number of bytes into the field at which to place `val`.\n",
            " |   |      \n",
            " |   |      Returns\n",
            " |   |      -------\n",
            " |   |      None\n",
            " |   |      \n",
            " |   |      See Also\n",
            " |   |      --------\n",
            " |   |      getfield\n",
            " |   |      \n",
            " |   |      Examples\n",
            " |   |      --------\n",
            " |   |      >>> x = np.eye(3)\n",
            " |   |      >>> x.getfield(np.float64)\n",
            " |   |      array([[1.,  0.,  0.],\n",
            " |   |             [0.,  1.,  0.],\n",
            " |   |             [0.,  0.,  1.]])\n",
            " |   |      >>> x.setfield(3, np.int32)\n",
            " |   |      >>> x.getfield(np.int32)\n",
            " |   |      array([[3, 3, 3],\n",
            " |   |             [3, 3, 3],\n",
            " |   |             [3, 3, 3]], dtype=int32)\n",
            " |   |      >>> x\n",
            " |   |      array([[1.0e+000, 1.5e-323, 1.5e-323],\n",
            " |   |             [1.5e-323, 1.0e+000, 1.5e-323],\n",
            " |   |             [1.5e-323, 1.5e-323, 1.0e+000]])\n",
            " |   |      >>> x.setfield(np.eye(3), np.int32)\n",
            " |   |      >>> x\n",
            " |   |      array([[1.,  0.,  0.],\n",
            " |   |             [0.,  1.,  0.],\n",
            " |   |             [0.,  0.,  1.]])\n",
            " |   |  \n",
            " |   |  setflags(...)\n",
            " |   |      a.setflags(write=None, align=None, uic=None)\n",
            " |   |      \n",
            " |   |      Set array flags WRITEABLE, ALIGNED, WRITEBACKIFCOPY,\n",
            " |   |      respectively.\n",
            " |   |      \n",
            " |   |      These Boolean-valued flags affect how numpy interprets the memory\n",
            " |   |      area used by `a` (see Notes below). The ALIGNED flag can only\n",
            " |   |      be set to True if the data is actually aligned according to the type.\n",
            " |   |      The WRITEBACKIFCOPY and flag can never be set\n",
            " |   |      to True. The flag WRITEABLE can only be set to True if the array owns its\n",
            " |   |      own memory, or the ultimate owner of the memory exposes a writeable buffer\n",
            " |   |      interface, or is a string. (The exception for string is made so that\n",
            " |   |      unpickling can be done without copying memory.)\n",
            " |   |      \n",
            " |   |      Parameters\n",
            " |   |      ----------\n",
            " |   |      write : bool, optional\n",
            " |   |          Describes whether or not `a` can be written to.\n",
            " |   |      align : bool, optional\n",
            " |   |          Describes whether or not `a` is aligned properly for its type.\n",
            " |   |      uic : bool, optional\n",
            " |   |          Describes whether or not `a` is a copy of another \"base\" array.\n",
            " |   |      \n",
            " |   |      Notes\n",
            " |   |      -----\n",
            " |   |      Array flags provide information about how the memory area used\n",
            " |   |      for the array is to be interpreted. There are 7 Boolean flags\n",
            " |   |      in use, only four of which can be changed by the user:\n",
            " |   |      WRITEBACKIFCOPY, WRITEABLE, and ALIGNED.\n",
            " |   |      \n",
            " |   |      WRITEABLE (W) the data area can be written to;\n",
            " |   |      \n",
            " |   |      ALIGNED (A) the data and strides are aligned appropriately for the hardware\n",
            " |   |      (as determined by the compiler);\n",
            " |   |      \n",
            " |   |      WRITEBACKIFCOPY (X) this array is a copy of some other array (referenced\n",
            " |   |      by .base). When the C-API function PyArray_ResolveWritebackIfCopy is\n",
            " |   |      called, the base array will be updated with the contents of this array.\n",
            " |   |      \n",
            " |   |      All flags can be accessed using the single (upper case) letter as well\n",
            " |   |      as the full name.\n",
            " |   |      \n",
            " |   |      Examples\n",
            " |   |      --------\n",
            " |   |      >>> y = np.array([[3, 1, 7],\n",
            " |   |      ...               [2, 0, 0],\n",
            " |   |      ...               [8, 5, 9]])\n",
            " |   |      >>> y\n",
            " |   |      array([[3, 1, 7],\n",
            " |   |             [2, 0, 0],\n",
            " |   |             [8, 5, 9]])\n",
            " |   |      >>> y.flags\n",
            " |   |        C_CONTIGUOUS : True\n",
            " |   |        F_CONTIGUOUS : False\n",
            " |   |        OWNDATA : True\n",
            " |   |        WRITEABLE : True\n",
            " |   |        ALIGNED : True\n",
            " |   |        WRITEBACKIFCOPY : False\n",
            " |   |      >>> y.setflags(write=0, align=0)\n",
            " |   |      >>> y.flags\n",
            " |   |        C_CONTIGUOUS : True\n",
            " |   |        F_CONTIGUOUS : False\n",
            " |   |        OWNDATA : True\n",
            " |   |        WRITEABLE : False\n",
            " |   |        ALIGNED : False\n",
            " |   |        WRITEBACKIFCOPY : False\n",
            " |   |      >>> y.setflags(uic=1)\n",
            " |   |      Traceback (most recent call last):\n",
            " |   |        File \"<stdin>\", line 1, in <module>\n",
            " |   |      ValueError: cannot set WRITEBACKIFCOPY flag to True\n",
            " |   |  \n",
            " |   |  sort(...)\n",
            " |   |      a.sort(axis=-1, kind=None, order=None)\n",
            " |   |      \n",
            " |   |      Sort an array in-place. Refer to `numpy.sort` for full documentation.\n",
            " |   |      \n",
            " |   |      Parameters\n",
            " |   |      ----------\n",
            " |   |      axis : int, optional\n",
            " |   |          Axis along which to sort. Default is -1, which means sort along the\n",
            " |   |          last axis.\n",
            " |   |      kind : {'quicksort', 'mergesort', 'heapsort', 'stable'}, optional\n",
            " |   |          Sorting algorithm. The default is 'quicksort'. Note that both 'stable'\n",
            " |   |          and 'mergesort' use timsort under the covers and, in general, the\n",
            " |   |          actual implementation will vary with datatype. The 'mergesort' option\n",
            " |   |          is retained for backwards compatibility.\n",
            " |   |      \n",
            " |   |          .. versionchanged:: 1.15.0\n",
            " |   |             The 'stable' option was added.\n",
            " |   |      \n",
            " |   |      order : str or list of str, optional\n",
            " |   |          When `a` is an array with fields defined, this argument specifies\n",
            " |   |          which fields to compare first, second, etc.  A single field can\n",
            " |   |          be specified as a string, and not all fields need be specified,\n",
            " |   |          but unspecified fields will still be used, in the order in which\n",
            " |   |          they come up in the dtype, to break ties.\n",
            " |   |      \n",
            " |   |      See Also\n",
            " |   |      --------\n",
            " |   |      numpy.sort : Return a sorted copy of an array.\n",
            " |   |      numpy.argsort : Indirect sort.\n",
            " |   |      numpy.lexsort : Indirect stable sort on multiple keys.\n",
            " |   |      numpy.searchsorted : Find elements in sorted array.\n",
            " |   |      numpy.partition: Partial sort.\n",
            " |   |      \n",
            " |   |      Notes\n",
            " |   |      -----\n",
            " |   |      See `numpy.sort` for notes on the different sorting algorithms.\n",
            " |   |      \n",
            " |   |      Examples\n",
            " |   |      --------\n",
            " |   |      >>> a = np.array([[1,4], [3,1]])\n",
            " |   |      >>> a.sort(axis=1)\n",
            " |   |      >>> a\n",
            " |   |      array([[1, 4],\n",
            " |   |             [1, 3]])\n",
            " |   |      >>> a.sort(axis=0)\n",
            " |   |      >>> a\n",
            " |   |      array([[1, 3],\n",
            " |   |             [1, 4]])\n",
            " |   |      \n",
            " |   |      Use the `order` keyword to specify a field to use when sorting a\n",
            " |   |      structured array:\n",
            " |   |      \n",
            " |   |      >>> a = np.array([('a', 2), ('c', 1)], dtype=[('x', 'S1'), ('y', int)])\n",
            " |   |      >>> a.sort(order='y')\n",
            " |   |      >>> a\n",
            " |   |      array([(b'c', 1), (b'a', 2)],\n",
            " |   |            dtype=[('x', 'S1'), ('y', '<i8')])\n",
            " |   |  \n",
            " |   |  swapaxes(...)\n",
            " |   |      a.swapaxes(axis1, axis2)\n",
            " |   |      \n",
            " |   |      Return a view of the array with `axis1` and `axis2` interchanged.\n",
            " |   |      \n",
            " |   |      Refer to `numpy.swapaxes` for full documentation.\n",
            " |   |      \n",
            " |   |      See Also\n",
            " |   |      --------\n",
            " |   |      numpy.swapaxes : equivalent function\n",
            " |   |  \n",
            " |   |  take(...)\n",
            " |   |      a.take(indices, axis=None, out=None, mode='raise')\n",
            " |   |      \n",
            " |   |      Return an array formed from the elements of `a` at the given indices.\n",
            " |   |      \n",
            " |   |      Refer to `numpy.take` for full documentation.\n",
            " |   |      \n",
            " |   |      See Also\n",
            " |   |      --------\n",
            " |   |      numpy.take : equivalent function\n",
            " |   |  \n",
            " |   |  tobytes(...)\n",
            " |   |      a.tobytes(order='C')\n",
            " |   |      \n",
            " |   |      Construct Python bytes containing the raw data bytes in the array.\n",
            " |   |      \n",
            " |   |      Constructs Python bytes showing a copy of the raw contents of\n",
            " |   |      data memory. The bytes object is produced in C-order by default.\n",
            " |   |      This behavior is controlled by the ``order`` parameter.\n",
            " |   |      \n",
            " |   |      .. versionadded:: 1.9.0\n",
            " |   |      \n",
            " |   |      Parameters\n",
            " |   |      ----------\n",
            " |   |      order : {'C', 'F', 'A'}, optional\n",
            " |   |          Controls the memory layout of the bytes object. 'C' means C-order,\n",
            " |   |          'F' means F-order, 'A' (short for *Any*) means 'F' if `a` is\n",
            " |   |          Fortran contiguous, 'C' otherwise. Default is 'C'.\n",
            " |   |      \n",
            " |   |      Returns\n",
            " |   |      -------\n",
            " |   |      s : bytes\n",
            " |   |          Python bytes exhibiting a copy of `a`'s raw data.\n",
            " |   |      \n",
            " |   |      See also\n",
            " |   |      --------\n",
            " |   |      frombuffer\n",
            " |   |          Inverse of this operation, construct a 1-dimensional array from Python\n",
            " |   |          bytes.\n",
            " |   |      \n",
            " |   |      Examples\n",
            " |   |      --------\n",
            " |   |      >>> x = np.array([[0, 1], [2, 3]], dtype='<u2')\n",
            " |   |      >>> x.tobytes()\n",
            " |   |      b'\\x00\\x00\\x01\\x00\\x02\\x00\\x03\\x00'\n",
            " |   |      >>> x.tobytes('C') == x.tobytes()\n",
            " |   |      True\n",
            " |   |      >>> x.tobytes('F')\n",
            " |   |      b'\\x00\\x00\\x02\\x00\\x01\\x00\\x03\\x00'\n",
            " |   |  \n",
            " |   |  tofile(...)\n",
            " |   |      a.tofile(fid, sep=\"\", format=\"%s\")\n",
            " |   |      \n",
            " |   |      Write array to a file as text or binary (default).\n",
            " |   |      \n",
            " |   |      Data is always written in 'C' order, independent of the order of `a`.\n",
            " |   |      The data produced by this method can be recovered using the function\n",
            " |   |      fromfile().\n",
            " |   |      \n",
            " |   |      Parameters\n",
            " |   |      ----------\n",
            " |   |      fid : file or str or Path\n",
            " |   |          An open file object, or a string containing a filename.\n",
            " |   |      \n",
            " |   |          .. versionchanged:: 1.17.0\n",
            " |   |              `pathlib.Path` objects are now accepted.\n",
            " |   |      \n",
            " |   |      sep : str\n",
            " |   |          Separator between array items for text output.\n",
            " |   |          If \"\" (empty), a binary file is written, equivalent to\n",
            " |   |          ``file.write(a.tobytes())``.\n",
            " |   |      format : str\n",
            " |   |          Format string for text file output.\n",
            " |   |          Each entry in the array is formatted to text by first converting\n",
            " |   |          it to the closest Python type, and then using \"format\" % item.\n",
            " |   |      \n",
            " |   |      Notes\n",
            " |   |      -----\n",
            " |   |      This is a convenience function for quick storage of array data.\n",
            " |   |      Information on endianness and precision is lost, so this method is not a\n",
            " |   |      good choice for files intended to archive data or transport data between\n",
            " |   |      machines with different endianness. Some of these problems can be overcome\n",
            " |   |      by outputting the data as text files, at the expense of speed and file\n",
            " |   |      size.\n",
            " |   |      \n",
            " |   |      When fid is a file object, array contents are directly written to the\n",
            " |   |      file, bypassing the file object's ``write`` method. As a result, tofile\n",
            " |   |      cannot be used with files objects supporting compression (e.g., GzipFile)\n",
            " |   |      or file-like objects that do not support ``fileno()`` (e.g., BytesIO).\n",
            " |   |  \n",
            " |   |  tostring(...)\n",
            " |   |      a.tostring(order='C')\n",
            " |   |      \n",
            " |   |      A compatibility alias for `tobytes`, with exactly the same behavior.\n",
            " |   |      \n",
            " |   |      Despite its name, it returns `bytes` not `str`\\ s.\n",
            " |   |      \n",
            " |   |      .. deprecated:: 1.19.0\n",
            " |   |  \n",
            " |   |  trace(...)\n",
            " |   |      a.trace(offset=0, axis1=0, axis2=1, dtype=None, out=None)\n",
            " |   |      \n",
            " |   |      Return the sum along diagonals of the array.\n",
            " |   |      \n",
            " |   |      Refer to `numpy.trace` for full documentation.\n",
            " |   |      \n",
            " |   |      See Also\n",
            " |   |      --------\n",
            " |   |      numpy.trace : equivalent function\n",
            " |   |  \n",
            " |   |  transpose(...)\n",
            " |   |      a.transpose(*axes)\n",
            " |   |      \n",
            " |   |      Returns a view of the array with axes transposed.\n",
            " |   |      \n",
            " |   |      Refer to `numpy.transpose` for full documentation.\n",
            " |   |      \n",
            " |   |      Parameters\n",
            " |   |      ----------\n",
            " |   |      axes : None, tuple of ints, or `n` ints\n",
            " |   |      \n",
            " |   |       * None or no argument: reverses the order of the axes.\n",
            " |   |      \n",
            " |   |       * tuple of ints: `i` in the `j`-th place in the tuple means that the\n",
            " |   |         array's `i`-th axis becomes the transposed array's `j`-th axis.\n",
            " |   |      \n",
            " |   |       * `n` ints: same as an n-tuple of the same ints (this form is\n",
            " |   |         intended simply as a \"convenience\" alternative to the tuple form).\n",
            " |   |      \n",
            " |   |      Returns\n",
            " |   |      -------\n",
            " |   |      p : ndarray\n",
            " |   |          View of the array with its axes suitably permuted.\n",
            " |   |      \n",
            " |   |      See Also\n",
            " |   |      --------\n",
            " |   |      transpose : Equivalent function.\n",
            " |   |      ndarray.T : Array property returning the array transposed.\n",
            " |   |      ndarray.reshape : Give a new shape to an array without changing its data.\n",
            " |   |      \n",
            " |   |      Examples\n",
            " |   |      --------\n",
            " |   |      >>> a = np.array([[1, 2], [3, 4]])\n",
            " |   |      >>> a\n",
            " |   |      array([[1, 2],\n",
            " |   |             [3, 4]])\n",
            " |   |      >>> a.transpose()\n",
            " |   |      array([[1, 3],\n",
            " |   |             [2, 4]])\n",
            " |   |      >>> a.transpose((1, 0))\n",
            " |   |      array([[1, 3],\n",
            " |   |             [2, 4]])\n",
            " |   |      >>> a.transpose(1, 0)\n",
            " |   |      array([[1, 3],\n",
            " |   |             [2, 4]])\n",
            " |   |      \n",
            " |   |      >>> a = np.array([1, 2, 3, 4])\n",
            " |   |      >>> a\n",
            " |   |      array([1, 2, 3, 4])\n",
            " |   |      >>> a.transpose()\n",
            " |   |      array([1, 2, 3, 4])\n",
            " |   |  \n",
            " |   |  view(...)\n",
            " |   |      a.view([dtype][, type])\n",
            " |   |      \n",
            " |   |      New view of array with the same data.\n",
            " |   |      \n",
            " |   |      .. note::\n",
            " |   |          Passing None for ``dtype`` is different from omitting the parameter,\n",
            " |   |          since the former invokes ``dtype(None)`` which is an alias for\n",
            " |   |          ``dtype('float_')``.\n",
            " |   |      \n",
            " |   |      Parameters\n",
            " |   |      ----------\n",
            " |   |      dtype : data-type or ndarray sub-class, optional\n",
            " |   |          Data-type descriptor of the returned view, e.g., float32 or int16.\n",
            " |   |          Omitting it results in the view having the same data-type as `a`.\n",
            " |   |          This argument can also be specified as an ndarray sub-class, which\n",
            " |   |          then specifies the type of the returned object (this is equivalent to\n",
            " |   |          setting the ``type`` parameter).\n",
            " |   |      type : Python type, optional\n",
            " |   |          Type of the returned view, e.g., ndarray or matrix.  Again, omission\n",
            " |   |          of the parameter results in type preservation.\n",
            " |   |      \n",
            " |   |      Notes\n",
            " |   |      -----\n",
            " |   |      ``a.view()`` is used two different ways:\n",
            " |   |      \n",
            " |   |      ``a.view(some_dtype)`` or ``a.view(dtype=some_dtype)`` constructs a view\n",
            " |   |      of the array's memory with a different data-type.  This can cause a\n",
            " |   |      reinterpretation of the bytes of memory.\n",
            " |   |      \n",
            " |   |      ``a.view(ndarray_subclass)`` or ``a.view(type=ndarray_subclass)`` just\n",
            " |   |      returns an instance of `ndarray_subclass` that looks at the same array\n",
            " |   |      (same shape, dtype, etc.)  This does not cause a reinterpretation of the\n",
            " |   |      memory.\n",
            " |   |      \n",
            " |   |      For ``a.view(some_dtype)``, if ``some_dtype`` has a different number of\n",
            " |   |      bytes per entry than the previous dtype (for example, converting a regular\n",
            " |   |      array to a structured array), then the last axis of ``a`` must be\n",
            " |   |      contiguous. This axis will be resized in the result.\n",
            " |   |      \n",
            " |   |      .. versionchanged:: 1.23.0\n",
            " |   |         Only the last axis needs to be contiguous. Previously, the entire array\n",
            " |   |         had to be C-contiguous.\n",
            " |   |      \n",
            " |   |      Examples\n",
            " |   |      --------\n",
            " |   |      >>> x = np.array([(1, 2)], dtype=[('a', np.int8), ('b', np.int8)])\n",
            " |   |      \n",
            " |   |      Viewing array data using a different type and dtype:\n",
            " |   |      \n",
            " |   |      >>> y = x.view(dtype=np.int16, type=np.matrix)\n",
            " |   |      >>> y\n",
            " |   |      matrix([[513]], dtype=int16)\n",
            " |   |      >>> print(type(y))\n",
            " |   |      <class 'numpy.matrix'>\n",
            " |   |      \n",
            " |   |      Creating a view on a structured array so it can be used in calculations\n",
            " |   |      \n",
            " |   |      >>> x = np.array([(1, 2),(3,4)], dtype=[('a', np.int8), ('b', np.int8)])\n",
            " |   |      >>> xv = x.view(dtype=np.int8).reshape(-1,2)\n",
            " |   |      >>> xv\n",
            " |   |      array([[1, 2],\n",
            " |   |             [3, 4]], dtype=int8)\n",
            " |   |      >>> xv.mean(0)\n",
            " |   |      array([2.,  3.])\n",
            " |   |      \n",
            " |   |      Making changes to the view changes the underlying array\n",
            " |   |      \n",
            " |   |      >>> xv[0,1] = 20\n",
            " |   |      >>> x\n",
            " |   |      array([(1, 20), (3,  4)], dtype=[('a', 'i1'), ('b', 'i1')])\n",
            " |   |      \n",
            " |   |      Using a view to convert an array to a recarray:\n",
            " |   |      \n",
            " |   |      >>> z = x.view(np.recarray)\n",
            " |   |      >>> z.a\n",
            " |   |      array([1, 3], dtype=int8)\n",
            " |   |      \n",
            " |   |      Views share data:\n",
            " |   |      \n",
            " |   |      >>> x[0] = (9, 10)\n",
            " |   |      >>> z[0]\n",
            " |   |      (9, 10)\n",
            " |   |      \n",
            " |   |      Views that change the dtype size (bytes per entry) should normally be\n",
            " |   |      avoided on arrays defined by slices, transposes, fortran-ordering, etc.:\n",
            " |   |      \n",
            " |   |      >>> x = np.array([[1, 2, 3], [4, 5, 6]], dtype=np.int16)\n",
            " |   |      >>> y = x[:, ::2]\n",
            " |   |      >>> y\n",
            " |   |      array([[1, 3],\n",
            " |   |             [4, 6]], dtype=int16)\n",
            " |   |      >>> y.view(dtype=[('width', np.int16), ('length', np.int16)])\n",
            " |   |      Traceback (most recent call last):\n",
            " |   |          ...\n",
            " |   |      ValueError: To change to a dtype of a different size, the last axis must be contiguous\n",
            " |   |      >>> z = y.copy()\n",
            " |   |      >>> z.view(dtype=[('width', np.int16), ('length', np.int16)])\n",
            " |   |      array([[(1, 3)],\n",
            " |   |             [(4, 6)]], dtype=[('width', '<i2'), ('length', '<i2')])\n",
            " |   |      \n",
            " |   |      However, views that change dtype are totally fine for arrays with a\n",
            " |   |      contiguous last axis, even if the rest of the axes are not C-contiguous:\n",
            " |   |      \n",
            " |   |      >>> x = np.arange(2 * 3 * 4, dtype=np.int8).reshape(2, 3, 4)\n",
            " |   |      >>> x.transpose(1, 0, 2).view(np.int16)\n",
            " |   |      array([[[ 256,  770],\n",
            " |   |              [3340, 3854]],\n",
            " |   |      <BLANKLINE>\n",
            " |   |             [[1284, 1798],\n",
            " |   |              [4368, 4882]],\n",
            " |   |      <BLANKLINE>\n",
            " |   |             [[2312, 2826],\n",
            " |   |              [5396, 5910]]], dtype=int16)\n",
            " |   |  \n",
            " |   |  ----------------------------------------------------------------------\n",
            " |   |  Class methods inherited from ndarray:\n",
            " |   |  \n",
            " |   |  __class_getitem__(...) from builtins.type\n",
            " |   |      a.__class_getitem__(item, /)\n",
            " |   |      \n",
            " |   |      Return a parametrized wrapper around the `~numpy.ndarray` type.\n",
            " |   |      \n",
            " |   |      .. versionadded:: 1.22\n",
            " |   |      \n",
            " |   |      Returns\n",
            " |   |      -------\n",
            " |   |      alias : types.GenericAlias\n",
            " |   |          A parametrized `~numpy.ndarray` type.\n",
            " |   |      \n",
            " |   |      Examples\n",
            " |   |      --------\n",
            " |   |      >>> from typing import Any\n",
            " |   |      >>> import numpy as np\n",
            " |   |      \n",
            " |   |      >>> np.ndarray[Any, np.dtype[Any]]\n",
            " |   |      numpy.ndarray[typing.Any, numpy.dtype[typing.Any]]\n",
            " |   |      \n",
            " |   |      See Also\n",
            " |   |      --------\n",
            " |   |      :pep:`585` : Type hinting generics in standard collections.\n",
            " |   |      numpy.typing.NDArray : An ndarray alias :term:`generic <generic type>`\n",
            " |   |                          w.r.t. its `dtype.type <numpy.dtype.type>`.\n",
            " |   |  \n",
            " |   |  ----------------------------------------------------------------------\n",
            " |   |  Data descriptors inherited from ndarray:\n",
            " |   |  \n",
            " |   |  __array_interface__\n",
            " |   |      Array protocol: Python side.\n",
            " |   |  \n",
            " |   |  __array_struct__\n",
            " |   |      Array protocol: C-struct side.\n",
            " |   |  \n",
            " |   |  base\n",
            " |   |      Base object if memory is from some other object.\n",
            " |   |      \n",
            " |   |      Examples\n",
            " |   |      --------\n",
            " |   |      The base of an array that owns its memory is None:\n",
            " |   |      \n",
            " |   |      >>> x = np.array([1,2,3,4])\n",
            " |   |      >>> x.base is None\n",
            " |   |      True\n",
            " |   |      \n",
            " |   |      Slicing creates a view, whose memory is shared with x:\n",
            " |   |      \n",
            " |   |      >>> y = x[2:]\n",
            " |   |      >>> y.base is x\n",
            " |   |      True\n",
            " |   |  \n",
            " |   |  ctypes\n",
            " |   |      An object to simplify the interaction of the array with the ctypes\n",
            " |   |      module.\n",
            " |   |      \n",
            " |   |      This attribute creates an object that makes it easier to use arrays\n",
            " |   |      when calling shared libraries with the ctypes module. The returned\n",
            " |   |      object has, among others, data, shape, and strides attributes (see\n",
            " |   |      Notes below) which themselves return ctypes objects that can be used\n",
            " |   |      as arguments to a shared library.\n",
            " |   |      \n",
            " |   |      Parameters\n",
            " |   |      ----------\n",
            " |   |      None\n",
            " |   |      \n",
            " |   |      Returns\n",
            " |   |      -------\n",
            " |   |      c : Python object\n",
            " |   |          Possessing attributes data, shape, strides, etc.\n",
            " |   |      \n",
            " |   |      See Also\n",
            " |   |      --------\n",
            " |   |      numpy.ctypeslib\n",
            " |   |      \n",
            " |   |      Notes\n",
            " |   |      -----\n",
            " |   |      Below are the public attributes of this object which were documented\n",
            " |   |      in \"Guide to NumPy\" (we have omitted undocumented public attributes,\n",
            " |   |      as well as documented private attributes):\n",
            " |   |      \n",
            " |   |      .. autoattribute:: numpy.core._internal._ctypes.data\n",
            " |   |          :noindex:\n",
            " |   |      \n",
            " |   |      .. autoattribute:: numpy.core._internal._ctypes.shape\n",
            " |   |          :noindex:\n",
            " |   |      \n",
            " |   |      .. autoattribute:: numpy.core._internal._ctypes.strides\n",
            " |   |          :noindex:\n",
            " |   |      \n",
            " |   |      .. automethod:: numpy.core._internal._ctypes.data_as\n",
            " |   |          :noindex:\n",
            " |   |      \n",
            " |   |      .. automethod:: numpy.core._internal._ctypes.shape_as\n",
            " |   |          :noindex:\n",
            " |   |      \n",
            " |   |      .. automethod:: numpy.core._internal._ctypes.strides_as\n",
            " |   |          :noindex:\n",
            " |   |      \n",
            " |   |      If the ctypes module is not available, then the ctypes attribute\n",
            " |   |      of array objects still returns something useful, but ctypes objects\n",
            " |   |      are not returned and errors may be raised instead. In particular,\n",
            " |   |      the object will still have the ``as_parameter`` attribute which will\n",
            " |   |      return an integer equal to the data attribute.\n",
            " |   |      \n",
            " |   |      Examples\n",
            " |   |      --------\n",
            " |   |      >>> import ctypes\n",
            " |   |      >>> x = np.array([[0, 1], [2, 3]], dtype=np.int32)\n",
            " |   |      >>> x\n",
            " |   |      array([[0, 1],\n",
            " |   |             [2, 3]], dtype=int32)\n",
            " |   |      >>> x.ctypes.data\n",
            " |   |      31962608 # may vary\n",
            " |   |      >>> x.ctypes.data_as(ctypes.POINTER(ctypes.c_uint32))\n",
            " |   |      <__main__.LP_c_uint object at 0x7ff2fc1fc200> # may vary\n",
            " |   |      >>> x.ctypes.data_as(ctypes.POINTER(ctypes.c_uint32)).contents\n",
            " |   |      c_uint(0)\n",
            " |   |      >>> x.ctypes.data_as(ctypes.POINTER(ctypes.c_uint64)).contents\n",
            " |   |      c_ulong(4294967296)\n",
            " |   |      >>> x.ctypes.shape\n",
            " |   |      <numpy.core._internal.c_long_Array_2 object at 0x7ff2fc1fce60> # may vary\n",
            " |   |      >>> x.ctypes.strides\n",
            " |   |      <numpy.core._internal.c_long_Array_2 object at 0x7ff2fc1ff320> # may vary\n",
            " |   |  \n",
            " |   |  data\n",
            " |   |      Python buffer object pointing to the start of the array's data.\n",
            " |   |  \n",
            " |   |  dtype\n",
            " |   |      Data-type of the array's elements.\n",
            " |   |      \n",
            " |   |      .. warning::\n",
            " |   |      \n",
            " |   |          Setting ``arr.dtype`` is discouraged and may be deprecated in the\n",
            " |   |          future.  Setting will replace the ``dtype`` without modifying the\n",
            " |   |          memory (see also `ndarray.view` and `ndarray.astype`).\n",
            " |   |      \n",
            " |   |      Parameters\n",
            " |   |      ----------\n",
            " |   |      None\n",
            " |   |      \n",
            " |   |      Returns\n",
            " |   |      -------\n",
            " |   |      d : numpy dtype object\n",
            " |   |      \n",
            " |   |      See Also\n",
            " |   |      --------\n",
            " |   |      ndarray.astype : Cast the values contained in the array to a new data-type.\n",
            " |   |      ndarray.view : Create a view of the same data but a different data-type.\n",
            " |   |      numpy.dtype\n",
            " |   |      \n",
            " |   |      Examples\n",
            " |   |      --------\n",
            " |   |      >>> x\n",
            " |   |      array([[0, 1],\n",
            " |   |             [2, 3]])\n",
            " |   |      >>> x.dtype\n",
            " |   |      dtype('int32')\n",
            " |   |      >>> type(x.dtype)\n",
            " |   |      <type 'numpy.dtype'>\n",
            " |   |  \n",
            " |   |  flags\n",
            " |   |      Information about the memory layout of the array.\n",
            " |   |      \n",
            " |   |      Attributes\n",
            " |   |      ----------\n",
            " |   |      C_CONTIGUOUS (C)\n",
            " |   |          The data is in a single, C-style contiguous segment.\n",
            " |   |      F_CONTIGUOUS (F)\n",
            " |   |          The data is in a single, Fortran-style contiguous segment.\n",
            " |   |      OWNDATA (O)\n",
            " |   |          The array owns the memory it uses or borrows it from another object.\n",
            " |   |      WRITEABLE (W)\n",
            " |   |          The data area can be written to.  Setting this to False locks\n",
            " |   |          the data, making it read-only.  A view (slice, etc.) inherits WRITEABLE\n",
            " |   |          from its base array at creation time, but a view of a writeable\n",
            " |   |          array may be subsequently locked while the base array remains writeable.\n",
            " |   |          (The opposite is not true, in that a view of a locked array may not\n",
            " |   |          be made writeable.  However, currently, locking a base object does not\n",
            " |   |          lock any views that already reference it, so under that circumstance it\n",
            " |   |          is possible to alter the contents of a locked array via a previously\n",
            " |   |          created writeable view onto it.)  Attempting to change a non-writeable\n",
            " |   |          array raises a RuntimeError exception.\n",
            " |   |      ALIGNED (A)\n",
            " |   |          The data and all elements are aligned appropriately for the hardware.\n",
            " |   |      WRITEBACKIFCOPY (X)\n",
            " |   |          This array is a copy of some other array. The C-API function\n",
            " |   |          PyArray_ResolveWritebackIfCopy must be called before deallocating\n",
            " |   |          to the base array will be updated with the contents of this array.\n",
            " |   |      FNC\n",
            " |   |          F_CONTIGUOUS and not C_CONTIGUOUS.\n",
            " |   |      FORC\n",
            " |   |          F_CONTIGUOUS or C_CONTIGUOUS (one-segment test).\n",
            " |   |      BEHAVED (B)\n",
            " |   |          ALIGNED and WRITEABLE.\n",
            " |   |      CARRAY (CA)\n",
            " |   |          BEHAVED and C_CONTIGUOUS.\n",
            " |   |      FARRAY (FA)\n",
            " |   |          BEHAVED and F_CONTIGUOUS and not C_CONTIGUOUS.\n",
            " |   |      \n",
            " |   |      Notes\n",
            " |   |      -----\n",
            " |   |      The `flags` object can be accessed dictionary-like (as in ``a.flags['WRITEABLE']``),\n",
            " |   |      or by using lowercased attribute names (as in ``a.flags.writeable``). Short flag\n",
            " |   |      names are only supported in dictionary access.\n",
            " |   |      \n",
            " |   |      Only the WRITEBACKIFCOPY, WRITEABLE, and ALIGNED flags can be\n",
            " |   |      changed by the user, via direct assignment to the attribute or dictionary\n",
            " |   |      entry, or by calling `ndarray.setflags`.\n",
            " |   |      \n",
            " |   |      The array flags cannot be set arbitrarily:\n",
            " |   |      \n",
            " |   |      - WRITEBACKIFCOPY can only be set ``False``.\n",
            " |   |      - ALIGNED can only be set ``True`` if the data is truly aligned.\n",
            " |   |      - WRITEABLE can only be set ``True`` if the array owns its own memory\n",
            " |   |        or the ultimate owner of the memory exposes a writeable buffer\n",
            " |   |        interface or is a string.\n",
            " |   |      \n",
            " |   |      Arrays can be both C-style and Fortran-style contiguous simultaneously.\n",
            " |   |      This is clear for 1-dimensional arrays, but can also be true for higher\n",
            " |   |      dimensional arrays.\n",
            " |   |      \n",
            " |   |      Even for contiguous arrays a stride for a given dimension\n",
            " |   |      ``arr.strides[dim]`` may be *arbitrary* if ``arr.shape[dim] == 1``\n",
            " |   |      or the array has no elements.\n",
            " |   |      It does *not* generally hold that ``self.strides[-1] == self.itemsize``\n",
            " |   |      for C-style contiguous arrays or ``self.strides[0] == self.itemsize`` for\n",
            " |   |      Fortran-style contiguous arrays is true.\n",
            " |   |  \n",
            " |   |  flat\n",
            " |   |      A 1-D iterator over the array.\n",
            " |   |      \n",
            " |   |      This is a `numpy.flatiter` instance, which acts similarly to, but is not\n",
            " |   |      a subclass of, Python's built-in iterator object.\n",
            " |   |      \n",
            " |   |      See Also\n",
            " |   |      --------\n",
            " |   |      flatten : Return a copy of the array collapsed into one dimension.\n",
            " |   |      \n",
            " |   |      flatiter\n",
            " |   |      \n",
            " |   |      Examples\n",
            " |   |      --------\n",
            " |   |      >>> x = np.arange(1, 7).reshape(2, 3)\n",
            " |   |      >>> x\n",
            " |   |      array([[1, 2, 3],\n",
            " |   |             [4, 5, 6]])\n",
            " |   |      >>> x.flat[3]\n",
            " |   |      4\n",
            " |   |      >>> x.T\n",
            " |   |      array([[1, 4],\n",
            " |   |             [2, 5],\n",
            " |   |             [3, 6]])\n",
            " |   |      >>> x.T.flat[3]\n",
            " |   |      5\n",
            " |   |      >>> type(x.flat)\n",
            " |   |      <class 'numpy.flatiter'>\n",
            " |   |      \n",
            " |   |      An assignment example:\n",
            " |   |      \n",
            " |   |      >>> x.flat = 3; x\n",
            " |   |      array([[3, 3, 3],\n",
            " |   |             [3, 3, 3]])\n",
            " |   |      >>> x.flat[[1,4]] = 1; x\n",
            " |   |      array([[3, 1, 3],\n",
            " |   |             [3, 1, 3]])\n",
            " |   |  \n",
            " |   |  imag\n",
            " |   |      The imaginary part of the array.\n",
            " |   |      \n",
            " |   |      Examples\n",
            " |   |      --------\n",
            " |   |      >>> x = np.sqrt([1+0j, 0+1j])\n",
            " |   |      >>> x.imag\n",
            " |   |      array([ 0.        ,  0.70710678])\n",
            " |   |      >>> x.imag.dtype\n",
            " |   |      dtype('float64')\n",
            " |   |  \n",
            " |   |  itemsize\n",
            " |   |      Length of one array element in bytes.\n",
            " |   |      \n",
            " |   |      Examples\n",
            " |   |      --------\n",
            " |   |      >>> x = np.array([1,2,3], dtype=np.float64)\n",
            " |   |      >>> x.itemsize\n",
            " |   |      8\n",
            " |   |      >>> x = np.array([1,2,3], dtype=np.complex128)\n",
            " |   |      >>> x.itemsize\n",
            " |   |      16\n",
            " |   |  \n",
            " |   |  nbytes\n",
            " |   |      Total bytes consumed by the elements of the array.\n",
            " |   |      \n",
            " |   |      Notes\n",
            " |   |      -----\n",
            " |   |      Does not include memory consumed by non-element attributes of the\n",
            " |   |      array object.\n",
            " |   |      \n",
            " |   |      See Also\n",
            " |   |      --------\n",
            " |   |      sys.getsizeof\n",
            " |   |          Memory consumed by the object itself without parents in case view.\n",
            " |   |          This does include memory consumed by non-element attributes.\n",
            " |   |      \n",
            " |   |      Examples\n",
            " |   |      --------\n",
            " |   |      >>> x = np.zeros((3,5,2), dtype=np.complex128)\n",
            " |   |      >>> x.nbytes\n",
            " |   |      480\n",
            " |   |      >>> np.prod(x.shape) * x.itemsize\n",
            " |   |      480\n",
            " |   |  \n",
            " |   |  ndim\n",
            " |   |      Number of array dimensions.\n",
            " |   |      \n",
            " |   |      Examples\n",
            " |   |      --------\n",
            " |   |      >>> x = np.array([1, 2, 3])\n",
            " |   |      >>> x.ndim\n",
            " |   |      1\n",
            " |   |      >>> y = np.zeros((2, 3, 4))\n",
            " |   |      >>> y.ndim\n",
            " |   |      3\n",
            " |   |  \n",
            " |   |  real\n",
            " |   |      The real part of the array.\n",
            " |   |      \n",
            " |   |      Examples\n",
            " |   |      --------\n",
            " |   |      >>> x = np.sqrt([1+0j, 0+1j])\n",
            " |   |      >>> x.real\n",
            " |   |      array([ 1.        ,  0.70710678])\n",
            " |   |      >>> x.real.dtype\n",
            " |   |      dtype('float64')\n",
            " |   |      \n",
            " |   |      See Also\n",
            " |   |      --------\n",
            " |   |      numpy.real : equivalent function\n",
            " |   |  \n",
            " |   |  shape\n",
            " |   |      Tuple of array dimensions.\n",
            " |   |      \n",
            " |   |      The shape property is usually used to get the current shape of an array,\n",
            " |   |      but may also be used to reshape the array in-place by assigning a tuple of\n",
            " |   |      array dimensions to it.  As with `numpy.reshape`, one of the new shape\n",
            " |   |      dimensions can be -1, in which case its value is inferred from the size of\n",
            " |   |      the array and the remaining dimensions. Reshaping an array in-place will\n",
            " |   |      fail if a copy is required.\n",
            " |   |      \n",
            " |   |      .. warning::\n",
            " |   |      \n",
            " |   |          Setting ``arr.shape`` is discouraged and may be deprecated in the\n",
            " |   |          future.  Using `ndarray.reshape` is the preferred approach.\n",
            " |   |      \n",
            " |   |      Examples\n",
            " |   |      --------\n",
            " |   |      >>> x = np.array([1, 2, 3, 4])\n",
            " |   |      >>> x.shape\n",
            " |   |      (4,)\n",
            " |   |      >>> y = np.zeros((2, 3, 4))\n",
            " |   |      >>> y.shape\n",
            " |   |      (2, 3, 4)\n",
            " |   |      >>> y.shape = (3, 8)\n",
            " |   |      >>> y\n",
            " |   |      array([[ 0.,  0.,  0.,  0.,  0.,  0.,  0.,  0.],\n",
            " |   |             [ 0.,  0.,  0.,  0.,  0.,  0.,  0.,  0.],\n",
            " |   |             [ 0.,  0.,  0.,  0.,  0.,  0.,  0.,  0.]])\n",
            " |   |      >>> y.shape = (3, 6)\n",
            " |   |      Traceback (most recent call last):\n",
            " |   |        File \"<stdin>\", line 1, in <module>\n",
            " |   |      ValueError: total size of new array must be unchanged\n",
            " |   |      >>> np.zeros((4,2))[::2].shape = (-1,)\n",
            " |   |      Traceback (most recent call last):\n",
            " |   |        File \"<stdin>\", line 1, in <module>\n",
            " |   |      AttributeError: Incompatible shape for in-place modification. Use\n",
            " |   |      `.reshape()` to make a copy with the desired shape.\n",
            " |   |      \n",
            " |   |      See Also\n",
            " |   |      --------\n",
            " |   |      numpy.shape : Equivalent getter function.\n",
            " |   |      numpy.reshape : Function similar to setting ``shape``.\n",
            " |   |      ndarray.reshape : Method similar to setting ``shape``.\n",
            " |   |  \n",
            " |   |  size\n",
            " |   |      Number of elements in the array.\n",
            " |   |      \n",
            " |   |      Equal to ``np.prod(a.shape)``, i.e., the product of the array's\n",
            " |   |      dimensions.\n",
            " |   |      \n",
            " |   |      Notes\n",
            " |   |      -----\n",
            " |   |      `a.size` returns a standard arbitrary precision Python integer. This\n",
            " |   |      may not be the case with other methods of obtaining the same value\n",
            " |   |      (like the suggested ``np.prod(a.shape)``, which returns an instance\n",
            " |   |      of ``np.int_``), and may be relevant if the value is used further in\n",
            " |   |      calculations that may overflow a fixed size integer type.\n",
            " |   |      \n",
            " |   |      Examples\n",
            " |   |      --------\n",
            " |   |      >>> x = np.zeros((3, 5, 2), dtype=np.complex128)\n",
            " |   |      >>> x.size\n",
            " |   |      30\n",
            " |   |      >>> np.prod(x.shape)\n",
            " |   |      30\n",
            " |   |  \n",
            " |   |  strides\n",
            " |   |      Tuple of bytes to step in each dimension when traversing an array.\n",
            " |   |      \n",
            " |   |      The byte offset of element ``(i[0], i[1], ..., i[n])`` in an array `a`\n",
            " |   |      is::\n",
            " |   |      \n",
            " |   |          offset = sum(np.array(i) * a.strides)\n",
            " |   |      \n",
            " |   |      A more detailed explanation of strides can be found in the\n",
            " |   |      \"ndarray.rst\" file in the NumPy reference guide.\n",
            " |   |      \n",
            " |   |      .. warning::\n",
            " |   |      \n",
            " |   |          Setting ``arr.strides`` is discouraged and may be deprecated in the\n",
            " |   |          future.  `numpy.lib.stride_tricks.as_strided` should be preferred\n",
            " |   |          to create a new view of the same data in a safer way.\n",
            " |   |      \n",
            " |   |      Notes\n",
            " |   |      -----\n",
            " |   |      Imagine an array of 32-bit integers (each 4 bytes)::\n",
            " |   |      \n",
            " |   |        x = np.array([[0, 1, 2, 3, 4],\n",
            " |   |                      [5, 6, 7, 8, 9]], dtype=np.int32)\n",
            " |   |      \n",
            " |   |      This array is stored in memory as 40 bytes, one after the other\n",
            " |   |      (known as a contiguous block of memory).  The strides of an array tell\n",
            " |   |      us how many bytes we have to skip in memory to move to the next position\n",
            " |   |      along a certain axis.  For example, we have to skip 4 bytes (1 value) to\n",
            " |   |      move to the next column, but 20 bytes (5 values) to get to the same\n",
            " |   |      position in the next row.  As such, the strides for the array `x` will be\n",
            " |   |      ``(20, 4)``.\n",
            " |   |      \n",
            " |   |      See Also\n",
            " |   |      --------\n",
            " |   |      numpy.lib.stride_tricks.as_strided\n",
            " |   |      \n",
            " |   |      Examples\n",
            " |   |      --------\n",
            " |   |      >>> y = np.reshape(np.arange(2*3*4), (2,3,4))\n",
            " |   |      >>> y\n",
            " |   |      array([[[ 0,  1,  2,  3],\n",
            " |   |              [ 4,  5,  6,  7],\n",
            " |   |              [ 8,  9, 10, 11]],\n",
            " |   |             [[12, 13, 14, 15],\n",
            " |   |              [16, 17, 18, 19],\n",
            " |   |              [20, 21, 22, 23]]])\n",
            " |   |      >>> y.strides\n",
            " |   |      (48, 16, 4)\n",
            " |   |      >>> y[1,1,1]\n",
            " |   |      17\n",
            " |   |      >>> offset=sum(y.strides * np.array((1,1,1)))\n",
            " |   |      >>> offset/y.itemsize\n",
            " |   |      17\n",
            " |   |      \n",
            " |   |      >>> x = np.reshape(np.arange(5*6*7*8), (5,6,7,8)).transpose(2,3,1,0)\n",
            " |   |      >>> x.strides\n",
            " |   |      (32, 4, 224, 1344)\n",
            " |   |      >>> i = np.array([3,5,2,2])\n",
            " |   |      >>> offset = sum(i * x.strides)\n",
            " |   |      >>> x[3,5,2,2]\n",
            " |   |      813\n",
            " |   |      >>> offset / x.itemsize\n",
            " |   |      813\n",
            " |   |  \n",
            " |   |  ----------------------------------------------------------------------\n",
            " |   |  Data and other attributes inherited from ndarray:\n",
            " |   |  \n",
            " |   |  __hash__ = None\n",
            " |  \n",
            " |  ----------------------------------------------------------------------\n",
            " |  Data descriptors inherited from AxisConcatenator:\n",
            " |  \n",
            " |  __dict__\n",
            " |      dictionary for instance variables (if defined)\n",
            " |  \n",
            " |  __weakref__\n",
            " |      list of weak references to the object (if defined)\n",
            "\n"
          ]
        }
      ]
    },
    {
      "cell_type": "code",
      "source": [
        "import numpy as np\n",
        "a = np.array([1,2,3])\n",
        "b = np.array([4,5,6])"
      ],
      "metadata": {
        "id": "phWZ3dZkvTwa"
      },
      "execution_count": 220,
      "outputs": []
    },
    {
      "cell_type": "code",
      "source": [
        "np.c_[a,b]"
      ],
      "metadata": {
        "colab": {
          "base_uri": "https://localhost:8080/"
        },
        "id": "76VbBjiX0NlG",
        "outputId": "1028862e-a901-43fb-cd3b-cb41607c0b4a"
      },
      "execution_count": 221,
      "outputs": [
        {
          "output_type": "execute_result",
          "data": {
            "text/plain": [
              "array([[1, 4],\n",
              "       [2, 5],\n",
              "       [3, 6]])"
            ]
          },
          "metadata": {},
          "execution_count": 221
        }
      ]
    },
    {
      "cell_type": "code",
      "source": [
        "np.column_stack((a,b))"
      ],
      "metadata": {
        "colab": {
          "base_uri": "https://localhost:8080/"
        },
        "id": "2VsK7cgG0QmQ",
        "outputId": "d036cfdc-f0ae-4b1d-9a56-161afcb7f569"
      },
      "execution_count": 222,
      "outputs": [
        {
          "output_type": "execute_result",
          "data": {
            "text/plain": [
              "array([[1, 4],\n",
              "       [2, 5],\n",
              "       [3, 6]])"
            ]
          },
          "metadata": {},
          "execution_count": 222
        }
      ]
    },
    {
      "cell_type": "code",
      "source": [
        "x = np.array([[1,2,3]])\n",
        "y = np.array([[4,5,6]])"
      ],
      "metadata": {
        "id": "CUpP72jp0h6C"
      },
      "execution_count": 223,
      "outputs": []
    },
    {
      "cell_type": "code",
      "source": [
        "np.c_[x,y]"
      ],
      "metadata": {
        "colab": {
          "base_uri": "https://localhost:8080/"
        },
        "id": "w4krHG1i0wC4",
        "outputId": "512c0032-1a7d-45fe-9dc3-3041438cbe59"
      },
      "execution_count": 224,
      "outputs": [
        {
          "output_type": "execute_result",
          "data": {
            "text/plain": [
              "array([[1, 2, 3, 4, 5, 6]])"
            ]
          },
          "metadata": {},
          "execution_count": 224
        }
      ]
    },
    {
      "cell_type": "markdown",
      "source": [
        "## np.r_[] 개요"
      ],
      "metadata": {
        "id": "Pq1_k28s0xx7"
      }
    },
    {
      "cell_type": "code",
      "source": [
        "import numpy as np\n",
        "a = np.array([1,2,3])\n",
        "b = np.array([4,5,6])\n",
        "np.r_[a,b]"
      ],
      "metadata": {
        "id": "9bNN6lynBOeu",
        "colab": {
          "base_uri": "https://localhost:8080/"
        },
        "outputId": "8949e69d-9836-4094-edad-e2b0504996e9"
      },
      "execution_count": 225,
      "outputs": [
        {
          "output_type": "execute_result",
          "data": {
            "text/plain": [
              "array([1, 2, 3, 4, 5, 6])"
            ]
          },
          "metadata": {},
          "execution_count": 225
        }
      ]
    },
    {
      "cell_type": "code",
      "source": [
        "np.hstack((a,b))"
      ],
      "metadata": {
        "colab": {
          "base_uri": "https://localhost:8080/"
        },
        "id": "Nh9DfMZ0BXDA",
        "outputId": "6586cb9c-5704-40d7-86e9-27f7eb7562f2"
      },
      "execution_count": 227,
      "outputs": [
        {
          "output_type": "execute_result",
          "data": {
            "text/plain": [
              "array([1, 2, 3, 4, 5, 6])"
            ]
          },
          "metadata": {},
          "execution_count": 227
        }
      ]
    },
    {
      "cell_type": "code",
      "source": [
        "np.row_stack((a,b))"
      ],
      "metadata": {
        "colab": {
          "base_uri": "https://localhost:8080/"
        },
        "id": "Ffi3Fw44BY42",
        "outputId": "58651df8-62c5-41a7-f2c6-6fe8247b324e"
      },
      "execution_count": 228,
      "outputs": [
        {
          "output_type": "execute_result",
          "data": {
            "text/plain": [
              "array([[1, 2, 3],\n",
              "       [4, 5, 6]])"
            ]
          },
          "metadata": {},
          "execution_count": 228
        }
      ]
    },
    {
      "cell_type": "code",
      "source": [
        "np.r_[a,0,0,b]"
      ],
      "metadata": {
        "colab": {
          "base_uri": "https://localhost:8080/"
        },
        "id": "q2K_9d3TBaOu",
        "outputId": "6aa05e28-2ffe-455b-a61d-2f4587859387"
      },
      "execution_count": 229,
      "outputs": [
        {
          "output_type": "execute_result",
          "data": {
            "text/plain": [
              "array([1, 2, 3, 0, 0, 4, 5, 6])"
            ]
          },
          "metadata": {},
          "execution_count": 229
        }
      ]
    },
    {
      "cell_type": "code",
      "source": [
        "np.r_[3:10:3,[0]*2,5,6]"
      ],
      "metadata": {
        "colab": {
          "base_uri": "https://localhost:8080/"
        },
        "id": "ecc9M94EBoP7",
        "outputId": "84543006-e3c7-49ff-9e51-8c3058b95c37"
      },
      "execution_count": 230,
      "outputs": [
        {
          "output_type": "execute_result",
          "data": {
            "text/plain": [
              "array([3, 6, 9, 0, 0, 5, 6])"
            ]
          },
          "metadata": {},
          "execution_count": 230
        }
      ]
    },
    {
      "cell_type": "code",
      "source": [
        "np.r_[-1:1:6j, [0]*2,5,6]"
      ],
      "metadata": {
        "colab": {
          "base_uri": "https://localhost:8080/"
        },
        "id": "jt0TnK2fBvFv",
        "outputId": "3fcef703-0024-40be-a8c6-f170f93aa4b7"
      },
      "execution_count": 231,
      "outputs": [
        {
          "output_type": "execute_result",
          "data": {
            "text/plain": [
              "array([-1. , -0.6, -0.2,  0.2,  0.6,  1. ,  0. ,  0. ,  5. ,  6. ])"
            ]
          },
          "metadata": {},
          "execution_count": 231
        }
      ]
    },
    {
      "cell_type": "code",
      "source": [
        "np.linspace(-1,1,6)"
      ],
      "metadata": {
        "colab": {
          "base_uri": "https://localhost:8080/"
        },
        "id": "rGDrDJ-tB1aj",
        "outputId": "97d9ca97-be66-4c2a-d492-eb9453d9c9af"
      },
      "execution_count": 232,
      "outputs": [
        {
          "output_type": "execute_result",
          "data": {
            "text/plain": [
              "array([-1. , -0.6, -0.2,  0.2,  0.6,  1. ])"
            ]
          },
          "metadata": {},
          "execution_count": 232
        }
      ]
    },
    {
      "cell_type": "markdown",
      "source": [
        "## np.r_['i, j, k', a , b]"
      ],
      "metadata": {
        "id": "J3TRmJAhC68f"
      }
    },
    {
      "cell_type": "code",
      "source": [
        "a = np.array([[0,1,2],[3,4,5]])\n",
        "a"
      ],
      "metadata": {
        "colab": {
          "base_uri": "https://localhost:8080/"
        },
        "id": "a8iI6SL5DJJN",
        "outputId": "ccb11960-98da-4c16-dd56-3badb6145f2c"
      },
      "execution_count": 233,
      "outputs": [
        {
          "output_type": "execute_result",
          "data": {
            "text/plain": [
              "array([[0, 1, 2],\n",
              "       [3, 4, 5]])"
            ]
          },
          "metadata": {},
          "execution_count": 233
        }
      ]
    },
    {
      "cell_type": "code",
      "source": [
        "np.r_[a,a,a]"
      ],
      "metadata": {
        "colab": {
          "base_uri": "https://localhost:8080/"
        },
        "id": "P4h00L1GDnJV",
        "outputId": "f28676b8-2e3a-40af-c53a-40c31716a80a"
      },
      "execution_count": 234,
      "outputs": [
        {
          "output_type": "execute_result",
          "data": {
            "text/plain": [
              "array([[0, 1, 2],\n",
              "       [3, 4, 5],\n",
              "       [0, 1, 2],\n",
              "       [3, 4, 5],\n",
              "       [0, 1, 2],\n",
              "       [3, 4, 5]])"
            ]
          },
          "metadata": {},
          "execution_count": 234
        }
      ]
    },
    {
      "cell_type": "code",
      "source": [
        "np.r_['0',a,a]"
      ],
      "metadata": {
        "colab": {
          "base_uri": "https://localhost:8080/"
        },
        "id": "0TG7U3xuDpcM",
        "outputId": "7c5c85bc-bf70-4870-f0ee-0f4a65498349"
      },
      "execution_count": 235,
      "outputs": [
        {
          "output_type": "execute_result",
          "data": {
            "text/plain": [
              "array([[0, 1, 2],\n",
              "       [3, 4, 5],\n",
              "       [0, 1, 2],\n",
              "       [3, 4, 5]])"
            ]
          },
          "metadata": {},
          "execution_count": 235
        }
      ]
    },
    {
      "cell_type": "code",
      "source": [
        "np.r_['-1',a,a]"
      ],
      "metadata": {
        "colab": {
          "base_uri": "https://localhost:8080/"
        },
        "id": "7ucZKyNHDta_",
        "outputId": "41150a4a-7556-4557-dc13-d85d39ec0987"
      },
      "execution_count": 236,
      "outputs": [
        {
          "output_type": "execute_result",
          "data": {
            "text/plain": [
              "array([[0, 1, 2, 0, 1, 2],\n",
              "       [3, 4, 5, 3, 4, 5]])"
            ]
          },
          "metadata": {},
          "execution_count": 236
        }
      ]
    },
    {
      "cell_type": "code",
      "source": [
        "np.r_['1',a,a]"
      ],
      "metadata": {
        "colab": {
          "base_uri": "https://localhost:8080/"
        },
        "id": "NSckO9wND1eH",
        "outputId": "1b5eef6d-c81b-4029-9a89-6a8c7a22a2b4"
      },
      "execution_count": 237,
      "outputs": [
        {
          "output_type": "execute_result",
          "data": {
            "text/plain": [
              "array([[0, 1, 2, 0, 1, 2],\n",
              "       [3, 4, 5, 3, 4, 5]])"
            ]
          },
          "metadata": {},
          "execution_count": 237
        }
      ]
    },
    {
      "cell_type": "code",
      "source": [
        "np.r_['0,2',[1,2,3],[4,5,6]]"
      ],
      "metadata": {
        "colab": {
          "base_uri": "https://localhost:8080/"
        },
        "id": "i1u5EDEmD6-H",
        "outputId": "20c43cd7-1706-49be-e636-4e8cb2fdc06a"
      },
      "execution_count": 238,
      "outputs": [
        {
          "output_type": "execute_result",
          "data": {
            "text/plain": [
              "array([[1, 2, 3],\n",
              "       [4, 5, 6]])"
            ]
          },
          "metadata": {},
          "execution_count": 238
        }
      ]
    },
    {
      "cell_type": "code",
      "source": [
        "np.r_['0,3',[1,2,3],[4,5,6]]"
      ],
      "metadata": {
        "colab": {
          "base_uri": "https://localhost:8080/"
        },
        "id": "sZek8UCCPPkG",
        "outputId": "1c941937-f7ef-4be6-8d4e-d28ed7015e9a"
      },
      "execution_count": 239,
      "outputs": [
        {
          "output_type": "execute_result",
          "data": {
            "text/plain": [
              "array([[[1, 2, 3]],\n",
              "\n",
              "       [[4, 5, 6]]])"
            ]
          },
          "metadata": {},
          "execution_count": 239
        }
      ]
    },
    {
      "cell_type": "code",
      "source": [
        "np.r_['0,3,0',[1,2,3],[4,5,6]]"
      ],
      "metadata": {
        "colab": {
          "base_uri": "https://localhost:8080/"
        },
        "id": "e2AcQvi0PRsX",
        "outputId": "a1e06fc7-72e5-4d1a-ab55-9cb3f2ba07fc"
      },
      "execution_count": 240,
      "outputs": [
        {
          "output_type": "execute_result",
          "data": {
            "text/plain": [
              "array([[[1]],\n",
              "\n",
              "       [[2]],\n",
              "\n",
              "       [[3]],\n",
              "\n",
              "       [[4]],\n",
              "\n",
              "       [[5]],\n",
              "\n",
              "       [[6]]])"
            ]
          },
          "metadata": {},
          "execution_count": 240
        }
      ]
    },
    {
      "cell_type": "code",
      "source": [
        "np.r_['0,3,0',[1,2,3],[4,5,6]].shape"
      ],
      "metadata": {
        "colab": {
          "base_uri": "https://localhost:8080/"
        },
        "id": "CMC3QMJbPWrD",
        "outputId": "249e537b-90fb-47e2-9bca-b93bcf7ab71d"
      },
      "execution_count": 241,
      "outputs": [
        {
          "output_type": "execute_result",
          "data": {
            "text/plain": [
              "(6, 1, 1)"
            ]
          },
          "metadata": {},
          "execution_count": 241
        }
      ]
    },
    {
      "cell_type": "code",
      "source": [
        "np.r_['0,3,1',[1,2,3],[4,5,6]]"
      ],
      "metadata": {
        "colab": {
          "base_uri": "https://localhost:8080/"
        },
        "id": "kMxvAJD0Pa2m",
        "outputId": "637f9b07-676a-460d-c3f3-278c4cc9e342"
      },
      "execution_count": 242,
      "outputs": [
        {
          "output_type": "execute_result",
          "data": {
            "text/plain": [
              "array([[[1],\n",
              "        [2],\n",
              "        [3]],\n",
              "\n",
              "       [[4],\n",
              "        [5],\n",
              "        [6]]])"
            ]
          },
          "metadata": {},
          "execution_count": 242
        }
      ]
    },
    {
      "cell_type": "code",
      "source": [
        "np.r_['0,3,1',[1,2,3],[4,5,6]].shape"
      ],
      "metadata": {
        "colab": {
          "base_uri": "https://localhost:8080/"
        },
        "id": "8BB-dOhnPdDt",
        "outputId": "b2d50280-64a0-44b5-9728-17c4e9322313"
      },
      "execution_count": 243,
      "outputs": [
        {
          "output_type": "execute_result",
          "data": {
            "text/plain": [
              "(2, 3, 1)"
            ]
          },
          "metadata": {},
          "execution_count": 243
        }
      ]
    },
    {
      "cell_type": "code",
      "source": [
        "np.r_['0,3,2',[1,2,3],[4,5,6]]"
      ],
      "metadata": {
        "colab": {
          "base_uri": "https://localhost:8080/"
        },
        "id": "AmYFsmCgPd67",
        "outputId": "542a51d9-5fbc-4c3c-c4da-83f5f67f4674"
      },
      "execution_count": 244,
      "outputs": [
        {
          "output_type": "execute_result",
          "data": {
            "text/plain": [
              "array([[[1, 2, 3]],\n",
              "\n",
              "       [[4, 5, 6]]])"
            ]
          },
          "metadata": {},
          "execution_count": 244
        }
      ]
    },
    {
      "cell_type": "markdown",
      "source": [
        "## 여러 1차원 배열을 수평 방향으로 합치는 방법"
      ],
      "metadata": {
        "id": "BFDEdGJiPhVp"
      }
    },
    {
      "cell_type": "code",
      "source": [
        "import numpy as np\n",
        "\n",
        "a = np.array([1,2,3])\n",
        "b = np.array([4,5,6])\n",
        "print(a.shape)\n",
        "print(b.shape)"
      ],
      "metadata": {
        "colab": {
          "base_uri": "https://localhost:8080/"
        },
        "id": "Va_lLSD8PosY",
        "outputId": "7b6f76dd-c516-4680-8c52-ecf571b21f22"
      },
      "execution_count": 245,
      "outputs": [
        {
          "output_type": "stream",
          "name": "stdout",
          "text": [
            "(3,)\n",
            "(3,)\n"
          ]
        }
      ]
    },
    {
      "cell_type": "code",
      "source": [
        "np.hstack((a,b))"
      ],
      "metadata": {
        "colab": {
          "base_uri": "https://localhost:8080/"
        },
        "id": "CuUzH_dRP1Z-",
        "outputId": "b2a2191c-f4fd-458c-a786-0f4c563d699a"
      },
      "execution_count": 246,
      "outputs": [
        {
          "output_type": "execute_result",
          "data": {
            "text/plain": [
              "array([1, 2, 3, 4, 5, 6])"
            ]
          },
          "metadata": {},
          "execution_count": 246
        }
      ]
    },
    {
      "cell_type": "code",
      "source": [
        "np.r_[a,b]"
      ],
      "metadata": {
        "colab": {
          "base_uri": "https://localhost:8080/"
        },
        "id": "bntoz_fzP5DY",
        "outputId": "4d392e67-5309-450d-bc17-180cc7fc5a90"
      },
      "execution_count": 247,
      "outputs": [
        {
          "output_type": "execute_result",
          "data": {
            "text/plain": [
              "array([1, 2, 3, 4, 5, 6])"
            ]
          },
          "metadata": {},
          "execution_count": 247
        }
      ]
    },
    {
      "cell_type": "code",
      "source": [
        "np.concatenate((a,b))"
      ],
      "metadata": {
        "colab": {
          "base_uri": "https://localhost:8080/"
        },
        "id": "k6OEswX_P5nn",
        "outputId": "44bd4464-ad36-4803-aac4-9436e64c0a3d"
      },
      "execution_count": 248,
      "outputs": [
        {
          "output_type": "execute_result",
          "data": {
            "text/plain": [
              "array([1, 2, 3, 4, 5, 6])"
            ]
          },
          "metadata": {},
          "execution_count": 248
        }
      ]
    },
    {
      "cell_type": "markdown",
      "source": [
        "## 여러 1차원 배열을 수직 방향으로 합치는 방법"
      ],
      "metadata": {
        "id": "L-QBC4TnP9wM"
      }
    },
    {
      "cell_type": "code",
      "source": [
        "import numpy as np\n",
        "\n",
        "a = np.array([1,2,3])\n",
        "b = np.array([4,5,6])\n",
        "\n",
        "print(a.shape)\n",
        "print(b.shape)"
      ],
      "metadata": {
        "colab": {
          "base_uri": "https://localhost:8080/"
        },
        "id": "9dfVOcdtQCae",
        "outputId": "42a7b689-adef-4212-f229-30bac982b551"
      },
      "execution_count": 249,
      "outputs": [
        {
          "output_type": "stream",
          "name": "stdout",
          "text": [
            "(3,)\n",
            "(3,)\n"
          ]
        }
      ]
    },
    {
      "cell_type": "code",
      "source": [
        "np.vstack((a,b))"
      ],
      "metadata": {
        "colab": {
          "base_uri": "https://localhost:8080/"
        },
        "id": "LTdVn5BEQFGk",
        "outputId": "e86763f0-e953-4735-ac3e-685ccc893578"
      },
      "execution_count": 250,
      "outputs": [
        {
          "output_type": "execute_result",
          "data": {
            "text/plain": [
              "array([[1, 2, 3],\n",
              "       [4, 5, 6]])"
            ]
          },
          "metadata": {},
          "execution_count": 250
        }
      ]
    },
    {
      "cell_type": "code",
      "source": [
        "np.row_stack((a,b))"
      ],
      "metadata": {
        "colab": {
          "base_uri": "https://localhost:8080/"
        },
        "id": "-4y6LyWuQH3t",
        "outputId": "8dcc24b6-1482-4cc7-c49f-d90c514076a3"
      },
      "execution_count": 251,
      "outputs": [
        {
          "output_type": "execute_result",
          "data": {
            "text/plain": [
              "array([[1, 2, 3],\n",
              "       [4, 5, 6]])"
            ]
          },
          "metadata": {},
          "execution_count": 251
        }
      ]
    },
    {
      "cell_type": "code",
      "source": [
        "np.r_[a[np.newaxis,:],b[np.newaxis,:]]"
      ],
      "metadata": {
        "colab": {
          "base_uri": "https://localhost:8080/"
        },
        "id": "jnZa1ssyQKKv",
        "outputId": "f9265889-6b89-43f5-fe7a-ed26e620b1c1"
      },
      "execution_count": 252,
      "outputs": [
        {
          "output_type": "execute_result",
          "data": {
            "text/plain": [
              "array([[1, 2, 3],\n",
              "       [4, 5, 6]])"
            ]
          },
          "metadata": {},
          "execution_count": 252
        }
      ]
    },
    {
      "cell_type": "code",
      "source": [
        "np.concatenate((a[np.newaxis,:],b[np.newaxis,:]))"
      ],
      "metadata": {
        "colab": {
          "base_uri": "https://localhost:8080/"
        },
        "id": "pP7_YZV9QNMs",
        "outputId": "9e8ece34-b1db-4349-885b-5f2a97710f1d"
      },
      "execution_count": 253,
      "outputs": [
        {
          "output_type": "execute_result",
          "data": {
            "text/plain": [
              "array([[1, 2, 3],\n",
              "       [4, 5, 6]])"
            ]
          },
          "metadata": {},
          "execution_count": 253
        }
      ]
    },
    {
      "cell_type": "markdown",
      "source": [
        "## 여러 1차원 배열을 행으로 확장해 수평 방향으로 합치는 방법"
      ],
      "metadata": {
        "id": "78g5ic3GQTUL"
      }
    },
    {
      "cell_type": "code",
      "source": [
        "import numpy as np\n",
        "\n",
        "a = np.array([1,2,3])\n",
        "b = np.array([4,5,6])\n",
        "\n",
        "print(a.shape)\n",
        "print(b.shape)"
      ],
      "metadata": {
        "colab": {
          "base_uri": "https://localhost:8080/"
        },
        "id": "IkoPC4xKQbhD",
        "outputId": "1f5d6fa2-575c-4ad0-aab9-84bc0953293c"
      },
      "execution_count": 254,
      "outputs": [
        {
          "output_type": "stream",
          "name": "stdout",
          "text": [
            "(3,)\n",
            "(3,)\n"
          ]
        }
      ]
    },
    {
      "cell_type": "code",
      "source": [
        "np.column_stack((a,b))"
      ],
      "metadata": {
        "colab": {
          "base_uri": "https://localhost:8080/"
        },
        "id": "EpIdPv5VQe_6",
        "outputId": "d050108b-8c2b-4541-e629-70f88c0d2916"
      },
      "execution_count": 255,
      "outputs": [
        {
          "output_type": "execute_result",
          "data": {
            "text/plain": [
              "array([[1, 4],\n",
              "       [2, 5],\n",
              "       [3, 6]])"
            ]
          },
          "metadata": {},
          "execution_count": 255
        }
      ]
    },
    {
      "cell_type": "code",
      "source": [
        "np.hstack((a[:,np.newaxis],b[:,np.newaxis]))"
      ],
      "metadata": {
        "colab": {
          "base_uri": "https://localhost:8080/"
        },
        "id": "xum0Okb1QhM9",
        "outputId": "293abb76-391f-4803-8dca-54511df82cb6"
      },
      "execution_count": 256,
      "outputs": [
        {
          "output_type": "execute_result",
          "data": {
            "text/plain": [
              "array([[1, 4],\n",
              "       [2, 5],\n",
              "       [3, 6]])"
            ]
          },
          "metadata": {},
          "execution_count": 256
        }
      ]
    },
    {
      "cell_type": "code",
      "source": [
        "np.r_[a,b]"
      ],
      "metadata": {
        "colab": {
          "base_uri": "https://localhost:8080/"
        },
        "id": "0VgW8qlDQlz1",
        "outputId": "b669859a-4e4b-4d6e-c187-f04f9de03250"
      },
      "execution_count": 257,
      "outputs": [
        {
          "output_type": "execute_result",
          "data": {
            "text/plain": [
              "array([1, 2, 3, 4, 5, 6])"
            ]
          },
          "metadata": {},
          "execution_count": 257
        }
      ]
    },
    {
      "cell_type": "code",
      "source": [
        "np.concatenate(((a[:,np.newaxis],b[:,np.newaxis])),axis=1)"
      ],
      "metadata": {
        "colab": {
          "base_uri": "https://localhost:8080/"
        },
        "id": "3k9y-CM8QoOy",
        "outputId": "8ba0ad7e-f5ed-465d-fb08-877df3643c36"
      },
      "execution_count": 258,
      "outputs": [
        {
          "output_type": "execute_result",
          "data": {
            "text/plain": [
              "array([[1, 4],\n",
              "       [2, 5],\n",
              "       [3, 6]])"
            ]
          },
          "metadata": {},
          "execution_count": 258
        }
      ]
    }
  ]
}