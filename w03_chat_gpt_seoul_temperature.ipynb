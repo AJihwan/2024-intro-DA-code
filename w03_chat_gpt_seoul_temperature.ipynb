{
  "nbformat": 4,
  "nbformat_minor": 0,
  "metadata": {
    "colab": {
      "provenance": [],
      "authorship_tag": "ABX9TyPuN2EC7Z9b0I7ivXEvM65e",
      "include_colab_link": true
    },
    "kernelspec": {
      "name": "python3",
      "display_name": "Python 3"
    },
    "language_info": {
      "name": "python"
    }
  },
  "cells": [
    {
      "cell_type": "markdown",
      "metadata": {
        "id": "view-in-github",
        "colab_type": "text"
      },
      "source": [
        "<a href=\"https://colab.research.google.com/github/AJihwan/2024-intro-DA-code/blob/main/w03_chat_gpt_seoul_temperature.ipynb\" target=\"_parent\"><img src=\"https://colab.research.google.com/assets/colab-badge.svg\" alt=\"Open In Colab\"/></a>"
      ]
    },
    {
      "cell_type": "code",
      "execution_count": 3,
      "metadata": {
        "colab": {
          "base_uri": "https://localhost:8080/"
        },
        "id": "RYNG81mhd6RB",
        "outputId": "bca80034-2c51-4852-b5e5-66425e709f4d"
      },
      "outputs": [
        {
          "output_type": "stream",
          "name": "stdout",
          "text": [
            "기상 관측 이래 서울이 최고 기온이 가장 높았던 날은 2018-08-01로 39.6도 였습니다.\n"
          ]
        }
      ],
      "source": [
        "import csv\n",
        "\n",
        "max_temp = -999\n",
        "max_date = ''\n",
        "\n",
        "# CSV 파일을 cp949 인코딩으로 열기\n",
        "with open('seoul.csv', 'r', encoding='cp949') as f:\n",
        "    data = csv.reader(f)\n",
        "    header = next(data)  # 헤더를 건너뜁니다\n",
        "\n",
        "    for row in data:\n",
        "        # 기온이 결측된 경우 처리\n",
        "        if row[4] == '':\n",
        "            row[4] = -999\n",
        "        else:\n",
        "            row[4] = float(row[4])\n",
        "\n",
        "        # 새로운 최고 기온을 찾은 경우 max_temp와 max_date 업데이트\n",
        "        if row[4] > max_temp:\n",
        "            max_temp = row[4]\n",
        "            max_date = row[0].strip()\n",
        "\n",
        "# 결과 출력\n",
        "print(f'기상 관측 이래 서울이 최고 기온이 가장 높았던 날은 {max_date}로 {max_temp}도 였습니다.')"
      ]
    }
  ]
}